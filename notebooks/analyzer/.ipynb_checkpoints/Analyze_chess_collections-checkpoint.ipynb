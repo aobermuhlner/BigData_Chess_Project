{
 "cells": [
  {
   "cell_type": "code",
   "execution_count": null,
   "id": "0fa65119-9bb5-414c-9d35-56f15d211435",
   "metadata": {},
   "outputs": [],
   "source": [
    "import pandas as pd\n",
    "import tqdm\n",
    "\n",
    "def process_games(file_path, start_game=0, end_game=None, batch_size=500000):\n",
    "    \"\"\"\n",
    "    Process games from a CSV file and expand the move sequences into individual rows,\n",
    "    keeping a running sequence of all moves up to the current move. Adds a 'batch' column to indicate the batch number.\n",
    "    Increments the count for duplicate positions across batches.\n",
    "\n",
    "    :param file_path: Path to the CSV file.\n",
    "    :param start_game: Index of the first game to process (0-indexed).\n",
    "    :param end_game: Index of the last game to process (exclusive, None processes all).\n",
    "    :param batch_size: The number of games per batch.\n",
    "    \"\"\"\n",
    "    games = pd.read_csv(file_path)\n",
    "\n",
    "    # Slice the DataFrame to only include the specified range of games\n",
    "    games_to_process = games.iloc[start_game:end_game]\n",
    "    \n",
    "    # Use a dictionary to store position, move number, and count\n",
    "    position_dict = {}\n",
    "\n",
    "    for index, game in tqdm.tqdm(enumerate(games_to_process.iterrows(), start=start_game), total=games_to_process.shape[0]):\n",
    "        _, game = game  # game is a tuple of (index, Series)\n",
    "\n",
    "        # Check if 'moves' is not empty\n",
    "        if not game['moves'] or pd.isna(game['moves']):\n",
    "            continue  # Skip if moves are empty\n",
    "\n",
    "        moves = eval(game['moves'])\n",
    "        move_sequence = ''\n",
    "        batch_number = (index // batch_size) + 1\n",
    "\n",
    "        for move_number, move in enumerate(moves, start=1):\n",
    "            move_sequence += move + ' '\n",
    "            position = move_sequence.strip()\n",
    "\n",
    "            # Use a composite key of position and move number\n",
    "            key = (position, move_number)\n",
    "\n",
    "            if key in position_dict:\n",
    "                position_dict[key]['count'] += 1\n",
    "            else:\n",
    "                position_dict[key] = {'position': position, 'move_number': move_number, 'batch': batch_number, 'count': 1}\n",
    "\n",
    "    # Convert the dictionary to a DataFrame\n",
    "    ####################################################################\n",
    "    #expanded_moves_df = pd.DataFrame.from_dict(position_dict, orient='index').reset_index(drop=True)\n",
    "    # Initialize an empty DataFrame\n",
    "    expanded_moves_df = pd.DataFrame()\n",
    "\n",
    "    # Determine the chunk size\n",
    "    chunk_size = len(position_dict) // 5  # Adjust this based on your needs\n",
    "\n",
    "    # Collect keys in batches and delete them after processing each batch\n",
    "    for chunk in range(0, len(position_dict), chunk_size):\n",
    "        # Extract a chunk of keys\n",
    "        chunk_keys = list(position_dict.keys())[chunk:chunk + chunk_size]\n",
    "\n",
    "        # Convert chunk to DataFrame and append it\n",
    "        chunk_dict = {key: position_dict[key] for key in chunk_keys}\n",
    "        temp_df = pd.DataFrame.from_dict(chunk_dict, orient='index')\n",
    "        expanded_moves_df = pd.concat([expanded_moves_df, temp_df], ignore_index=True)\n",
    "\n",
    "        # Delete the processed keys from the original dictionary\n",
    "        for key in chunk_keys:\n",
    "            del position_dict[key]\n",
    "\n",
    "        # Optional: Call garbage collector to free up memory\n",
    "        import gc\n",
    "        gc.collect()\n",
    "\n",
    "    return expanded_moves_df\n"
   ]
  },
  {
   "cell_type": "code",
   "execution_count": null,
   "id": "7e697c5b-c838-4c21-a8ac-3560746529ef",
   "metadata": {
    "tags": []
   },
   "outputs": [],
   "source": [
    "\n",
    "\n",
    "# Example usage\n",
    "file_path = '../../testData/splitted_games/processed_moves2.csv'\n",
    "processed_games_df = process_games(file_path, start_game=0, end_game=1000000, batch_size=1000000)\n"
   ]
  },
  {
   "cell_type": "code",
   "execution_count": null,
   "id": "c907d50a-5a7d-4f72-85fd-e76ae87ecae5",
   "metadata": {
    "tags": []
   },
   "outputs": [],
   "source": [
    "processed_games_df"
   ]
  },
  {
   "cell_type": "code",
   "execution_count": null,
   "id": "dd80ddd8-d955-4893-9dd1-c51fecac23a3",
   "metadata": {},
   "outputs": [],
   "source": [
    "processed_games_df.to_csv('../../testData/splitted_games/processed_games_moves.csv', index=False)\n"
   ]
  },
  {
   "cell_type": "code",
   "execution_count": null,
   "id": "c06f6a17-d103-4334-b99a-7049922b0194",
   "metadata": {},
   "outputs": [],
   "source": [
    "num_rows = processed_games_df.shape[0]\n",
    "print(f\"The number of rows in the DataFrame is: {num_rows}\")\n"
   ]
  },
  {
   "cell_type": "code",
   "execution_count": null,
   "id": "9cc3e3ee-e017-41a9-825a-248475b231fe",
   "metadata": {
    "tags": []
   },
   "outputs": [],
   "source": [
    "# Aggregate and count where move_number is 1, considering the batch\n",
    "move_one_counts = processed_games_df[processed_games_df['move_number'] == 1].groupby(['batch', 'position']).size().reset_index(name='count')\n",
    "# Aggregate and count occurrences for each unique position sequence at each move number\n",
    "move_counts = processed_games_df.groupby(['move_number', 'batch', 'position']).size().reset_index(name='count')\n"
   ]
  },
  {
   "cell_type": "code",
   "execution_count": null,
   "id": "6df2c6c1-cbdc-473e-81f6-a518ba43c36a",
   "metadata": {
    "tags": []
   },
   "outputs": [],
   "source": [
    "import matplotlib.pyplot as plt\n",
    "\n",
    "# Count unique positions per move sequence\n",
    "unique_positions_per_move = processed_games_df.groupby('move_number')['position'].nunique()\n",
    "\n",
    "# Get the total count of positions per move\n",
    "total_positions_per_move = processed_games_df.groupby('move_number').size()\n",
    "\n",
    "# Plot the data\n",
    "plt.figure(figsize=(10, 6))\n",
    "\n",
    "# Bar plot for unique positions\n",
    "unique_positions_per_move.plot(kind='bar', alpha=0.5, label='Unique Positions')\n",
    "\n",
    "# Line plot for total count of positions\n",
    "total_positions_per_move.plot(kind='line', color='red', marker='o', label='Total Count of Positions')\n",
    "\n",
    "plt.title('Unique Positions and Total Count of Positions per Move Sequence')\n",
    "plt.xlabel('Move Number')\n",
    "plt.ylabel('Count')\n",
    "plt.xticks(rotation=0)  # Keep the x-axis labels readable\n",
    "plt.legend()\n",
    "plt.tight_layout()\n",
    "plt.show()\n"
   ]
  },
  {
   "cell_type": "code",
   "execution_count": null,
   "id": "90137302-c584-42a0-bfb4-c6a10cd30640",
   "metadata": {},
   "outputs": [],
   "source": [
    "filtered_df_true = processed_games_df[(processed_games_df['move_number'] == 3) & (processed_games_df['is_unique'])].groupby('move_number').size()\n",
    "filtered_df_false = processed_games_df[(processed_games_df['move_number'] == 3) & (~processed_games_df['is_unique'])].groupby('move_number').size()\n",
    "print(filtered_df)\n"
   ]
  },
  {
   "cell_type": "code",
   "execution_count": null,
   "id": "bc251e94-e5e5-4a50-9058-ac7a0037487f",
   "metadata": {
    "tags": []
   },
   "outputs": [],
   "source": [
    "import pandas as pd\n",
    "import matplotlib.pyplot as plt\n",
    "\n",
    "# Count the number of unique and duplicate positions per move sequence\n",
    "count_df = processed_games_df.groupby(['move_number', 'is_unique']).size().unstack(fill_value=0)\n",
    "count_df.columns = ['Unique', 'Not Unique']  # Rename columns for clarity, ensuring correct order\n",
    "\n",
    "# Create the plot\n",
    "plt.figure(figsize=(12, 6))\n",
    "ax = count_df.plot(kind='bar', stacked=True, color=['skyblue', 'salmon'], figsize=(12, 6))  # Adjust colors to match labels\n",
    "plt.title('Count of Unique and Not Unique Positions per Move Sequence')\n",
    "plt.xlabel('Move Number')\n",
    "plt.ylabel('Count')\n",
    "plt.xticks(rotation=0)  # Keep the x-axis labels readable\n",
    "plt.legend(loc='upper right')\n",
    "\n",
    "# Annotate bars with the count of unique positions\n",
    "# Since 'Unique' is now the first column, we iterate over the first half of the patches\n",
    "for idx, rect in enumerate(ax.patches[:len(ax.patches) // 2]):  # Iterate over the unique position bars\n",
    "    height = rect.get_height()\n",
    "    count = int(count_df.iloc[idx]['Unique'])  # Access the 'Unique' count directly\n",
    "    if height > 0:  # Only annotate non-zero bars\n",
    "        ax.text(rect.get_x() + rect.get_width() / 2, height + 20, f'{count}', ha='center', va='bottom', color='black', fontsize=9)\n",
    "\n",
    "plt.tight_layout()\n",
    "plt.show()\n"
   ]
  },
  {
   "cell_type": "code",
   "execution_count": null,
   "id": "6f60c5a9-0e1b-4f98-99be-5194f6ca6ff7",
   "metadata": {},
   "outputs": [],
   "source": [
    "import matplotlib.pyplot as plt\n",
    "\n",
    "# Filter out 'not unique' positions before plotting\n",
    "unique_counts = counts[counts.index.get_level_values('is_unique')]\n",
    "\n",
    "# Plot the data\n",
    "ax = unique_counts.plot(kind='bar', figsize=(12, 6), color='green')\n",
    "plt.title('Count of Unique Positions per Move Number')\n",
    "plt.xlabel('Move Number')\n",
    "plt.ylabel('Count')\n",
    "plt.legend(['Unique'], title='Position Uniqueness')\n",
    "plt.tight_layout()\n",
    "\n",
    "# Annotate the bars with the absolute amount (only for unique positions)\n",
    "for p in ax.patches:\n",
    "    width, height = p.get_width(), p.get_height()\n",
    "    x, y = p.get_xy()\n",
    "    if height > 0:  # Only annotate non-zero bars\n",
    "        ax.annotate(f'{int(height)}', (x + width/2, y + height/2), ha='center', va='center')\n",
    "\n",
    "plt.show()\n"
   ]
  },
  {
   "cell_type": "code",
   "execution_count": null,
   "id": "00cd017f-49cf-4804-ae39-dd196027debe",
   "metadata": {
    "tags": []
   },
   "outputs": [],
   "source": [
    "import pandas as pd\n",
    "import matplotlib.pyplot as plt\n",
    "\n",
    "# Create a column to indicate whether the position is unique (count == 1) or duplicate (count > 1)\n",
    "processed_games_df['is_unique'] = processed_games_df['count'] == 1\n",
    "\n",
    "# Group by move_number and calculate the percentage of unique and duplicate positions\n",
    "percentage_df = processed_games_df.groupby('move_number')['is_unique'].value_counts(normalize=True).unstack().fillna(0) * 100\n",
    "percentage_df.columns = ['Duplicate Positions', 'Unique Positions']  # Rename columns for clarity\n",
    "\n",
    "# Create the plot\n",
    "plt.figure(figsize=(12, 6))\n",
    "ax = percentage_df.plot(kind='bar', stacked=True, color=['salmon', 'skyblue'], figsize=(12, 6))\n",
    "plt.title('Percentage of Unique and Duplicate Positions per Move Sequence')\n",
    "plt.xlabel('Move Number')\n",
    "plt.ylabel('Percentage')\n",
    "plt.xticks(rotation=0)  # Keep the x-axis labels readable\n",
    "plt.legend(loc='upper right')\n",
    "\n",
    "# Annotate bars with the percentage of duplicate positions\n",
    "for i, rect in enumerate(ax.patches[:len(ax.patches)//2]):  # Iterate over the duplicate position bars\n",
    "    height = rect.get_height()\n",
    "    percentage = percentage_df.iloc[i // 2]['Duplicate Positions'] if height > 0 else 0  # Avoid annotating zero-height bars\n",
    "    ax.text(rect.get_x() + rect.get_width() / 2.0, \n",
    "            height / 2, \n",
    "            f'{percentage:.1f}%', \n",
    "            ha='center', \n",
    "            va='center', \n",
    "            color='black',\n",
    "            fontsize=9)\n",
    "\n",
    "plt.tight_layout()\n",
    "plt.show()\n"
   ]
  },
  {
   "cell_type": "code",
   "execution_count": null,
   "id": "d38e0ac3-ff45-4d98-9a1f-e1c2a3a871d9",
   "metadata": {
    "tags": []
   },
   "outputs": [],
   "source": [
    "import pandas as pd\n",
    "import matplotlib.pyplot as plt\n",
    "import seaborn as sns\n",
    "\n",
    "# Assuming processed_games_df contains 'move_number', 'batch', and 'count' columns\n",
    "\n",
    "# Group by move_number and batch, then sum the counts\n",
    "counts_per_move_batch = processed_games_df.groupby(['move_number', 'batch'])['count'].sum().reset_index()\n",
    "\n",
    "# Pivot the data for plotting\n",
    "pivot_df = counts_per_move_batch.pivot(index='move_number', columns='batch', values='count').fillna(0)\n",
    "\n",
    "# Plotting\n",
    "plt.figure(figsize=(12, 6))\n",
    "pivot_df.plot(kind='bar', stacked=True, ax=plt.gca())\n",
    "plt.title('Count of Positions per Move Number by Batch')\n",
    "plt.xlabel('Move Number')\n",
    "plt.ylabel('Count')\n",
    "plt.legend(title='Batch', bbox_to_anchor=(1.05, 1), loc='upper left')\n",
    "plt.tight_layout()\n",
    "plt.show()\n"
   ]
  },
  {
   "cell_type": "code",
   "execution_count": null,
   "id": "d7d1970b-6438-4a67-95ce-8b6601963f79",
   "metadata": {},
   "outputs": [],
   "source": [
    "import pandas as pd\n",
    "\n",
    "# Group by move_number and batch, then sum the counts\n",
    "counts_per_move_batch = processed_games_df.groupby(['move_number', 'batch'])['count'].sum().reset_index()\n",
    "\n",
    "# Pivot the data for tabular representation\n",
    "pivot_df = counts_per_move_batch.pivot(index='move_number', columns='batch', values='count').fillna(0)\n",
    "\n",
    "# Calculate the total counts per move_number for percentage calculation\n",
    "total_counts_per_move = pivot_df.sum(axis=1)\n",
    "\n",
    "# Calculate percentages\n",
    "percentage_df = pivot_df.div(total_counts_per_move, axis=0) * 100\n",
    "\n",
    "# Display the percentage DataFrame\n",
    "print(percentage_df)\n"
   ]
  },
  {
   "cell_type": "code",
   "execution_count": null,
   "id": "c8eb67ee-33ce-474e-bcca-06761604c054",
   "metadata": {
    "tags": []
   },
   "outputs": [],
   "source": [
    "import matplotlib.pyplot as plt\n",
    "\n",
    "# Plotting the line diagram\n",
    "plt.figure(figsize=(12, 6))\n",
    "for batch in percentage_df.columns:\n",
    "    plt.plot(percentage_df.index, percentage_df[batch], marker='o', label=f'Batch {batch}')\n",
    "\n",
    "plt.title('Percentage Contribution of Each Batch per Move Number')\n",
    "plt.xlabel('Move Number')\n",
    "plt.ylabel('Percentage Contribution')\n",
    "plt.legend(title='Batch', bbox_to_anchor=(1.05, 1), loc='upper left')\n",
    "plt.grid(True)\n",
    "plt.tight_layout()\n",
    "plt.show()\n"
   ]
  },
  {
   "cell_type": "code",
   "execution_count": null,
   "id": "36568760-d17e-4f0b-8e64-5c027fd8f2b2",
   "metadata": {},
   "outputs": [],
   "source": []
  },
  {
   "cell_type": "markdown",
   "id": "ee83e42a-8e38-4f70-9063-78efc024c941",
   "metadata": {},
   "source": [
    "# Compare Player Data with Index"
   ]
  },
  {
   "cell_type": "code",
   "execution_count": null,
   "id": "ed710b4e-5bfd-428c-ab13-a2a85d33b6e9",
   "metadata": {},
   "outputs": [],
   "source": [
    "\n",
    "\n",
    "# Example usage\n",
    "file_path = '../../testData/splitted_games/processed_moves_apendra.csv'\n",
    "processed_games_apendra_df = process_games(file_path, start_game=0, end_game=2000, batch_size=2000)\n"
   ]
  },
  {
   "cell_type": "code",
   "execution_count": null,
   "id": "d1fa3240-4598-47c0-bf05-8f60bd455f14",
   "metadata": {
    "tags": []
   },
   "outputs": [],
   "source": [
    "new_moves_df = processed_games_apendra_df\n"
   ]
  },
  {
   "cell_type": "code",
   "execution_count": null,
   "id": "87047cfb-e795-4455-8e8f-eb2e4e09d7b3",
   "metadata": {},
   "outputs": [],
   "source": [
    "new_moves_df"
   ]
  },
  {
   "cell_type": "code",
   "execution_count": null,
   "id": "37421ee6-be79-44e2-825d-50171775cc56",
   "metadata": {},
   "outputs": [],
   "source": [
    "processed_games_df.set_index('position', inplace=True)\n",
    "new_moves_df.set_index('position', inplace=True)"
   ]
  },
  {
   "cell_type": "code",
   "execution_count": null,
   "id": "6f166702-eedb-40cf-a7ca-bc64e016e74b",
   "metadata": {
    "tags": []
   },
   "outputs": [],
   "source": [
    "import pandas as pd\n",
    "import matplotlib.pyplot as plt\n",
    "\n",
    "# Ensure 'position' is set as the index for both DataFrames\n",
    "\n",
    "# Using the index to check if the position exists in processed_games_df\n",
    "new_moves_df['found'] = new_moves_df.index.isin(processed_games_df.index)\n",
    "\n",
    "# Calculate the percentage of moves found and not found\n",
    "percentage_found = new_moves_df['found'].mean() * 100  # mean() is equivalent to summing True values and dividing by total length\n",
    "percentage_not_found = 100 - percentage_found\n",
    "\n",
    "# Output results\n",
    "print(f\"Percentage found: {percentage_found:.2f}%\")\n",
    "print(f\"Percentage not found: {percentage_not_found:.2f}%\")\n",
    "\n",
    "# For visualization\n",
    "data = {'Found': percentage_found, 'Not Found': percentage_not_found}\n",
    "fig, ax = plt.subplots()\n",
    "ax.bar(data.keys(), data.values(), color=['green', 'red'])\n",
    "plt.title('Percentage of New Moves Found in Processed Data')\n",
    "plt.ylabel('Percentage')\n",
    "plt.show()\n"
   ]
  },
  {
   "cell_type": "code",
   "execution_count": null,
   "id": "6683b765-e22c-48e2-8c6c-8cf5a05991fb",
   "metadata": {},
   "outputs": [],
   "source": [
    "# Assuming new_moves_df has the columns 'found' and 'move_number'\n",
    "new_moves_df = new_moves_df[~((new_moves_df['move_number'] == 1) & (new_moves_df['found'] == False))]\n"
   ]
  },
  {
   "cell_type": "code",
   "execution_count": null,
   "id": "21709356-c36f-44ca-818a-b6643a8658bd",
   "metadata": {},
   "outputs": [],
   "source": [
    "import pandas as pd\n",
    "import matplotlib.pyplot as plt\n",
    "import seaborn as sns\n",
    "\n",
    "# Let's assume new_moves_df has a 'move_number' column to indicate the move number\n",
    "# If not, you would need to create this column based on your data's structure\n",
    "\n",
    "# Group by move_number and calculate the mean 'found' value for each group\n",
    "move_found_percentage = new_moves_df.groupby('move_number')['found'].mean() * 100\n",
    "move_not_found_percentage = 100 - move_found_percentage\n",
    "\n",
    "# Prepare the data for stacking in the plot\n",
    "stacked_data = pd.DataFrame({'Found': move_found_percentage, 'Not Found': move_not_found_percentage})\n",
    "\n",
    "# Plotting\n",
    "plt.figure(figsize=(12, 6))\n",
    "stacked_data.plot(kind='bar', stacked=True, color=['green', 'red'], figsize=(12, 6))\n",
    "plt.title('Percentage of Moves Found in Processed Data by Move Number')\n",
    "plt.xlabel('Move Number')\n",
    "plt.ylabel('Percentage')\n",
    "plt.legend(title='Status')\n",
    "plt.tight_layout()\n",
    "plt.show()\n"
   ]
  },
  {
   "cell_type": "code",
   "execution_count": null,
   "id": "64032bde-a7a9-4d33-b880-2be743b0851b",
   "metadata": {
    "tags": []
   },
   "outputs": [],
   "source": [
    "import pandas as pd\n",
    "import matplotlib.pyplot as plt\n",
    "\n",
    "# Create a column to indicate whether the position is unique (count == 1) or duplicate (count > 1)\n",
    "new_moves_df['is_unique'] = new_moves_df['count'] == 1\n",
    "\n",
    "# Group by move_number and calculate the percentage of unique and duplicate positions\n",
    "new_percentage_df = new_moves_df.groupby('move_number')['is_unique'].value_counts(normalize=True).unstack().fillna(0) * 100\n",
    "new_percentage_df.columns = ['Duplicate Positions', 'Unique Positions']  # Rename columns for clarity\n",
    "\n",
    "# Create the plot\n",
    "plt.figure(figsize=(12, 6))\n",
    "ax = new_percentage_df.plot(kind='bar', stacked=True, color=['salmon', 'skyblue'], figsize=(12, 6))\n",
    "plt.title('Percentage of Unique and Duplicate Positions per Move Sequence')\n",
    "plt.xlabel('Move Number')\n",
    "plt.ylabel('Percentage')\n",
    "plt.xticks(rotation=0)  # Keep the x-axis labels readable\n",
    "plt.legend(loc='upper right')\n",
    "\n",
    "# Annotate bars with the percentage of duplicate positions\n",
    "for i, rect in enumerate(ax.patches[:len(ax.patches)//2]):  # Iterate over the duplicate position bars\n",
    "    height = rect.get_height()\n",
    "    percentage = new_percentage_df.iloc[i // 2]['Duplicate Positions'] if height > 0 else 0  # Avoid annotating zero-height bars\n",
    "    ax.text(rect.get_x() + rect.get_width() / 2.0, \n",
    "            height / 2, \n",
    "            f'{percentage:.1f}%', \n",
    "            ha='center', \n",
    "            va='center', \n",
    "            color='black',\n",
    "            fontsize=9)\n",
    "\n",
    "plt.tight_layout()\n",
    "plt.show()\n"
   ]
  },
  {
   "cell_type": "code",
   "execution_count": null,
   "id": "3d5e2bf4-9b4a-4d88-b4ed-cd76c7f69961",
   "metadata": {},
   "outputs": [],
   "source": [
    "new_moves_df[new_moves_df['found']]"
   ]
  },
  {
   "cell_type": "code",
   "execution_count": null,
   "id": "9c35d0eb-25d3-4e8b-b2e8-16cd7d5ad341",
   "metadata": {
    "tags": []
   },
   "outputs": [],
   "source": [
    "\n",
    "# Filter the DataFrame to include only rows where 'found' is True\n",
    "count_df = new_moves_df[~new_moves_df['found']]\n",
    "\n",
    "\n",
    "# Group by 'move_number' and count 'is_unique' values\n",
    "count_df = count_df.groupby('move_number')['is_unique'].value_counts().unstack().fillna(0)\n",
    "count_df"
   ]
  },
  {
   "cell_type": "code",
   "execution_count": null,
   "id": "1ed889a2-619f-4474-b2b3-380f9f2640ed",
   "metadata": {},
   "outputs": [],
   "source": [
    "import pandas as pd\n",
    "import matplotlib.pyplot as plt\n",
    "\n",
    "# Count the number of unique and duplicate positions per move sequence\n",
    "#count_df = new_moves_df.groupby('move_number')['is_unique'].value_counts().unstack().fillna(0)\n",
    "count_df.columns = ['Duplicate Positions', 'Unique Positions']  # Rename columns for clarity\n",
    "\n",
    "# Create the plot\n",
    "plt.figure(figsize=(12, 6))\n",
    "ax = count_df.plot(kind='bar', stacked=True, color=['salmon', 'skyblue'], figsize=(12, 6))\n",
    "plt.title('Count of Unique and Duplicate Positions per Move Sequence')\n",
    "plt.xlabel('Move Number')\n",
    "plt.ylabel('Count')\n",
    "plt.xticks(rotation=0)  # Keep the x-axis labels readable\n",
    "plt.legend(loc='upper right')\n",
    "\n",
    "# Annotate bars with the count of duplicate positions\n",
    "for i, rect in enumerate(ax.patches[:len(ax.patches)//2]):  # Iterate over the duplicate position bars\n",
    "    height = rect.get_height()\n",
    "    count = count_df.iloc[i // 2]['Duplicate Positions'] if height > 0 else 0  # Avoid annotating zero-height bars\n",
    "    ax.text(rect.get_x() + rect.get_width() / 2.0, \n",
    "            height + 20,  # Adjust the position for better visibility\n",
    "            f'{int(count)}', \n",
    "            ha='center', \n",
    "            va='bottom', \n",
    "            color='black',\n",
    "            fontsize=9)\n",
    "\n",
    "plt.tight_layout()\n",
    "plt.show()\n"
   ]
  }
 ],
 "metadata": {
  "kernelspec": {
   "display_name": "Python 3 (ipykernel)",
   "language": "python",
   "name": "python3"
  },
  "language_info": {
   "codemirror_mode": {
    "name": "ipython",
    "version": 3
   },
   "file_extension": ".py",
   "mimetype": "text/x-python",
   "name": "python",
   "nbconvert_exporter": "python",
   "pygments_lexer": "ipython3",
   "version": "3.9.12"
  }
 },
 "nbformat": 4,
 "nbformat_minor": 5
}
