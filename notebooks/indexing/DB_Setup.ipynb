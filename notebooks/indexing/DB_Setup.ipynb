{
 "cells": [
  {
   "cell_type": "code",
   "execution_count": 31,
   "id": "5c2ef81a-9dba-401d-b507-4edb5e09b733",
   "metadata": {},
   "outputs": [],
   "source": [
    "import psycopg2\n",
    "\n",
    "# Database connection parameters\n",
    "db_params = {\n",
    "    'dbname': 'chess',\n",
    "    'user': 'admin',  # Replace with your username\n",
    "    'password': 'admin',  # Replace with your password\n",
    "    'host': 'localhost',\n",
    "    'port': '5433'  \n",
    "}"
   ]
  },
  {
   "cell_type": "code",
   "execution_count": 13,
   "id": "b736a340-d035-4f90-97b1-1f587d8c96b5",
   "metadata": {},
   "outputs": [
    {
     "name": "stdout",
     "output_type": "stream",
     "text": [
      "empty\n"
     ]
    }
   ],
   "source": [
    "\n",
    "# Connect to the chess database\n",
    "conn = psycopg2.connect(**db_params)\n",
    "\n",
    "# Create a cursor for executing queries\n",
    "cur = conn.cursor()\n",
    "\n",
    "# Execute a SELECT statement to retrieve data from chess_positions table\n",
    "cur.execute(\"SELECT * FROM chess_positions;\")\n",
    "\n",
    "\n",
    "# Fetch and print all rows\n",
    "rows = cur.fetchall()\n",
    "for row in rows:\n",
    "    print(row)\n",
    "\n",
    "# Close the cursor and the connection\n",
    "cur.close()\n",
    "conn.close()\n"
   ]
  },
  {
   "cell_type": "code",
   "execution_count": null,
   "id": "9ad33492-95f7-43f2-8007-6cccbae59e61",
   "metadata": {},
   "outputs": [],
   "source": [
    "# Connect to the chess database\n",
    "conn = psycopg2.connect(**db_params)\n",
    "\n",
    "# Create a cursor for executing queries\n",
    "cur = conn.cursor()\n",
    "\n",
    "# Execute an aggregation query to count the number of occurrences of each FEN\n",
    "cur.execute(\"\"\"\n",
    "    SELECT fen, SUM(count) as total_count\n",
    "    FROM chess_positions\n",
    "    GROUP BY fen;\n",
    "\"\"\")\n",
    "\n",
    "\n",
    "# Fetch all rows\n",
    "rows = cur.fetchall()\n",
    "\n",
    "# Close the cursor and the connection\n",
    "cur.close()\n",
    "conn.close()\n",
    "\n",
    "# Create a Pandas DataFrame from the aggregated data\n",
    "fen_counts_df = pd.DataFrame(rows, columns=['FEN', 'Total_Count'])\n",
    "\n",
    "print(fen_counts_df.head())"
   ]
  },
  {
   "cell_type": "markdown",
   "id": "634a29e0-22ac-4b59-bce8-01b461209f75",
   "metadata": {},
   "source": [
    "# SAVE FEN Files in DB"
   ]
  },
  {
   "cell_type": "code",
   "execution_count": 60,
   "id": "68df931c-36f4-4be8-98a5-b1208b93f48a",
   "metadata": {},
   "outputs": [],
   "source": [
    "import psycopg2\n",
    "import pandas as pd\n",
    "import chess\n",
    "import tqdm\n",
    "\n",
    "# Database connection parameters\n",
    "db_params = {\n",
    "    'dbname': 'chess',\n",
    "    'user': 'admin',  # Replace with your username\n",
    "    'password': 'admin',  # Replace with your password\n",
    "    'host': 'localhost',\n",
    "    'port': '5433'  \n",
    "}\n",
    "\n",
    "def insert_fen_into_db(fen, move_number, conn_params):\n",
    "    \"\"\"\n",
    "    Insert a FEN into the chess_positions table in the chess database, incrementing\n",
    "    the count if the same FEN with the same move_number already exists.\n",
    "    \"\"\"\n",
    "    try:\n",
    "        # Connect to the chess database\n",
    "        conn = psycopg2.connect(**conn_params)\n",
    "        cur = conn.cursor()\n",
    "        cur.execute(\"\"\"\n",
    "            INSERT INTO chess_positions (fen, move_number, count)\n",
    "            VALUES (%s, %s, 1)\n",
    "            ON CONFLICT (fen, move_number) \n",
    "            DO UPDATE SET count = chess_positions.count + 1;\n",
    "            \"\"\", (fen, move_number))\n",
    "        conn.commit()\n",
    "        cur.close()\n",
    "    except (Exception, psycopg2.DatabaseError) as error:\n",
    "        print(f\"Error: {error}\")\n",
    "    finally:\n",
    "        if conn is not None:\n",
    "            conn.close()\n",
    "\n",
    "            \n",
    "            \n",
    "def process_games(file_path, conn_params, start_game=0, end_game=None):\n",
    "    \"\"\"\n",
    "    Process games from a CSV file and insert FEN positions into the database.\n",
    "    \n",
    "    :param file_path: Path to the CSV file.\n",
    "    :param conn_params: Database connection parameters.\n",
    "    :param start_game: Index of the first game to process (0-indexed).\n",
    "    :param end_game: Index of the last game to process (exclusive, None processes all).\n",
    "    \"\"\"\n",
    "    # Load games from CSV\n",
    "    games = pd.read_csv(file_path)\n",
    "    \n",
    "    # Slice the DataFrame to only include the specified range of games\n",
    "    games_to_process = games.iloc[start_game:end_game]\n",
    "    \n",
    "    for _, game in tqdm.tqdm(games_to_process.iterrows(), total=games_to_process.shape[0]):\n",
    "        # Check if 'moves' is not empty\n",
    "        if not game['moves'] or pd.isna(game['moves']):\n",
    "            continue  # Skip if moves are empty\n",
    "\n",
    "        moves = eval(game['moves'])  # Convert string representation of list back to a list\n",
    "        board = chess.Board()\n",
    "        for move_number, move in enumerate(moves, start=1):\n",
    "            try:\n",
    "                board.push_san(move)\n",
    "                fen = board.fen()\n",
    "                # Insert FEN into the database\n",
    "                insert_fen_into_db(fen, move_number, conn_params)\n",
    "            except ValueError:\n",
    "                # This catches invalid SAN moves and skips them\n",
    "                print(f\"Invalid move in game {start_game + _}: {move}\")\n",
    "                continue\n",
    "\n",
    "\n"
   ]
  },
  {
   "cell_type": "code",
   "execution_count": 64,
   "id": "af8e4fe4-c096-4f8d-98b8-76272625d61d",
   "metadata": {
    "tags": []
   },
   "outputs": [
    {
     "name": "stderr",
     "output_type": "stream",
     "text": [
      " 81%|████████  | 7989/9900 [5:15:06<1:15:22,  2.37s/it]   \n"
     ]
    },
    {
     "ename": "UnboundLocalError",
     "evalue": "local variable 'conn' referenced before assignment",
     "output_type": "error",
     "traceback": [
      "\u001b[1;31m---------------------------------------------------------------------------\u001b[0m",
      "\u001b[1;31mKeyboardInterrupt\u001b[0m                         Traceback (most recent call last)",
      "Input \u001b[1;32mIn [60]\u001b[0m, in \u001b[0;36minsert_fen_into_db\u001b[1;34m(fen, move_number, conn_params)\u001b[0m\n\u001b[0;32m     20\u001b[0m \u001b[38;5;28;01mtry\u001b[39;00m:\n\u001b[0;32m     21\u001b[0m     \u001b[38;5;66;03m# Connect to the chess database\u001b[39;00m\n\u001b[1;32m---> 22\u001b[0m     conn \u001b[38;5;241m=\u001b[39m psycopg2\u001b[38;5;241m.\u001b[39mconnect(\u001b[38;5;241m*\u001b[39m\u001b[38;5;241m*\u001b[39mconn_params)\n\u001b[0;32m     23\u001b[0m     cur \u001b[38;5;241m=\u001b[39m conn\u001b[38;5;241m.\u001b[39mcursor()\n",
      "File \u001b[1;32m~\\anaconda3\\lib\\site-packages\\psycopg2\\__init__.py:122\u001b[0m, in \u001b[0;36mconnect\u001b[1;34m(dsn, connection_factory, cursor_factory, **kwargs)\u001b[0m\n\u001b[0;32m    121\u001b[0m dsn \u001b[38;5;241m=\u001b[39m _ext\u001b[38;5;241m.\u001b[39mmake_dsn(dsn, \u001b[38;5;241m*\u001b[39m\u001b[38;5;241m*\u001b[39mkwargs)\n\u001b[1;32m--> 122\u001b[0m conn \u001b[38;5;241m=\u001b[39m _connect(dsn, connection_factory\u001b[38;5;241m=\u001b[39mconnection_factory, \u001b[38;5;241m*\u001b[39m\u001b[38;5;241m*\u001b[39mkwasync)\n\u001b[0;32m    123\u001b[0m \u001b[38;5;28;01mif\u001b[39;00m cursor_factory \u001b[38;5;129;01mis\u001b[39;00m \u001b[38;5;129;01mnot\u001b[39;00m \u001b[38;5;28;01mNone\u001b[39;00m:\n",
      "\u001b[1;31mKeyboardInterrupt\u001b[0m: ",
      "\nDuring handling of the above exception, another exception occurred:\n",
      "\u001b[1;31mUnboundLocalError\u001b[0m                         Traceback (most recent call last)",
      "Input \u001b[1;32mIn [64]\u001b[0m, in \u001b[0;36m<cell line: 2>\u001b[1;34m()\u001b[0m\n\u001b[0;32m      1\u001b[0m \u001b[38;5;66;03m# Example usage: Process the first 100 games\u001b[39;00m\n\u001b[1;32m----> 2\u001b[0m \u001b[43mprocess_games\u001b[49m\u001b[43m(\u001b[49m\u001b[38;5;124;43m'\u001b[39;49m\u001b[38;5;124;43m../../testData/splitted_games/processed_moves.csv\u001b[39;49m\u001b[38;5;124;43m'\u001b[39;49m\u001b[43m,\u001b[49m\u001b[43m \u001b[49m\u001b[43mdb_params\u001b[49m\u001b[43m,\u001b[49m\u001b[43m \u001b[49m\u001b[43mstart_game\u001b[49m\u001b[38;5;241;43m=\u001b[39;49m\u001b[38;5;241;43m100\u001b[39;49m\u001b[43m,\u001b[49m\u001b[43m \u001b[49m\u001b[43mend_game\u001b[49m\u001b[38;5;241;43m=\u001b[39;49m\u001b[38;5;241;43m10000\u001b[39;49m\u001b[43m)\u001b[49m\n",
      "Input \u001b[1;32mIn [60]\u001b[0m, in \u001b[0;36mprocess_games\u001b[1;34m(file_path, conn_params, start_game, end_game)\u001b[0m\n\u001b[0;32m     65\u001b[0m     fen \u001b[38;5;241m=\u001b[39m board\u001b[38;5;241m.\u001b[39mfen()\n\u001b[0;32m     66\u001b[0m     \u001b[38;5;66;03m# Insert FEN into the database\u001b[39;00m\n\u001b[1;32m---> 67\u001b[0m     \u001b[43minsert_fen_into_db\u001b[49m\u001b[43m(\u001b[49m\u001b[43mfen\u001b[49m\u001b[43m,\u001b[49m\u001b[43m \u001b[49m\u001b[43mmove_number\u001b[49m\u001b[43m,\u001b[49m\u001b[43m \u001b[49m\u001b[43mconn_params\u001b[49m\u001b[43m)\u001b[49m\n\u001b[0;32m     68\u001b[0m \u001b[38;5;28;01mexcept\u001b[39;00m \u001b[38;5;167;01mValueError\u001b[39;00m:\n\u001b[0;32m     69\u001b[0m     \u001b[38;5;66;03m# This catches invalid SAN moves and skips them\u001b[39;00m\n\u001b[0;32m     70\u001b[0m     \u001b[38;5;28mprint\u001b[39m(\u001b[38;5;124mf\u001b[39m\u001b[38;5;124m\"\u001b[39m\u001b[38;5;124mInvalid move in game \u001b[39m\u001b[38;5;132;01m{\u001b[39;00mstart_game\u001b[38;5;250m \u001b[39m\u001b[38;5;241m+\u001b[39m\u001b[38;5;250m \u001b[39m_\u001b[38;5;132;01m}\u001b[39;00m\u001b[38;5;124m: \u001b[39m\u001b[38;5;132;01m{\u001b[39;00mmove\u001b[38;5;132;01m}\u001b[39;00m\u001b[38;5;124m\"\u001b[39m)\n",
      "Input \u001b[1;32mIn [60]\u001b[0m, in \u001b[0;36minsert_fen_into_db\u001b[1;34m(fen, move_number, conn_params)\u001b[0m\n\u001b[0;32m     33\u001b[0m     \u001b[38;5;28mprint\u001b[39m(\u001b[38;5;124mf\u001b[39m\u001b[38;5;124m\"\u001b[39m\u001b[38;5;124mError: \u001b[39m\u001b[38;5;132;01m{\u001b[39;00merror\u001b[38;5;132;01m}\u001b[39;00m\u001b[38;5;124m\"\u001b[39m)\n\u001b[0;32m     34\u001b[0m \u001b[38;5;28;01mfinally\u001b[39;00m:\n\u001b[1;32m---> 35\u001b[0m     \u001b[38;5;28;01mif\u001b[39;00m \u001b[43mconn\u001b[49m \u001b[38;5;129;01mis\u001b[39;00m \u001b[38;5;129;01mnot\u001b[39;00m \u001b[38;5;28;01mNone\u001b[39;00m:\n\u001b[0;32m     36\u001b[0m         conn\u001b[38;5;241m.\u001b[39mclose()\n",
      "\u001b[1;31mUnboundLocalError\u001b[0m: local variable 'conn' referenced before assignment"
     ]
    }
   ],
   "source": [
    "# Example usage: Process the first 100 games\n",
    "process_games('../../testData/splitted_games/processed_moves.csv', db_params, start_game=100, end_game=10000)\n",
    "\n",
    "# Example usage: Start processing from the 100th game\n",
    "#process_games('../../testData/splitted_games/processed_moves.csv', db_params, start_game=100)\n"
   ]
  },
  {
   "cell_type": "code",
   "execution_count": null,
   "id": "823fb696-cb3f-4e15-9abc-bc923574f567",
   "metadata": {},
   "outputs": [],
   "source": []
  }
 ],
 "metadata": {
  "kernelspec": {
   "display_name": "Python 3 (ipykernel)",
   "language": "python",
   "name": "python3"
  },
  "language_info": {
   "codemirror_mode": {
    "name": "ipython",
    "version": 3
   },
   "file_extension": ".py",
   "mimetype": "text/x-python",
   "name": "python",
   "nbconvert_exporter": "python",
   "pygments_lexer": "ipython3",
   "version": "3.9.12"
  }
 },
 "nbformat": 4,
 "nbformat_minor": 5
}
