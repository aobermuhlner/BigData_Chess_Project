{
 "cells": [
  {
   "cell_type": "code",
   "execution_count": 36,
   "id": "9689be8c-8cdb-49dd-9802-074fc4f94f65",
   "metadata": {},
   "outputs": [],
   "source": [
    "import chess\n",
    "import pandas as pd\n",
    "import json\n",
    "\n",
    "def load_game_data(file_name):\n",
    "    file_path = f\"{file_name}.json\"\n",
    "    with open(file_path, 'r') as file:\n",
    "        games = json.load(file)\n",
    "    return games\n",
    "\n",
    "def classify_positions(game, middle_index):\n",
    "    board = chess.Board()\n",
    "    positions = []\n",
    "\n",
    "    for move_number, san in enumerate(game['moves'].split(), start=1):\n",
    "        try:\n",
    "            move = board.parse_san(san)\n",
    "            board.push(move)\n",
    "            fen = board.fen()\n",
    "\n",
    "            if move_number <= middle_index:\n",
    "                game_state = \"opening\"\n",
    "            else:\n",
    "                game_state = \"middlegame\"\n",
    "\n",
    "            positions.append({'position': fen, 'game_state': game_state})\n",
    "        except Exception as e:\n",
    "            print(f\"Error processing move {san} in game {game['id']}: {e}\")\n",
    "            break  # or continue, if you want to skip the rest of the moves in this game\n",
    "\n",
    "    return positions\n",
    "\n",
    "def analyze_games(games):\n",
    "    all_positions = []\n",
    "\n",
    "    for game in games:\n",
    "      #  middle_index = game['division'].get('middle', 25)\n",
    "        middle_index = 25\n",
    "        positions = classify_positions(game, middle_index)\n",
    "        all_positions.extend(positions)\n",
    "\n",
    "    return pd.DataFrame(all_positions)"
   ]
  },
  {
   "cell_type": "code",
   "execution_count": 37,
   "id": "00111a43-07f5-4b5a-9f4e-df32797ffd54",
   "metadata": {},
   "outputs": [],
   "source": [
    "import numpy as np\n",
    "import chess\n",
    "\n",
    "def fen_to_input(fen):\n",
    "    board = chess.Board(fen)\n",
    "    input_matrix = np.zeros((8, 8, 12), dtype=int)\n",
    "\n",
    "    piece_to_plane = {\n",
    "        'P': 0, 'N': 1, 'B': 2, 'R': 3, 'Q': 4, 'K': 5,\n",
    "        'p': 6, 'n': 7, 'b': 8, 'r': 9, 'q': 10, 'k': 11\n",
    "    }\n",
    "\n",
    "    for rank in range(8):\n",
    "        for file in range(8):\n",
    "            piece = board.piece_at(chess.square(file, 7 - rank))\n",
    "            if piece:\n",
    "                plane = piece_to_plane[piece.symbol()]\n",
    "                input_matrix[rank, file, plane] = 1\n",
    "\n",
    "    additional_planes = np.zeros((8, 8, 5), dtype=int)\n",
    "    \n",
    "    if board.has_kingside_castling_rights(chess.WHITE):\n",
    "        additional_planes[:, :, 0] = 1\n",
    "    if board.has_queenside_castling_rights(chess.WHITE):\n",
    "        additional_planes[:, :, 1] = 1\n",
    "    if board.has_kingside_castling_rights(chess.BLACK):\n",
    "        additional_planes[:, :, 2] = 1\n",
    "    if board.has_queenside_castling_rights(chess.BLACK):\n",
    "        additional_planes[:, :, 3] = 1\n",
    "\n",
    "    if board.ep_square:\n",
    "        ep_rank = chess.square_rank(board.ep_square)\n",
    "        ep_file = chess.square_file(board.ep_square)\n",
    "        additional_planes[7 - ep_rank, ep_file, 4] = 1\n",
    "\n",
    "    side_to_move_plane = np.ones((8, 8, 1), dtype=int) if board.turn == chess.WHITE else np.zeros((8, 8, 1), dtype=int)\n",
    "    \n",
    "    input_tensor = np.concatenate((input_matrix, additional_planes, side_to_move_plane), axis=2)\n",
    "    \n",
    "    return input_tensor"
   ]
  },
  {
   "cell_type": "code",
   "execution_count": 39,
   "id": "9399e08b-fbca-4f09-a65a-3b627c8095f0",
   "metadata": {
    "tags": []
   },
   "outputs": [
    {
     "name": "stdout",
     "output_type": "stream",
     "text": [
      "Error processing move Bc4 in game 9HJKWvan: illegal san: 'Bc4' in rnbqkbnr/pppppppp/8/8/8/8/PPPPPPPP/RNBQKBNR w KQkq - 0 1\n"
     ]
    }
   ],
   "source": [
    "\n",
    "# Load games\n",
    "games = load_game_data('apendra_games')\n",
    "\n",
    "# Analyze games and get positions with classifications\n",
    "results = analyze_games(games)\n",
    "\n",
    "# Save results to JSON (optional)\n",
    "#results.to_json(\"positions_classified.json\", orient='records', lines=True)\n",
    "# Remove duplicate positions\n",
    "results = results.drop_duplicates(subset='position')\n",
    "\n",
    "# Convert FEN to input tensor and add to DataFrame\n",
    "results['input'] = results['position'].apply(lambda fen: fen_to_input(fen).flatten())\n",
    "\n",
    "# Save results to JSON (optional# Save results to CSV\n",
    "results.to_json(\"data/opening_classified.json\")\n",
    "\n"
   ]
  },
  {
   "cell_type": "code",
   "execution_count": 40,
   "id": "00e996b7-ed4d-498a-93b5-3da6e9091303",
   "metadata": {
    "tags": []
   },
   "outputs": [],
   "source": [
    "game_string = \"e4 c6 Nc3 d5 f3 Nf6 d4 dxe4 fxe4 e6 Nf3 Nbd7 e5 Nd5 Nxd5 cxd5 Bb5 a6 Ba4 b5 Bb3 Bb7 a4 Be7 axb5 axb5 Rxa8 Qxa8 O-O O-O Bg5 Bxg5 Nxg5 h6 Nf3 f6 Qd3 fxe5 Nxe5 Nxe5 dxe5 Rxf1+ Kxf1 Qf8+ Kg1 Qf5 Qxb5 Bc8 Qe2 Bd7 h3 Qe4 Qxe4 dxe4 Kf2 Bc6 Bxe6+ Kf8 Bb3 Ke7 Ke3 g5 c3 Bb7 Bc2 Kd7 Bxe4 Ke6 Bxb7 Kxe5 Bf3 Kf5 Be2 Ke5 Kf2 Kf5 c4 Ke5 b4 Kd6 b5\"\n",
    "\n",
    "game = {\n",
    "    'id': 'mock_game_1',\n",
    "    'moves': game_string,\n",
    "    'division': {'middle': 25}  # You can adjust the middle index as needed\n",
    "}\n",
    "\n",
    "# Wrap the game dictionary in a list\n",
    "test_results = analyze_games([game])\n",
    "\n",
    "# Remove duplicate positions\n",
    "test_results = test_results.drop_duplicates(subset='position')\n",
    "\n",
    "# Convert FEN to input tensor and add to DataFrame\n",
    "test_results['input'] = test_results['position'].apply(lambda fen: fen_to_input(fen).flatten())\n",
    "\n",
    "# Save the DataFrame to a CSV file\n",
    "\n",
    "test_results.to_json(\"data/test.json\")\n",
    "\n"
   ]
  }
 ],
 "metadata": {
  "kernelspec": {
   "display_name": "Python 3 (ipykernel)",
   "language": "python",
   "name": "python3"
  },
  "language_info": {
   "codemirror_mode": {
    "name": "ipython",
    "version": 3
   },
   "file_extension": ".py",
   "mimetype": "text/x-python",
   "name": "python",
   "nbconvert_exporter": "python",
   "pygments_lexer": "ipython3",
   "version": "3.9.12"
  }
 },
 "nbformat": 4,
 "nbformat_minor": 5
}
