{
 "cells": [
  {
   "cell_type": "code",
   "execution_count": 1,
   "id": "af2019fc-3cf1-417e-92d1-8ca443f80e0c",
   "metadata": {},
   "outputs": [
    {
     "name": "stderr",
     "output_type": "stream",
     "text": [
      "C:\\Users\\aober\\anaconda3\\lib\\site-packages\\scipy\\__init__.py:146: UserWarning: A NumPy version >=1.16.5 and <1.23.0 is required for this version of SciPy (detected version 1.26.4\n",
      "  warnings.warn(f\"A NumPy version >={np_minversion} and <{np_maxversion}\"\n"
     ]
    }
   ],
   "source": [
    "import re\n",
    "import ast\n",
    "import pandas as pd\n",
    "from sklearn.model_selection import train_test_split\n",
    "from sklearn.linear_model import LogisticRegression\n",
    "import joblib\n",
    "import numpy as np\n",
    "from sklearn.metrics import f1_score, recall_score, log_loss"
   ]
  },
  {
   "cell_type": "code",
   "execution_count": null,
   "id": "5ee4191b-0c4d-420d-a587-da2130bfd355",
   "metadata": {},
   "outputs": [],
   "source": []
  },
  {
   "cell_type": "code",
   "execution_count": 2,
   "id": "ed9f55a3-dcd1-4a30-a5df-59e64482e2fa",
   "metadata": {
    "tags": []
   },
   "outputs": [],
   "source": [
    "\n",
    "\n",
    "# Load the data\n",
    "data = pd.read_json('../data/opening_classified.json')\n",
    "\n",
    "# Custom function to parse the 'input' column\n",
    "def parse_input(input_str):\n",
    "    # Remove ellipses and multiple spaces\n",
    "    input_str = re.sub(r'\\.\\.\\.', '', input_str)\n",
    "    input_str = re.sub(r'\\s+', ',', input_str.strip())\n",
    "    # Ensure proper list format by adding commas between elements\n",
    "    input_str = input_str.replace('[,', '[').replace(',]', ']').replace(',,', ',')\n",
    "    return ast.literal_eval(input_str)\n",
    "\n",
    "# Apply the custom function to the 'input' column\n",
    "#data['input'] = data['input'].apply(parse_input)\n",
    "\n",
    "# Prepare the feature matrix (X) and labels (y)\n",
    "X = np.array(data['input'].tolist())\n",
    "y = data['game_state'].apply(lambda x: 1 if x == 'opening' else 0).values\n",
    "\n",
    "# Split the data into training and test sets\n",
    "X_train, X_test, y_train, y_test = train_test_split(X, y, test_size=0.2, random_state=42, stratify=y)\n",
    "\n",
    "# Initialize and train the logistic regression model\n",
    "model = LogisticRegression(max_iter=1000)\n",
    "model.fit(X_train, y_train)\n",
    "\n",
    "# Save the trained model\n",
    "joblib.dump(model, '../model/opening_middlegame_classifier.pkl')\n",
    "\n",
    "# Evaluate the model\n",
    "accuracy = model.score(X_test, y_test)\n",
    "y_pred = model.predict(X_test)\n",
    "y_pred_proba = model.predict_proba(X_test)[:, 1]  # probabilities for the positive class\n",
    "f1 = f1_score(y_test, y_pred)\n",
    "recall = recall_score(y_test, y_pred)\n",
    "loss = log_loss(y_test, y_pred_proba)\n",
    "\n"
   ]
  },
  {
   "cell_type": "code",
   "execution_count": 14,
   "id": "40dd7fde-7179-4ac4-b792-2fbbb6a369b2",
   "metadata": {},
   "outputs": [
    {
     "name": "stdout",
     "output_type": "stream",
     "text": [
      "Model Accuracy: 97.46%\n",
      "F1 Score: 0.96\n",
      "Recall: 0.96\n",
      "Log Loss: 0.06\n",
      "Learning Rate (C): 1.00\n"
     ]
    }
   ],
   "source": [
    "\n",
    "joblib.dump(model, '../model/opening_middlegame_classifier.pkl')\n",
    "\n",
    "# Print metrics\n",
    "print(f'Model Accuracy: {accuracy * 100:.2f}%')\n",
    "print(f'F1 Score: {f1:.2f}')\n",
    "print(f'Recall: {recall:.2f}')\n",
    "print(f'Log Loss: {loss:.2f}')\n",
    "print(f'Learning Rate (C): {model.C:.2f}')"
   ]
  },
  {
   "cell_type": "code",
   "execution_count": 90,
   "id": "ef73e6be-bbf3-44e0-9a33-40ec80b7aeef",
   "metadata": {},
   "outputs": [
    {
     "data": {
      "text/plain": [
       "0         [0 0 0 ... 1 0 0]\n",
       "1         [0 0 0 ... 1 0 1]\n",
       "2         [0 0 0 ... 1 0 0]\n",
       "3         [0 0 0 ... 1 0 1]\n",
       "4         [0 0 0 ... 1 0 0]\n",
       "                ...        \n",
       "109034    [0 0 0 ... 0 0 0]\n",
       "109035    [0 0 0 ... 0 0 1]\n",
       "109036    [0 0 0 ... 0 0 0]\n",
       "109037    [0 0 0 ... 0 0 1]\n",
       "109038    [0 0 0 ... 0 0 0]\n",
       "Name: input, Length: 109039, dtype: object"
      ]
     },
     "execution_count": 90,
     "metadata": {},
     "output_type": "execute_result"
    }
   ],
   "source": [
    "data = pd.read_csv('../data/opening_classified.csv')\n",
    "data['input']"
   ]
  },
  {
   "cell_type": "code",
   "execution_count": 92,
   "id": "7e6ff15f-de3b-47ea-a3a1-921d9162809f",
   "metadata": {
    "tags": []
   },
   "outputs": [],
   "source": [
    "\n",
    "\n",
    "# Custom function to parse the 'input' column\n",
    "def parse_input(input_str):\n",
    "    # Remove ellipses and multiple spaces\n",
    "    input_str = re.sub(r'\\.\\.\\.', '', input_str)\n",
    "    input_str = re.sub(r'\\s+', ',', input_str.strip())\n",
    "    # Ensure proper list format by adding commas between elements\n",
    "    input_str = input_str.replace('[,', '[').replace(',]', ']').replace(',,', ',')\n",
    "    return ast.literal_eval(input_str)\n",
    "\n",
    "# Apply the custom function to the 'input' column\n",
    "data['input'] = data['input'].apply(parse_input)"
   ]
  },
  {
   "cell_type": "code",
   "execution_count": 93,
   "id": "964f6457-5996-4a0b-8e9e-338db6b2f8c2",
   "metadata": {},
   "outputs": [
    {
     "data": {
      "text/html": [
       "<div>\n",
       "<style scoped>\n",
       "    .dataframe tbody tr th:only-of-type {\n",
       "        vertical-align: middle;\n",
       "    }\n",
       "\n",
       "    .dataframe tbody tr th {\n",
       "        vertical-align: top;\n",
       "    }\n",
       "\n",
       "    .dataframe thead th {\n",
       "        text-align: right;\n",
       "    }\n",
       "</style>\n",
       "<table border=\"1\" class=\"dataframe\">\n",
       "  <thead>\n",
       "    <tr style=\"text-align: right;\">\n",
       "      <th></th>\n",
       "      <th>position</th>\n",
       "      <th>game_state</th>\n",
       "      <th>input</th>\n",
       "    </tr>\n",
       "  </thead>\n",
       "  <tbody>\n",
       "    <tr>\n",
       "      <th>0</th>\n",
       "      <td>rnbqkbnr/pppppppp/8/8/4P3/8/PPPP1PPP/RNBQKBNR ...</td>\n",
       "      <td>opening</td>\n",
       "      <td>[0, 0, 0, 1, 0, 0]</td>\n",
       "    </tr>\n",
       "    <tr>\n",
       "      <th>1</th>\n",
       "      <td>rnbqkbnr/pppp1ppp/8/4p3/4P3/8/PPPP1PPP/RNBQKBN...</td>\n",
       "      <td>opening</td>\n",
       "      <td>[0, 0, 0, 1, 0, 1]</td>\n",
       "    </tr>\n",
       "    <tr>\n",
       "      <th>2</th>\n",
       "      <td>rnbqkbnr/pppp1ppp/8/4p3/4P3/2N5/PPPP1PPP/R1BQK...</td>\n",
       "      <td>opening</td>\n",
       "      <td>[0, 0, 0, 1, 0, 0]</td>\n",
       "    </tr>\n",
       "    <tr>\n",
       "      <th>3</th>\n",
       "      <td>r1bqkbnr/pppp1ppp/2n5/4p3/4P3/2N5/PPPP1PPP/R1B...</td>\n",
       "      <td>opening</td>\n",
       "      <td>[0, 0, 0, 1, 0, 1]</td>\n",
       "    </tr>\n",
       "    <tr>\n",
       "      <th>4</th>\n",
       "      <td>r1bqkbnr/pppp1ppp/2n5/4p3/2B1P3/2N5/PPPP1PPP/R...</td>\n",
       "      <td>opening</td>\n",
       "      <td>[0, 0, 0, 1, 0, 0]</td>\n",
       "    </tr>\n",
       "    <tr>\n",
       "      <th>...</th>\n",
       "      <td>...</td>\n",
       "      <td>...</td>\n",
       "      <td>...</td>\n",
       "    </tr>\n",
       "    <tr>\n",
       "      <th>109034</th>\n",
       "      <td>3r2k1/ppp2ppp/3r4/1P1NQ3/2q1P3/1RP1B2P/P4PP1/3...</td>\n",
       "      <td>middlegame</td>\n",
       "      <td>[0, 0, 0, 0, 0, 0]</td>\n",
       "    </tr>\n",
       "    <tr>\n",
       "      <th>109035</th>\n",
       "      <td>3r2k1/pp3ppp/2pr4/1P1NQ3/2q1P3/1RP1B2P/P4PP1/3...</td>\n",
       "      <td>middlegame</td>\n",
       "      <td>[0, 0, 0, 0, 0, 1]</td>\n",
       "    </tr>\n",
       "    <tr>\n",
       "      <th>109036</th>\n",
       "      <td>3r2k1/pp2Nppp/2pr4/1P2Q3/2q1P3/1RP1B2P/P4PP1/3...</td>\n",
       "      <td>middlegame</td>\n",
       "      <td>[0, 0, 0, 0, 0, 0]</td>\n",
       "    </tr>\n",
       "    <tr>\n",
       "      <th>109037</th>\n",
       "      <td>3r1k2/pp2Nppp/2pr4/1P2Q3/2q1P3/1RP1B2P/P4PP1/3...</td>\n",
       "      <td>middlegame</td>\n",
       "      <td>[0, 0, 0, 0, 0, 1]</td>\n",
       "    </tr>\n",
       "    <tr>\n",
       "      <th>109038</th>\n",
       "      <td>3r1k2/pp2Nppp/2pR4/1P2Q3/2q1P3/1RP1B2P/P4PP1/6...</td>\n",
       "      <td>middlegame</td>\n",
       "      <td>[0, 0, 0, 0, 0, 0]</td>\n",
       "    </tr>\n",
       "  </tbody>\n",
       "</table>\n",
       "<p>109039 rows × 3 columns</p>\n",
       "</div>"
      ],
      "text/plain": [
       "                                                 position  game_state  \\\n",
       "0       rnbqkbnr/pppppppp/8/8/4P3/8/PPPP1PPP/RNBQKBNR ...     opening   \n",
       "1       rnbqkbnr/pppp1ppp/8/4p3/4P3/8/PPPP1PPP/RNBQKBN...     opening   \n",
       "2       rnbqkbnr/pppp1ppp/8/4p3/4P3/2N5/PPPP1PPP/R1BQK...     opening   \n",
       "3       r1bqkbnr/pppp1ppp/2n5/4p3/4P3/2N5/PPPP1PPP/R1B...     opening   \n",
       "4       r1bqkbnr/pppp1ppp/2n5/4p3/2B1P3/2N5/PPPP1PPP/R...     opening   \n",
       "...                                                   ...         ...   \n",
       "109034  3r2k1/ppp2ppp/3r4/1P1NQ3/2q1P3/1RP1B2P/P4PP1/3...  middlegame   \n",
       "109035  3r2k1/pp3ppp/2pr4/1P1NQ3/2q1P3/1RP1B2P/P4PP1/3...  middlegame   \n",
       "109036  3r2k1/pp2Nppp/2pr4/1P2Q3/2q1P3/1RP1B2P/P4PP1/3...  middlegame   \n",
       "109037  3r1k2/pp2Nppp/2pr4/1P2Q3/2q1P3/1RP1B2P/P4PP1/3...  middlegame   \n",
       "109038  3r1k2/pp2Nppp/2pR4/1P2Q3/2q1P3/1RP1B2P/P4PP1/6...  middlegame   \n",
       "\n",
       "                     input  \n",
       "0       [0, 0, 0, 1, 0, 0]  \n",
       "1       [0, 0, 0, 1, 0, 1]  \n",
       "2       [0, 0, 0, 1, 0, 0]  \n",
       "3       [0, 0, 0, 1, 0, 1]  \n",
       "4       [0, 0, 0, 1, 0, 0]  \n",
       "...                    ...  \n",
       "109034  [0, 0, 0, 0, 0, 0]  \n",
       "109035  [0, 0, 0, 0, 0, 1]  \n",
       "109036  [0, 0, 0, 0, 0, 0]  \n",
       "109037  [0, 0, 0, 0, 0, 1]  \n",
       "109038  [0, 0, 0, 0, 0, 0]  \n",
       "\n",
       "[109039 rows x 3 columns]"
      ]
     },
     "execution_count": 93,
     "metadata": {},
     "output_type": "execute_result"
    }
   ],
   "source": [
    "data"
   ]
  },
  {
   "cell_type": "code",
   "execution_count": 97,
   "id": "c1dc5446-2cd1-43d1-a60c-660b85fe38a8",
   "metadata": {},
   "outputs": [
    {
     "name": "stdout",
     "output_type": "stream",
     "text": [
      "Prediction for the first entry: 1\n"
     ]
    }
   ],
   "source": [
    "input_data = np.array(data['input'].tolist())\n",
    "first_entry = input_data[0].reshape(1, -1)\n",
    "\n",
    "# Predict the first entry\n",
    "prediction = model.predict(first_entry)\n",
    "print(f'Prediction for the first entry: {prediction[0]}')"
   ]
  },
  {
   "cell_type": "code",
   "execution_count": 15,
   "id": "e1899c98-d7b9-417e-ae10-4d1d59cf8318",
   "metadata": {
    "tags": []
   },
   "outputs": [
    {
     "name": "stdout",
     "output_type": "stream",
     "text": [
      "[[0 0 0 ... 1 0 0]\n",
      " [0 0 0 ... 1 0 1]\n",
      " [0 0 0 ... 1 0 0]\n",
      " ...\n",
      " [0 0 0 ... 0 0 0]\n",
      " [0 0 0 ... 0 0 1]\n",
      " [0 0 0 ... 0 0 0]]\n",
      "                                                input predicted_game_state\n",
      "0   [0, 0, 0, 0, 0, 0, 0, 0, 0, 1, 0, 0, 1, 1, 1, ...              opening\n",
      "1   [0, 0, 0, 0, 0, 0, 0, 0, 0, 1, 0, 0, 1, 1, 1, ...              opening\n",
      "2   [0, 0, 0, 0, 0, 0, 0, 0, 0, 1, 0, 0, 1, 1, 1, ...              opening\n",
      "3   [0, 0, 0, 0, 0, 0, 0, 0, 0, 1, 0, 0, 1, 1, 1, ...              opening\n",
      "4   [0, 0, 0, 0, 0, 0, 0, 0, 0, 1, 0, 0, 1, 1, 1, ...              opening\n",
      "..                                                ...                  ...\n",
      "76  [0, 0, 0, 0, 0, 0, 0, 0, 0, 0, 0, 0, 0, 0, 0, ...               middle\n",
      "77  [0, 0, 0, 0, 0, 0, 0, 0, 0, 0, 0, 0, 0, 0, 0, ...               middle\n",
      "78  [0, 0, 0, 0, 0, 0, 0, 0, 0, 0, 0, 0, 0, 0, 0, ...               middle\n",
      "79  [0, 0, 0, 0, 0, 0, 0, 0, 0, 0, 0, 0, 0, 0, 0, ...               middle\n",
      "80  [0, 0, 0, 0, 0, 0, 0, 0, 0, 0, 0, 0, 0, 0, 0, ...               middle\n",
      "\n",
      "[81 rows x 2 columns]\n"
     ]
    }
   ],
   "source": [
    "import joblib\n",
    "import pandas as pd\n",
    "import numpy as np\n",
    "import re\n",
    "import ast\n",
    "\n",
    "# Custom function to parse the 'input' column\n",
    "def parse_input(input_str):\n",
    "    input_str = re.sub(r'\\.\\.\\.', '', input_str)\n",
    "    input_str = re.sub(r'\\s+', ',', input_str.strip())\n",
    "    input_str = input_str.replace('[,', '[').replace(',]', ']').replace(',,', ',')\n",
    "    return ast.literal_eval(input_str)\n",
    "\n",
    "# Load the test data\n",
    "test_data = pd.read_json('../data/test.json')\n",
    "\n",
    "# Apply the custom function to the 'input' column\n",
    "#test_data['input'] = test_data['input'].apply(parse_input)\n",
    "\n",
    "# Load the trained model\n",
    "model = joblib.load('../model/opening_middlegame_classifier.pkl')\n",
    "\n",
    "# Prepare the input data for prediction\n",
    "#input_data = np.array(test_data['input'].tolist())\n",
    "input_data = np.array(test_data['input'].tolist())\n",
    "print(input_data)\n",
    "\n",
    "# Predict the game state for the entire test data\n",
    "predictions = model.predict(input_data)\n",
    "\n",
    "# Map predictions to 'opening' and 'middle'\n",
    "predicted_labels = ['opening' if pred == 1 else 'middle' for pred in predictions]\n",
    "\n",
    "# Add predictions to the test data\n",
    "test_data['predicted_game_state'] = predicted_labels\n",
    "\n",
    "# Display the updated test data with predictions\n",
    "print(test_data[['input', 'predicted_game_state']])"
   ]
  },
  {
   "cell_type": "code",
   "execution_count": 25,
   "id": "852bf67b-ff4e-44be-9465-ff96a877ede3",
   "metadata": {
    "collapsed": true,
    "jupyter": {
     "outputs_hidden": true
    },
    "tags": []
   },
   "outputs": [
    {
     "name": "stdout",
     "output_type": "stream",
     "text": [
      "                                             position  game_state  \\\n",
      "0   rnbqkbnr/pppppppp/8/8/4P3/8/PPPP1PPP/RNBQKBNR ...     opening   \n",
      "1   rnbqkbnr/ppp1pppp/8/3p4/4P3/8/PPPP1PPP/RNBQKBN...     opening   \n",
      "2   rnbqkbnr/ppp1pppp/8/3P4/8/8/PPPP1PPP/RNBQKBNR ...     opening   \n",
      "3   rnb1kbnr/ppp1pppp/8/3q4/8/8/PPPP1PPP/RNBQKBNR ...     opening   \n",
      "4   rnb1kbnr/ppp1pppp/8/3q4/8/2N5/PPPP1PPP/R1BQKBN...     opening   \n",
      "..                                                ...         ...   \n",
      "63     8/6pp/5p2/4pk2/2rp4/7P/PRPB1PP1/3K4 w - - 1 33  middlegame   \n",
      "64    8/6pp/5p2/4pk2/P1rp4/7P/1RPB1PP1/3K4 b - - 0 33  middlegame   \n",
      "65   8/6pp/5p2/4pk2/P1r5/3p3P/1RPB1PP1/3K4 w - - 0 34  middlegame   \n",
      "66   8/6pp/5p2/P3pk2/2r5/3p3P/1RPB1PP1/3K4 b - - 0 34  middlegame   \n",
      "67    8/6pp/5p2/P3pk2/r7/3p3P/1RPB1PP1/3K4 w - - 1 35  middlegame   \n",
      "\n",
      "                                                input  \n",
      "0   [0, 0, 0, 0, 0, 0, 0, 0, 0, 1, 0, 0, 1, 1, 1, ...  \n",
      "1   [0, 0, 0, 0, 0, 0, 0, 0, 0, 1, 0, 0, 1, 1, 1, ...  \n",
      "2   [0, 0, 0, 0, 0, 0, 0, 0, 0, 1, 0, 0, 1, 1, 1, ...  \n",
      "3   [0, 0, 0, 0, 0, 0, 0, 0, 0, 1, 0, 0, 1, 1, 1, ...  \n",
      "4   [0, 0, 0, 0, 0, 0, 0, 0, 0, 1, 0, 0, 1, 1, 1, ...  \n",
      "..                                                ...  \n",
      "63  [0, 0, 0, 0, 0, 0, 0, 0, 0, 0, 0, 0, 0, 0, 0, ...  \n",
      "64  [0, 0, 0, 0, 0, 0, 0, 0, 0, 0, 0, 0, 0, 0, 0, ...  \n",
      "65  [0, 0, 0, 0, 0, 0, 0, 0, 0, 0, 0, 0, 0, 0, 0, ...  \n",
      "66  [0, 0, 0, 0, 0, 0, 0, 0, 0, 0, 0, 0, 0, 0, 0, ...  \n",
      "67  [0, 0, 0, 0, 0, 0, 0, 0, 0, 0, 0, 0, 0, 0, 0, ...  \n",
      "\n",
      "[68 rows x 3 columns]\n"
     ]
    }
   ],
   "source": [
    "\n",
    "test_data = pd.read_json('../data/test.json')\n",
    "\n",
    "\n",
    "print(test_data)"
   ]
  },
  {
   "cell_type": "code",
   "execution_count": 11,
   "id": "886f2fea-fec9-4043-8a70-229605118e11",
   "metadata": {},
   "outputs": [
    {
     "name": "stdout",
     "output_type": "stream",
     "text": [
      "predicted_game_state\n",
      "             opening\n",
      "             opening\n",
      "             opening\n",
      "             opening\n",
      "             opening\n",
      "             opening\n",
      "             opening\n",
      "             opening\n",
      "             opening\n",
      "             opening\n",
      "             opening\n",
      "             opening\n",
      "             opening\n",
      "             opening\n",
      "             opening\n",
      "             opening\n",
      "             opening\n",
      "             opening\n",
      "             opening\n",
      "             opening\n",
      "             opening\n",
      "             opening\n",
      "             opening\n",
      "             opening\n",
      "             opening\n",
      "              middle\n",
      "              middle\n",
      "              middle\n",
      "              middle\n",
      "              middle\n",
      "              middle\n",
      "              middle\n",
      "              middle\n",
      "              middle\n",
      "              middle\n",
      "              middle\n",
      "              middle\n",
      "              middle\n",
      "              middle\n",
      "              middle\n",
      "              middle\n",
      "              middle\n",
      "              middle\n",
      "              middle\n",
      "              middle\n",
      "              middle\n",
      "              middle\n",
      "              middle\n",
      "              middle\n",
      "              middle\n",
      "              middle\n",
      "              middle\n",
      "              middle\n",
      "              middle\n",
      "              middle\n",
      "              middle\n",
      "              middle\n",
      "              middle\n",
      "              middle\n",
      "              middle\n",
      "              middle\n",
      "              middle\n",
      "              middle\n",
      "              middle\n",
      "              middle\n",
      "              middle\n",
      "              middle\n",
      "              middle\n",
      "              middle\n",
      "              middle\n",
      "              middle\n",
      "              middle\n",
      "              middle\n",
      "              middle\n",
      "              middle\n",
      "              middle\n",
      "              middle\n",
      "              middle\n",
      "              middle\n",
      "              middle\n",
      "              middle\n"
     ]
    }
   ],
   "source": [
    "print(test_data[['predicted_game_state']].to_string(index=False))\n"
   ]
  }
 ],
 "metadata": {
  "kernelspec": {
   "display_name": "Python 3 (ipykernel)",
   "language": "python",
   "name": "python3"
  },
  "language_info": {
   "codemirror_mode": {
    "name": "ipython",
    "version": 3
   },
   "file_extension": ".py",
   "mimetype": "text/x-python",
   "name": "python",
   "nbconvert_exporter": "python",
   "pygments_lexer": "ipython3",
   "version": "3.9.12"
  }
 },
 "nbformat": 4,
 "nbformat_minor": 5
}
