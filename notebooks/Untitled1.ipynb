{
 "cells": [
  {
   "cell_type": "code",
   "execution_count": 4,
   "id": "0fa65119-9bb5-414c-9d35-56f15d211435",
   "metadata": {},
   "outputs": [],
   "source": [
    "import pandas as pd\n",
    "import tqdm\n",
    "\n",
    "def process_games(file_path, start_game=0, end_game=None):\n",
    "    \"\"\"\n",
    "    Process games from a CSV file and expand the move sequences into individual rows,\n",
    "    keeping a running sequence of all moves up to the current move.\n",
    "\n",
    "    :param file_path: Path to the CSV file.\n",
    "    :param start_game: Index of the first game to process (0-indexed).\n",
    "    :param end_game: Index of the last game to process (exclusive, None processes all).\n",
    "    \"\"\"\n",
    "    games = pd.read_csv(file_path)\n",
    "\n",
    "    # Slice the DataFrame to only include the specified range of games\n",
    "    games_to_process = games.iloc[start_game:end_game]\n",
    "    \n",
    "    # Initialize an empty list to store the expanded move data\n",
    "    expanded_moves = []\n",
    "\n",
    "    for _, game in tqdm.tqdm(games_to_process.iterrows(), total=games_to_process.shape[0]):\n",
    "        # Check if 'moves' is not empty\n",
    "        if not game['moves'] or pd.isna(game['moves']):\n",
    "            continue  # Skip if moves are empty\n",
    "\n",
    "        moves = eval(game['moves'])\n",
    "        move_sequence = ''\n",
    "        for move_number, move in enumerate(moves, start=1):\n",
    "            move_sequence += move + ' '\n",
    "            expanded_moves.append({'position': move_sequence.strip(), 'move_number': move_number})\n",
    "    \n",
    "    # Convert the list of dictionaries to a DataFrame\n",
    "    expanded_moves_df = pd.DataFrame(expanded_moves)\n",
    "\n",
    "    return expanded_moves_df"
   ]
  },
  {
   "cell_type": "code",
   "execution_count": 30,
   "id": "7e697c5b-c838-4c21-a8ac-3560746529ef",
   "metadata": {
    "collapsed": true,
    "jupyter": {
     "outputs_hidden": true
    },
    "tags": []
   },
   "outputs": [
    {
     "name": "stderr",
     "output_type": "stream",
     "text": [
      "100%|██████████| 1500000/1500000 [10:54<00:00, 2291.04it/s]\n"
     ]
    },
    {
     "ename": "KeyboardInterrupt",
     "evalue": "",
     "output_type": "error",
     "traceback": [
      "\u001b[1;31m---------------------------------------------------------------------------\u001b[0m",
      "\u001b[1;31mKeyboardInterrupt\u001b[0m                         Traceback (most recent call last)",
      "Input \u001b[1;32mIn [30]\u001b[0m, in \u001b[0;36m<cell line: 3>\u001b[1;34m()\u001b[0m\n\u001b[0;32m      1\u001b[0m \u001b[38;5;66;03m# Usage example\u001b[39;00m\n\u001b[0;32m      2\u001b[0m file_path \u001b[38;5;241m=\u001b[39m \u001b[38;5;124m'\u001b[39m\u001b[38;5;124m../../testData/splitted_games/processed_moves.csv\u001b[39m\u001b[38;5;124m'\u001b[39m\n\u001b[1;32m----> 3\u001b[0m processed_games_df \u001b[38;5;241m=\u001b[39m \u001b[43mprocess_games\u001b[49m\u001b[43m(\u001b[49m\u001b[43mfile_path\u001b[49m\u001b[43m,\u001b[49m\u001b[43m \u001b[49m\u001b[38;5;241;43m0\u001b[39;49m\u001b[43m,\u001b[49m\u001b[43m \u001b[49m\u001b[38;5;241;43m1500000\u001b[39;49m\u001b[43m)\u001b[49m\n",
      "Input \u001b[1;32mIn [4]\u001b[0m, in \u001b[0;36mprocess_games\u001b[1;34m(file_path, start_game, end_game)\u001b[0m\n\u001b[0;32m     30\u001b[0m         expanded_moves\u001b[38;5;241m.\u001b[39mappend({\u001b[38;5;124m'\u001b[39m\u001b[38;5;124mposition\u001b[39m\u001b[38;5;124m'\u001b[39m: move_sequence\u001b[38;5;241m.\u001b[39mstrip(), \u001b[38;5;124m'\u001b[39m\u001b[38;5;124mmove_number\u001b[39m\u001b[38;5;124m'\u001b[39m: move_number})\n\u001b[0;32m     32\u001b[0m \u001b[38;5;66;03m# Convert the list of dictionaries to a DataFrame\u001b[39;00m\n\u001b[1;32m---> 33\u001b[0m expanded_moves_df \u001b[38;5;241m=\u001b[39m \u001b[43mpd\u001b[49m\u001b[38;5;241;43m.\u001b[39;49m\u001b[43mDataFrame\u001b[49m\u001b[43m(\u001b[49m\u001b[43mexpanded_moves\u001b[49m\u001b[43m)\u001b[49m\n\u001b[0;32m     35\u001b[0m \u001b[38;5;28;01mreturn\u001b[39;00m expanded_moves_df\n",
      "File \u001b[1;32m~\\anaconda3\\lib\\site-packages\\pandas\\core\\frame.py:746\u001b[0m, in \u001b[0;36mDataFrame.__init__\u001b[1;34m(self, data, index, columns, dtype, copy)\u001b[0m\n\u001b[0;32m    744\u001b[0m     \u001b[38;5;28;01mif\u001b[39;00m columns \u001b[38;5;129;01mis\u001b[39;00m \u001b[38;5;129;01mnot\u001b[39;00m \u001b[38;5;28;01mNone\u001b[39;00m:\n\u001b[0;32m    745\u001b[0m         columns \u001b[38;5;241m=\u001b[39m ensure_index(columns)\n\u001b[1;32m--> 746\u001b[0m     arrays, columns, index \u001b[38;5;241m=\u001b[39m \u001b[43mnested_data_to_arrays\u001b[49m\u001b[43m(\u001b[49m\n\u001b[0;32m    747\u001b[0m \u001b[43m        \u001b[49m\u001b[38;5;66;43;03m# error: Argument 3 to \"nested_data_to_arrays\" has incompatible\u001b[39;49;00m\n\u001b[0;32m    748\u001b[0m \u001b[43m        \u001b[49m\u001b[38;5;66;43;03m# type \"Optional[Collection[Any]]\"; expected \"Optional[Index]\"\u001b[39;49;00m\n\u001b[0;32m    749\u001b[0m \u001b[43m        \u001b[49m\u001b[43mdata\u001b[49m\u001b[43m,\u001b[49m\n\u001b[0;32m    750\u001b[0m \u001b[43m        \u001b[49m\u001b[43mcolumns\u001b[49m\u001b[43m,\u001b[49m\n\u001b[0;32m    751\u001b[0m \u001b[43m        \u001b[49m\u001b[43mindex\u001b[49m\u001b[43m,\u001b[49m\u001b[43m  \u001b[49m\u001b[38;5;66;43;03m# type: ignore[arg-type]\u001b[39;49;00m\n\u001b[0;32m    752\u001b[0m \u001b[43m        \u001b[49m\u001b[43mdtype\u001b[49m\u001b[43m,\u001b[49m\n\u001b[0;32m    753\u001b[0m \u001b[43m    \u001b[49m\u001b[43m)\u001b[49m\n\u001b[0;32m    754\u001b[0m     mgr \u001b[38;5;241m=\u001b[39m arrays_to_mgr(\n\u001b[0;32m    755\u001b[0m         arrays,\n\u001b[0;32m    756\u001b[0m         columns,\n\u001b[1;32m   (...)\u001b[0m\n\u001b[0;32m    759\u001b[0m         typ\u001b[38;5;241m=\u001b[39mmanager,\n\u001b[0;32m    760\u001b[0m     )\n\u001b[0;32m    761\u001b[0m \u001b[38;5;28;01melse\u001b[39;00m:\n",
      "File \u001b[1;32m~\\anaconda3\\lib\\site-packages\\pandas\\core\\internals\\construction.py:510\u001b[0m, in \u001b[0;36mnested_data_to_arrays\u001b[1;34m(data, columns, index, dtype)\u001b[0m\n\u001b[0;32m    507\u001b[0m \u001b[38;5;28;01mif\u001b[39;00m is_named_tuple(data[\u001b[38;5;241m0\u001b[39m]) \u001b[38;5;129;01mand\u001b[39;00m columns \u001b[38;5;129;01mis\u001b[39;00m \u001b[38;5;28;01mNone\u001b[39;00m:\n\u001b[0;32m    508\u001b[0m     columns \u001b[38;5;241m=\u001b[39m ensure_index(data[\u001b[38;5;241m0\u001b[39m]\u001b[38;5;241m.\u001b[39m_fields)\n\u001b[1;32m--> 510\u001b[0m arrays, columns \u001b[38;5;241m=\u001b[39m \u001b[43mto_arrays\u001b[49m\u001b[43m(\u001b[49m\u001b[43mdata\u001b[49m\u001b[43m,\u001b[49m\u001b[43m \u001b[49m\u001b[43mcolumns\u001b[49m\u001b[43m,\u001b[49m\u001b[43m \u001b[49m\u001b[43mdtype\u001b[49m\u001b[38;5;241;43m=\u001b[39;49m\u001b[43mdtype\u001b[49m\u001b[43m)\u001b[49m\n\u001b[0;32m    511\u001b[0m columns \u001b[38;5;241m=\u001b[39m ensure_index(columns)\n\u001b[0;32m    513\u001b[0m \u001b[38;5;28;01mif\u001b[39;00m index \u001b[38;5;129;01mis\u001b[39;00m \u001b[38;5;28;01mNone\u001b[39;00m:\n",
      "File \u001b[1;32m~\\anaconda3\\lib\\site-packages\\pandas\\core\\internals\\construction.py:867\u001b[0m, in \u001b[0;36mto_arrays\u001b[1;34m(data, columns, dtype)\u001b[0m\n\u001b[0;32m    865\u001b[0m     arr \u001b[38;5;241m=\u001b[39m _list_to_arrays(data)\n\u001b[0;32m    866\u001b[0m \u001b[38;5;28;01melif\u001b[39;00m \u001b[38;5;28misinstance\u001b[39m(data[\u001b[38;5;241m0\u001b[39m], abc\u001b[38;5;241m.\u001b[39mMapping):\n\u001b[1;32m--> 867\u001b[0m     arr, columns \u001b[38;5;241m=\u001b[39m \u001b[43m_list_of_dict_to_arrays\u001b[49m\u001b[43m(\u001b[49m\u001b[43mdata\u001b[49m\u001b[43m,\u001b[49m\u001b[43m \u001b[49m\u001b[43mcolumns\u001b[49m\u001b[43m)\u001b[49m\n\u001b[0;32m    868\u001b[0m \u001b[38;5;28;01melif\u001b[39;00m \u001b[38;5;28misinstance\u001b[39m(data[\u001b[38;5;241m0\u001b[39m], ABCSeries):\n\u001b[0;32m    869\u001b[0m     arr, columns \u001b[38;5;241m=\u001b[39m _list_of_series_to_arrays(data, columns)\n",
      "File \u001b[1;32m~\\anaconda3\\lib\\site-packages\\pandas\\core\\internals\\construction.py:947\u001b[0m, in \u001b[0;36m_list_of_dict_to_arrays\u001b[1;34m(data, columns)\u001b[0m\n\u001b[0;32m    945\u001b[0m     gen \u001b[38;5;241m=\u001b[39m (\u001b[38;5;28mlist\u001b[39m(x\u001b[38;5;241m.\u001b[39mkeys()) \u001b[38;5;28;01mfor\u001b[39;00m x \u001b[38;5;129;01min\u001b[39;00m data)\n\u001b[0;32m    946\u001b[0m     sort \u001b[38;5;241m=\u001b[39m \u001b[38;5;129;01mnot\u001b[39;00m \u001b[38;5;28many\u001b[39m(\u001b[38;5;28misinstance\u001b[39m(d, \u001b[38;5;28mdict\u001b[39m) \u001b[38;5;28;01mfor\u001b[39;00m d \u001b[38;5;129;01min\u001b[39;00m data)\n\u001b[1;32m--> 947\u001b[0m     pre_cols \u001b[38;5;241m=\u001b[39m \u001b[43mlib\u001b[49m\u001b[38;5;241;43m.\u001b[39;49m\u001b[43mfast_unique_multiple_list_gen\u001b[49m\u001b[43m(\u001b[49m\u001b[43mgen\u001b[49m\u001b[43m,\u001b[49m\u001b[43m \u001b[49m\u001b[43msort\u001b[49m\u001b[38;5;241;43m=\u001b[39;49m\u001b[43msort\u001b[49m\u001b[43m)\u001b[49m\n\u001b[0;32m    948\u001b[0m     columns \u001b[38;5;241m=\u001b[39m ensure_index(pre_cols)\n\u001b[0;32m    950\u001b[0m \u001b[38;5;66;03m# assure that they are of the base dict class and not of derived\u001b[39;00m\n\u001b[0;32m    951\u001b[0m \u001b[38;5;66;03m# classes\u001b[39;00m\n",
      "File \u001b[1;32m~\\anaconda3\\lib\\site-packages\\pandas\\_libs\\lib.pyx:419\u001b[0m, in \u001b[0;36mpandas._libs.lib.fast_unique_multiple_list_gen\u001b[1;34m()\u001b[0m\n",
      "File \u001b[1;32m~\\anaconda3\\lib\\site-packages\\pandas\\core\\internals\\construction.py:945\u001b[0m, in \u001b[0;36m<genexpr>\u001b[1;34m(.0)\u001b[0m\n\u001b[0;32m    925\u001b[0m \u001b[38;5;250m\u001b[39m\u001b[38;5;124;03m\"\"\"\u001b[39;00m\n\u001b[0;32m    926\u001b[0m \u001b[38;5;124;03mConvert list of dicts to numpy arrays\u001b[39;00m\n\u001b[0;32m    927\u001b[0m \n\u001b[1;32m   (...)\u001b[0m\n\u001b[0;32m    942\u001b[0m \u001b[38;5;124;03mcolumns : Index\u001b[39;00m\n\u001b[0;32m    943\u001b[0m \u001b[38;5;124;03m\"\"\"\u001b[39;00m\n\u001b[0;32m    944\u001b[0m \u001b[38;5;28;01mif\u001b[39;00m columns \u001b[38;5;129;01mis\u001b[39;00m \u001b[38;5;28;01mNone\u001b[39;00m:\n\u001b[1;32m--> 945\u001b[0m     gen \u001b[38;5;241m=\u001b[39m (\u001b[38;5;28mlist\u001b[39m(\u001b[43mx\u001b[49m\u001b[38;5;241;43m.\u001b[39;49m\u001b[43mkeys\u001b[49m()) \u001b[38;5;28;01mfor\u001b[39;00m x \u001b[38;5;129;01min\u001b[39;00m data)\n\u001b[0;32m    946\u001b[0m     sort \u001b[38;5;241m=\u001b[39m \u001b[38;5;129;01mnot\u001b[39;00m \u001b[38;5;28many\u001b[39m(\u001b[38;5;28misinstance\u001b[39m(d, \u001b[38;5;28mdict\u001b[39m) \u001b[38;5;28;01mfor\u001b[39;00m d \u001b[38;5;129;01min\u001b[39;00m data)\n\u001b[0;32m    947\u001b[0m     pre_cols \u001b[38;5;241m=\u001b[39m lib\u001b[38;5;241m.\u001b[39mfast_unique_multiple_list_gen(gen, sort\u001b[38;5;241m=\u001b[39msort)\n",
      "\u001b[1;31mKeyboardInterrupt\u001b[0m: "
     ]
    }
   ],
   "source": [
    "\n",
    "# Usage example\n",
    "file_path = '../../testData/splitted_games/processed_moves.csv'\n",
    "processed_games_df = process_games(file_path, 0, 1500000)  # For example, process the first 100 games\n",
    "\n"
   ]
  },
  {
   "cell_type": "code",
   "execution_count": 31,
   "id": "c907d50a-5a7d-4f72-85fd-e76ae87ecae5",
   "metadata": {
    "collapsed": true,
    "jupyter": {
     "outputs_hidden": true
    },
    "tags": []
   },
   "outputs": [
    {
     "data": {
      "text/html": [
       "<div>\n",
       "<style scoped>\n",
       "    .dataframe tbody tr th:only-of-type {\n",
       "        vertical-align: middle;\n",
       "    }\n",
       "\n",
       "    .dataframe tbody tr th {\n",
       "        vertical-align: top;\n",
       "    }\n",
       "\n",
       "    .dataframe thead th {\n",
       "        text-align: right;\n",
       "    }\n",
       "</style>\n",
       "<table border=\"1\" class=\"dataframe\">\n",
       "  <thead>\n",
       "    <tr style=\"text-align: right;\">\n",
       "      <th></th>\n",
       "      <th>position</th>\n",
       "      <th>move_number</th>\n",
       "    </tr>\n",
       "  </thead>\n",
       "  <tbody>\n",
       "    <tr>\n",
       "      <th>0</th>\n",
       "      <td>d2d4</td>\n",
       "      <td>1</td>\n",
       "    </tr>\n",
       "    <tr>\n",
       "      <th>120</th>\n",
       "      <td>d2d4</td>\n",
       "      <td>1</td>\n",
       "    </tr>\n",
       "    <tr>\n",
       "      <th>150</th>\n",
       "      <td>d2d4</td>\n",
       "      <td>1</td>\n",
       "    </tr>\n",
       "    <tr>\n",
       "      <th>270</th>\n",
       "      <td>d2d4</td>\n",
       "      <td>1</td>\n",
       "    </tr>\n",
       "    <tr>\n",
       "      <th>319</th>\n",
       "      <td>d2d4</td>\n",
       "      <td>1</td>\n",
       "    </tr>\n",
       "    <tr>\n",
       "      <th>...</th>\n",
       "      <td>...</td>\n",
       "      <td>...</td>\n",
       "    </tr>\n",
       "    <tr>\n",
       "      <th>8708644</th>\n",
       "      <td>d2d4</td>\n",
       "      <td>1</td>\n",
       "    </tr>\n",
       "    <tr>\n",
       "      <th>8708953</th>\n",
       "      <td>d2d4</td>\n",
       "      <td>1</td>\n",
       "    </tr>\n",
       "    <tr>\n",
       "      <th>8709223</th>\n",
       "      <td>d2d4</td>\n",
       "      <td>1</td>\n",
       "    </tr>\n",
       "    <tr>\n",
       "      <th>8709373</th>\n",
       "      <td>d2d4</td>\n",
       "      <td>1</td>\n",
       "    </tr>\n",
       "    <tr>\n",
       "      <th>8709403</th>\n",
       "      <td>d2d4</td>\n",
       "      <td>1</td>\n",
       "    </tr>\n",
       "  </tbody>\n",
       "</table>\n",
       "<p>78337 rows × 2 columns</p>\n",
       "</div>"
      ],
      "text/plain": [
       "        position  move_number\n",
       "0           d2d4            1\n",
       "120         d2d4            1\n",
       "150         d2d4            1\n",
       "270         d2d4            1\n",
       "319         d2d4            1\n",
       "...          ...          ...\n",
       "8708644     d2d4            1\n",
       "8708953     d2d4            1\n",
       "8709223     d2d4            1\n",
       "8709373     d2d4            1\n",
       "8709403     d2d4            1\n",
       "\n",
       "[78337 rows x 2 columns]"
      ]
     },
     "execution_count": 31,
     "metadata": {},
     "output_type": "execute_result"
    }
   ],
   "source": [
    "processed_games_df[processed_games_df['position']=='d2d4']"
   ]
  },
  {
   "cell_type": "code",
   "execution_count": 32,
   "id": "c06f6a17-d103-4334-b99a-7049922b0194",
   "metadata": {},
   "outputs": [
    {
     "name": "stdout",
     "output_type": "stream",
     "text": [
      "The number of rows in the DataFrame is: 8709433\n"
     ]
    }
   ],
   "source": [
    "num_rows = processed_games_df.shape[0]\n",
    "print(f\"The number of rows in the DataFrame is: {num_rows}\")\n"
   ]
  },
  {
   "cell_type": "code",
   "execution_count": 33,
   "id": "9cc3e3ee-e017-41a9-825a-248475b231fe",
   "metadata": {
    "collapsed": true,
    "jupyter": {
     "outputs_hidden": true
    },
    "tags": []
   },
   "outputs": [
    {
     "name": "stdout",
     "output_type": "stream",
     "text": [
      "           count\n",
      "position        \n",
      "a2a3         379\n",
      "a2a4         314\n",
      "b1a3          47\n",
      "b1c3        1848\n",
      "b2b3        5122\n",
      "b2b4        1321\n",
      "c2c3         953\n",
      "c2c4        9197\n",
      "d2d3        2882\n",
      "d2d4       78337\n",
      "e2e3        6220\n",
      "e2e4      172409\n",
      "f2f3         504\n",
      "f2f4        2889\n",
      "g1f3       10898\n",
      "g1h3          50\n",
      "g2g3        4885\n",
      "g2g4         779\n",
      "h2h3         170\n",
      "h2h4         312\n"
     ]
    }
   ],
   "source": [
    "# Aggregate and count where move_number is 1\n",
    "move_one_counts = processed_games_df[processed_games_df['move_number'] == 1].groupby('position').count()\n",
    "\n",
    "# Rename the column for clarity\n",
    "move_one_counts = move_one_counts.rename(columns={'move_number': 'count'})\n",
    "\n",
    "print(move_one_counts)\n"
   ]
  },
  {
   "cell_type": "code",
   "execution_count": 34,
   "id": "53b5434a-1c46-4885-b0aa-f805f3c1678c",
   "metadata": {},
   "outputs": [
    {
     "name": "stdout",
     "output_type": "stream",
     "text": [
      "         move_number                                           position  count\n",
      "0                  1                                               a2a3    379\n",
      "1                  1                                               a2a4    314\n",
      "2                  1                                               b1a3     47\n",
      "3                  1                                               b1c3   1848\n",
      "4                  1                                               b2b3   5122\n",
      "...              ...                                                ...    ...\n",
      "6347983           30  h2h4 h7h5 g2g3 c7c6 f2f3 f7f6 g3g4 d7d5 f1h3 e...      1\n",
      "6347984           30  h2h4 h7h5 g2g3 d7d6 f1g2 c8d7 d2d3 b8c6 c1g5 f...      1\n",
      "6347985           30  h2h4 h7h5 h1h3 d7d6 h3e3 g8f6 d2d4 f6g4 e3f3 b...      1\n",
      "6347986           30  h2h4 h7h6 b1c3 d7d6 g1f3 e7e6 d2d3 d6d5 g2g4 g...      1\n",
      "6347987           30  h2h4 h7h6 e2e4 g8f6 c2c3 f6e4 f1d3 e4c5 d3e2 b...      1\n",
      "\n",
      "[6347988 rows x 3 columns]\n"
     ]
    }
   ],
   "source": [
    "# Aggregate and count occurrences for each unique position sequence at each move number\n",
    "move_counts = processed_games_df.groupby(['move_number', 'position']).size().reset_index(name='count')\n",
    "\n",
    "print(move_counts)\n"
   ]
  },
  {
   "cell_type": "code",
   "execution_count": 35,
   "id": "6df2c6c1-cbdc-473e-81f6-a518ba43c36a",
   "metadata": {},
   "outputs": [
    {
     "data": {
      "image/png": "[encoded data removed]",
      "text/plain": [
       "<Figure size 720x432 with 1 Axes>"
      ]
     },
     "metadata": {
      "needs_background": "light"
     },
     "output_type": "display_data"
    }
   ],
   "source": [
    "import matplotlib.pyplot as plt\n",
    "\n",
    "# Count unique positions per move sequence\n",
    "unique_positions_per_move = processed_games_df.groupby('move_number')['position'].nunique()\n",
    "\n",
    "# Get the total count of positions per move\n",
    "total_positions_per_move = processed_games_df.groupby('move_number').size()\n",
    "\n",
    "# Plot the data\n",
    "plt.figure(figsize=(10, 6))\n",
    "\n",
    "# Bar plot for unique positions\n",
    "unique_positions_per_move.plot(kind='bar', alpha=0.5, label='Unique Positions')\n",
    "\n",
    "# Line plot for total count of positions\n",
    "total_positions_per_move.plot(kind='line', color='red', marker='o', label='Total Count of Positions')\n",
    "\n",
    "plt.title('Unique Positions and Total Count of Positions per Move Sequence')\n",
    "plt.xlabel('Move Number')\n",
    "plt.ylabel('Count')\n",
    "plt.xticks(rotation=0)  # Keep the x-axis labels readable\n",
    "plt.legend()\n",
    "plt.tight_layout()\n",
    "plt.show()\n"
   ]
  },
  {
   "cell_type": "code",
   "execution_count": 36,
   "id": "00cd017f-49cf-4804-ae39-dd196027debe",
   "metadata": {},
   "outputs": [
    {
     "data": {
      "text/plain": [
       "<Figure size 864x432 with 0 Axes>"
      ]
     },
     "metadata": {},
     "output_type": "display_data"
    },
    {
     "data": {
      "image/png": "[encoded data removed]",
      "text/plain": [
       "<Figure size 864x432 with 1 Axes>"
      ]
     },
     "metadata": {
      "needs_background": "light"
     },
     "output_type": "display_data"
    }
   ],
   "source": [
    "import matplotlib.pyplot as plt\n",
    "\n",
    "# Create the plot\n",
    "plt.figure(figsize=(12, 6))\n",
    "ax = percentage_df.plot(kind='bar', stacked=True, color=['skyblue', 'salmon'], figsize=(12, 6))\n",
    "plt.title('Percentage of Unique and Duplicate Positions per Move Sequence')\n",
    "plt.xlabel('Move Number')\n",
    "plt.ylabel('Percentage')\n",
    "plt.xticks(rotation=0)  # Keep the x-axis labels readable\n",
    "plt.legend(loc='upper right')\n",
    "\n",
    "# Annotate bars with the percentage of duplicate positions\n",
    "for i, rect in enumerate(ax.patches[len(ax.patches)//2:]):  # Iterate over the duplicate position bars\n",
    "    height = rect.get_height()\n",
    "    ax.text(rect.get_x() + rect.get_width() / 2.0, \n",
    "            rect.get_y() + height / 2.0, \n",
    "            f'{percentage_duplicates.iloc[i]:.1f}%', \n",
    "            ha='center', \n",
    "            va='center', \n",
    "            color='black',\n",
    "            fontsize=9)\n",
    "\n",
    "plt.tight_layout()\n",
    "plt.show()\n"
   ]
  },
  {
   "cell_type": "code",
   "execution_count": 38,
   "id": "36568760-d17e-4f0b-8e64-5c027fd8f2b2",
   "metadata": {},
   "outputs": [],
   "source": [
    "processed_games_df.to_csv('../../testData/splitted_games/processed_games_moves.csv', index=False)\n"
   ]
  }
 ],
 "metadata": {
  "kernelspec": {
   "display_name": "Python 3 (ipykernel)",
   "language": "python",
   "name": "python3"
  },
  "language_info": {
   "codemirror_mode": {
    "name": "ipython",
    "version": 3
   },
   "file_extension": ".py",
   "mimetype": "text/x-python",
   "name": "python",
   "nbconvert_exporter": "python",
   "pygments_lexer": "ipython3",
   "version": "3.9.12"
  }
 },
 "nbformat": 4,
 "nbformat_minor": 5
}
