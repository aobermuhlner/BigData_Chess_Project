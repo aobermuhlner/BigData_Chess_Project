{
 "cells": [
  {
   "cell_type": "code",
   "execution_count": 1,
   "id": "382838fe-fd37-4c7e-8cfd-95bc1e5ef866",
   "metadata": {},
   "outputs": [],
   "source": [
    "import chess #https://github.com/niklasf/python-chess\n",
    "from stockfish import Stockfish\n",
    "\n",
    "#We'll create an intentionally worse stockfish engine to estimate complexity of positions\n",
    "stockfish_good=Stockfish(\"C:/Users/aober/Documents/Data_Science_Studium/4Semester/BigData/stockfish/stockfish-windows-x86-64-avx2.exe\")\n",
    "stockfish_good.set_depth(20)#How deep the AI looks\n",
    "stockfish_good.set_skill_level(20)#Highest rank stockfish\n"
   ]
  },
  {
   "cell_type": "code",
   "execution_count": 2,
   "id": "b6a4a235-8b76-42d7-b393-738bec7cadcc",
   "metadata": {},
   "outputs": [],
   "source": [
    "import chess.pgn\n",
    "import pandas as pd\n",
    "pd.options.display.max_columns=999\n",
    "import datetime\n",
    "import tqdm\n",
    "import zipfile"
   ]
  },
  {
   "cell_type": "markdown",
   "id": "755895ae-275b-48ef-a94c-f3944ceaf741",
   "metadata": {},
   "source": [
    "# Process PGN into Python Friendlier Form"
   ]
  },
  {
   "cell_type": "code",
   "execution_count": 4,
   "id": "1a7169fe-1ea9-4570-b683-b7b124cf89a4",
   "metadata": {
    "tags": []
   },
   "outputs": [
    {
     "name": "stderr",
     "output_type": "stream",
     "text": [
      "  1%|          | 11/2000 [00:00<00:05, 366.95it/s]\n"
     ]
    },
    {
     "ename": "AttributeError",
     "evalue": "'NoneType' object has no attribute 'headers'",
     "output_type": "error",
     "traceback": [
      "\u001b[1;31m---------------------------------------------------------------------------\u001b[0m",
      "\u001b[1;31mAttributeError\u001b[0m                            Traceback (most recent call last)",
      "Input \u001b[1;32mIn [4]\u001b[0m, in \u001b[0;36m<cell line: 3>\u001b[1;34m()\u001b[0m\n\u001b[0;32m      5\u001b[0m row\u001b[38;5;241m=\u001b[39m{}\n\u001b[0;32m      6\u001b[0m game \u001b[38;5;241m=\u001b[39m chess\u001b[38;5;241m.\u001b[39mpgn\u001b[38;5;241m.\u001b[39mread_game(pgn)\n\u001b[1;32m----> 7\u001b[0m row[\u001b[38;5;124m'\u001b[39m\u001b[38;5;124mheaders\u001b[39m\u001b[38;5;124m'\u001b[39m]\u001b[38;5;241m=\u001b[39m\u001b[43mgame\u001b[49m\u001b[38;5;241;43m.\u001b[39;49m\u001b[43mheaders\u001b[49m\u001b[38;5;241m.\u001b[39m\u001b[38;5;18m__dict__\u001b[39m\n\u001b[0;32m      8\u001b[0m row[\u001b[38;5;124m'\u001b[39m\u001b[38;5;124mmoves\u001b[39m\u001b[38;5;124m'\u001b[39m]\u001b[38;5;241m=\u001b[39m[x\u001b[38;5;241m.\u001b[39muci() \u001b[38;5;28;01mfor\u001b[39;00m x \u001b[38;5;129;01min\u001b[39;00m game\u001b[38;5;241m.\u001b[39mmainline_moves()]\n\u001b[0;32m      9\u001b[0m rows\u001b[38;5;241m.\u001b[39mappend(row)\n",
      "\u001b[1;31mAttributeError\u001b[0m: 'NoneType' object has no attribute 'headers'"
     ]
    }
   ],
   "source": [
    "NUM_GAMES=2000  #from https://database.nikonoel.fr/ Not necessary but helpful to get tqdm to give estimate\n",
    "rows=[]\n",
    "with open(f'../../testData/lichess_db_standard_rated_2013-04/test_data.pgn') as pgn:\n",
    "    for game in tqdm.tqdm(range(NUM_GAMES)):\n",
    "        row={}\n",
    "        game = chess.pgn.read_game(pgn)\n",
    "        row['headers']=game.headers.__dict__\n",
    "        row['moves']=[x.uci() for x in game.mainline_moves()]\n",
    "        rows.append(row)\n",
    "games=pd.DataFrame(rows)\n",
    "games"
   ]
  },
  {
   "cell_type": "code",
   "execution_count": 3,
   "id": "79705421-80f1-454a-952d-1744639c5976",
   "metadata": {},
   "outputs": [
    {
     "ename": "NameError",
     "evalue": "name 'games' is not defined",
     "output_type": "error",
     "traceback": [
      "\u001b[1;31m---------------------------------------------------------------------------\u001b[0m",
      "\u001b[1;31mNameError\u001b[0m                                 Traceback (most recent call last)",
      "Input \u001b[1;32mIn [3]\u001b[0m, in \u001b[0;36m<cell line: 2>\u001b[1;34m()\u001b[0m\n\u001b[0;32m      1\u001b[0m \u001b[38;5;66;03m#Save as CSV for easy, faster access\u001b[39;00m\n\u001b[1;32m----> 2\u001b[0m \u001b[43mgames\u001b[49m\u001b[38;5;241m.\u001b[39mto_csv(\u001b[38;5;124m\"\u001b[39m\u001b[38;5;124m../../testData/loaded_games.csv\u001b[39m\u001b[38;5;124m\"\u001b[39m,index\u001b[38;5;241m=\u001b[39m\u001b[38;5;28;01mFalse\u001b[39;00m)\n",
      "\u001b[1;31mNameError\u001b[0m: name 'games' is not defined"
     ]
    }
   ],
   "source": [
    "#Save as CSV for easy, faster access\n",
    "games.to_csv(\"../../testData/loaded_games.csv\",index=False)"
   ]
  },
  {
   "cell_type": "markdown",
   "id": "12c81eed-c574-41c7-91ea-7e71d4263bec",
   "metadata": {},
   "source": [
    "Loading a big PGN file is a little slow. There are more advanced coding architectures meant to handle that since sometimes the data creation rate is faster than you can process on one machine. Essentially you would do stream processing with scalable worker nodes. Another optimation would be multi-threading since there is a lot of I/O (input output) but multi-processing may work well too. Since 20 minutes isn't the end of the world we will just wait for now.  \n",
    "  \n",
    "Let me know if you'd like a tutorial on any of that and I'll prioritize putting one together.\n"
   ]
  },
  {
   "cell_type": "markdown",
   "id": "6db4c3d5-60fa-4ce5-b9a5-3892a7ba0b8f",
   "metadata": {},
   "source": [
    "# Game Analysis\n",
    "As mentioned in the intro we want to run through these games to add extra analytics such as: \n",
    "- position complexity (count blunders by player, average complexity)\n",
    "- openings used\n",
    "- win rates by Elo rating and openings"
   ]
  },
  {
   "cell_type": "code",
   "execution_count": 5,
   "id": "26835a38-06b8-47c4-8b36-42106f63b1e4",
   "metadata": {},
   "outputs": [
    {
     "data": {
      "text/html": [
       "<div>\n",
       "<style scoped>\n",
       "    .dataframe tbody tr th:only-of-type {\n",
       "        vertical-align: middle;\n",
       "    }\n",
       "\n",
       "    .dataframe tbody tr th {\n",
       "        vertical-align: top;\n",
       "    }\n",
       "\n",
       "    .dataframe thead th {\n",
       "        text-align: right;\n",
       "    }\n",
       "</style>\n",
       "<table border=\"1\" class=\"dataframe\">\n",
       "  <thead>\n",
       "    <tr style=\"text-align: right;\">\n",
       "      <th></th>\n",
       "      <th>headers</th>\n",
       "      <th>moves</th>\n",
       "    </tr>\n",
       "  </thead>\n",
       "  <tbody>\n",
       "    <tr>\n",
       "      <th>0</th>\n",
       "      <td>{'_tag_roster': {'Event': 'Rated Blitz game', ...</td>\n",
       "      <td>['e2e4', 'e7e6', 'd2d4', 'd7d5', 'b1c3', 'f8b4...</td>\n",
       "    </tr>\n",
       "    <tr>\n",
       "      <th>1</th>\n",
       "      <td>{'_tag_roster': {'Event': 'Rated Rapid game', ...</td>\n",
       "      <td>['e2e4', 'c7c5', 'g1f3', 'd7d6', 'b1c3', 'g8f6...</td>\n",
       "    </tr>\n",
       "    <tr>\n",
       "      <th>2</th>\n",
       "      <td>{'_tag_roster': {'Event': 'Rated Blitz game', ...</td>\n",
       "      <td>['e2e4', 'g7g6', 'd2d4', 'f8g7', 'b1c3', 'c7c6...</td>\n",
       "    </tr>\n",
       "    <tr>\n",
       "      <th>3</th>\n",
       "      <td>{'_tag_roster': {'Event': 'Rated Blitz game', ...</td>\n",
       "      <td>['d2d4', 'd7d5', 'c2c4', 'c7c6', 'b1c3', 'g8f6...</td>\n",
       "    </tr>\n",
       "    <tr>\n",
       "      <th>4</th>\n",
       "      <td>{'_tag_roster': {'Event': 'Rated Blitz tournam...</td>\n",
       "      <td>['d2d4', 'f7f5', 'g2g3', 'g8f6', 'f1g2', 'g7g6...</td>\n",
       "    </tr>\n",
       "    <tr>\n",
       "      <th>...</th>\n",
       "      <td>...</td>\n",
       "      <td>...</td>\n",
       "    </tr>\n",
       "    <tr>\n",
       "      <th>1995</th>\n",
       "      <td>{'_tag_roster': {'Event': 'Rated Blitz game', ...</td>\n",
       "      <td>['e2e4', 'd7d6', 'd2d4', 'g8f6', 'b1c3', 'g7g6...</td>\n",
       "    </tr>\n",
       "    <tr>\n",
       "      <th>1996</th>\n",
       "      <td>{'_tag_roster': {'Event': 'Rated Blitz tournam...</td>\n",
       "      <td>['e2e4', 'e7e6', 'b2b3', 'd7d5', 'c1b2', 'd5e4...</td>\n",
       "    </tr>\n",
       "    <tr>\n",
       "      <th>1997</th>\n",
       "      <td>{'_tag_roster': {'Event': 'Rated Blitz game', ...</td>\n",
       "      <td>['e2e4', 'c7c5', 'g1f3', 'd7d6', 'd2d4', 'c5d4...</td>\n",
       "    </tr>\n",
       "    <tr>\n",
       "      <th>1998</th>\n",
       "      <td>{'_tag_roster': {'Event': 'Rated Blitz game', ...</td>\n",
       "      <td>['e2e4', 'e7e5', 'g1f3', 'b8c6', 'f1b5', 'g8f6...</td>\n",
       "    </tr>\n",
       "    <tr>\n",
       "      <th>1999</th>\n",
       "      <td>{'_tag_roster': {'Event': 'Rated Blitz game', ...</td>\n",
       "      <td>['e2e4', 'c7c5', 'g1f3', 'd7d6', 'd2d4', 'c5d4...</td>\n",
       "    </tr>\n",
       "  </tbody>\n",
       "</table>\n",
       "<p>2000 rows × 2 columns</p>\n",
       "</div>"
      ],
      "text/plain": [
       "                                                headers  \\\n",
       "0     {'_tag_roster': {'Event': 'Rated Blitz game', ...   \n",
       "1     {'_tag_roster': {'Event': 'Rated Rapid game', ...   \n",
       "2     {'_tag_roster': {'Event': 'Rated Blitz game', ...   \n",
       "3     {'_tag_roster': {'Event': 'Rated Blitz game', ...   \n",
       "4     {'_tag_roster': {'Event': 'Rated Blitz tournam...   \n",
       "...                                                 ...   \n",
       "1995  {'_tag_roster': {'Event': 'Rated Blitz game', ...   \n",
       "1996  {'_tag_roster': {'Event': 'Rated Blitz tournam...   \n",
       "1997  {'_tag_roster': {'Event': 'Rated Blitz game', ...   \n",
       "1998  {'_tag_roster': {'Event': 'Rated Blitz game', ...   \n",
       "1999  {'_tag_roster': {'Event': 'Rated Blitz game', ...   \n",
       "\n",
       "                                                  moves  \n",
       "0     ['e2e4', 'e7e6', 'd2d4', 'd7d5', 'b1c3', 'f8b4...  \n",
       "1     ['e2e4', 'c7c5', 'g1f3', 'd7d6', 'b1c3', 'g8f6...  \n",
       "2     ['e2e4', 'g7g6', 'd2d4', 'f8g7', 'b1c3', 'c7c6...  \n",
       "3     ['d2d4', 'd7d5', 'c2c4', 'c7c6', 'b1c3', 'g8f6...  \n",
       "4     ['d2d4', 'f7f5', 'g2g3', 'g8f6', 'f1g2', 'g7g6...  \n",
       "...                                                 ...  \n",
       "1995  ['e2e4', 'd7d6', 'd2d4', 'g8f6', 'b1c3', 'g7g6...  \n",
       "1996  ['e2e4', 'e7e6', 'b2b3', 'd7d5', 'c1b2', 'd5e4...  \n",
       "1997  ['e2e4', 'c7c5', 'g1f3', 'd7d6', 'd2d4', 'c5d4...  \n",
       "1998  ['e2e4', 'e7e5', 'g1f3', 'b8c6', 'f1b5', 'g8f6...  \n",
       "1999  ['e2e4', 'c7c5', 'g1f3', 'd7d6', 'd2d4', 'c5d4...  \n",
       "\n",
       "[2000 rows x 2 columns]"
      ]
     },
     "execution_count": 5,
     "metadata": {},
     "output_type": "execute_result"
    }
   ],
   "source": [
    "games=pd.read_csv(\"../../testData/loaded_games.csv\")\n",
    "games"
   ]
  },
  {
   "cell_type": "code",
   "execution_count": 6,
   "id": "39eb942f-863b-472f-9ad6-53b8378090d4",
   "metadata": {},
   "outputs": [],
   "source": [
    "#Convert moves from string into list of move strings \n",
    "\n",
    "#Try not to run eval unless you really need to and are sure the text comes from a trusted source\n",
    "games['moves']=games['moves'].apply(lambda x: eval(x))\n",
    "games['headers']=games['headers'].apply(lambda x: eval(x))#to dict"
   ]
  },
  {
   "cell_type": "code",
   "execution_count": 7,
   "id": "4d86dd69-dd03-4216-b185-b33478370e4f",
   "metadata": {},
   "outputs": [
    {
     "data": {
      "text/plain": [
       "0       [e2e4, e7e6, d2d4, d7d5, b1c3, f8b4, e4e5, g8e...\n",
       "1       [e2e4, c7c5, g1f3, d7d6, b1c3, g8f6, g2g3, g7g...\n",
       "2       [e2e4, g7g6, d2d4, f8g7, b1c3, c7c6, c1e3, d7d...\n",
       "3       [d2d4, d7d5, c2c4, c7c6, b1c3, g8f6, g1f3, e7e...\n",
       "4       [d2d4, f7f5, g2g3, g8f6, f1g2, g7g6, g1f3, f8g...\n",
       "                              ...                        \n",
       "1995    [e2e4, d7d6, d2d4, g8f6, b1c3, g7g6, g1f3, f8g...\n",
       "1996    [e2e4, e7e6, b2b3, d7d5, c1b2, d5e4, b1c3, f7f...\n",
       "1997    [e2e4, c7c5, g1f3, d7d6, d2d4, c5d4, d1d4, b8c...\n",
       "1998    [e2e4, e7e5, g1f3, b8c6, f1b5, g8f6, e1g1, f6e...\n",
       "1999    [e2e4, c7c5, g1f3, d7d6, d2d4, c5d4, f3d4, g8f...\n",
       "Name: moves, Length: 2000, dtype: object"
      ]
     },
     "execution_count": 7,
     "metadata": {},
     "output_type": "execute_result"
    }
   ],
   "source": [
    "games['moves']"
   ]
  },
  {
   "cell_type": "code",
   "execution_count": 15,
   "id": "4446e48e-a930-4c1b-bc54-1b721e64dd52",
   "metadata": {},
   "outputs": [
    {
     "data": {
      "text/plain": [
       "{'_tag_roster': {'Event': 'Rated Blitz game',\n",
       "  'Site': '?',\n",
       "  'Date': '2020.06.01',\n",
       "  'Round': '-',\n",
       "  'White': 'Cor64',\n",
       "  'Black': 'matapalo',\n",
       "  'Result': '1/2-1/2'},\n",
       " '_others': {'LichessURL': 'https://lichess.org/kuUOsOML',\n",
       "  'WhiteElo': '2413',\n",
       "  'BlackElo': '2254',\n",
       "  'ECO': 'C18',\n",
       "  'Opening': 'French Defense: Winawer Variation, Poisoned Pawn Variation',\n",
       "  'TimeControl': '180+2',\n",
       "  'UTCDate': '2020.06.01',\n",
       "  'UTCTime': '00:00:00',\n",
       "  'Termination': 'Normal',\n",
       "  'WhiteRatingDiff': '-2',\n",
       "  'BlackRatingDiff': '+3'}}"
      ]
     },
     "execution_count": 15,
     "metadata": {},
     "output_type": "execute_result"
    }
   ],
   "source": [
    "game=games.iloc[0]\n",
    "game['headers']"
   ]
  },
  {
   "cell_type": "markdown",
   "id": "48958633-aac3-451b-a62d-60c965f0a255",
   "metadata": {},
   "source": [
    "## Grab Interesting Variables\n",
    "We're going to parse out specific data points from headers and moves. Anything interesting we will store as a top-level column on the dataframe so when we ultimately store this data it's ready to go for analysis.\n",
    "\n",
    "If you just want everything from headers you can use pd.json_normalize "
   ]
  },
  {
   "cell_type": "code",
   "execution_count": 8,
   "id": "c623f9ef-55ff-49f3-a483-f098b558ccb8",
   "metadata": {},
   "outputs": [
    {
     "data": {
      "text/html": [
       "<div>\n",
       "<style scoped>\n",
       "    .dataframe tbody tr th:only-of-type {\n",
       "        vertical-align: middle;\n",
       "    }\n",
       "\n",
       "    .dataframe tbody tr th {\n",
       "        vertical-align: top;\n",
       "    }\n",
       "\n",
       "    .dataframe thead th {\n",
       "        text-align: right;\n",
       "    }\n",
       "</style>\n",
       "<table border=\"1\" class=\"dataframe\">\n",
       "  <thead>\n",
       "    <tr style=\"text-align: right;\">\n",
       "      <th></th>\n",
       "      <th>headers</th>\n",
       "      <th>moves</th>\n",
       "      <th>lichess_id</th>\n",
       "      <th>ECO</th>\n",
       "      <th>white_elo</th>\n",
       "      <th>black_elo</th>\n",
       "      <th>opening_name</th>\n",
       "      <th>white_score</th>\n",
       "    </tr>\n",
       "  </thead>\n",
       "  <tbody>\n",
       "    <tr>\n",
       "      <th>0</th>\n",
       "      <td>{'_tag_roster': {'Event': 'Rated Blitz game', ...</td>\n",
       "      <td>[e2e4, e7e6, d2d4, d7d5, b1c3, f8b4, e4e5, g8e...</td>\n",
       "      <td>kuUOsOML</td>\n",
       "      <td>C18</td>\n",
       "      <td>2413</td>\n",
       "      <td>2254</td>\n",
       "      <td>French Defense: Winawer Variation, Poisoned Pa...</td>\n",
       "      <td>0.5</td>\n",
       "    </tr>\n",
       "    <tr>\n",
       "      <th>1</th>\n",
       "      <td>{'_tag_roster': {'Event': 'Rated Rapid game', ...</td>\n",
       "      <td>[e2e4, c7c5, g1f3, d7d6, b1c3, g8f6, g2g3, g7g...</td>\n",
       "      <td>YcFqJqyM</td>\n",
       "      <td>B50</td>\n",
       "      <td>2323</td>\n",
       "      <td>2415</td>\n",
       "      <td>Sicilian Defense</td>\n",
       "      <td>1.0</td>\n",
       "    </tr>\n",
       "    <tr>\n",
       "      <th>2</th>\n",
       "      <td>{'_tag_roster': {'Event': 'Rated Blitz game', ...</td>\n",
       "      <td>[e2e4, g7g6, d2d4, f8g7, b1c3, c7c6, c1e3, d7d...</td>\n",
       "      <td>AY9kSWFt</td>\n",
       "      <td>B06</td>\n",
       "      <td>2497</td>\n",
       "      <td>2426</td>\n",
       "      <td>Modern Defense: Standard Line</td>\n",
       "      <td>0.5</td>\n",
       "    </tr>\n",
       "    <tr>\n",
       "      <th>3</th>\n",
       "      <td>{'_tag_roster': {'Event': 'Rated Blitz game', ...</td>\n",
       "      <td>[d2d4, d7d5, c2c4, c7c6, b1c3, g8f6, g1f3, e7e...</td>\n",
       "      <td>ZZiTCh8x</td>\n",
       "      <td>D52</td>\n",
       "      <td>2387</td>\n",
       "      <td>2416</td>\n",
       "      <td>Queen's Gambit Declined</td>\n",
       "      <td>0.0</td>\n",
       "    </tr>\n",
       "    <tr>\n",
       "      <th>4</th>\n",
       "      <td>{'_tag_roster': {'Event': 'Rated Blitz tournam...</td>\n",
       "      <td>[d2d4, f7f5, g2g3, g8f6, f1g2, g7g6, g1f3, f8g...</td>\n",
       "      <td>DHvjCHM2</td>\n",
       "      <td>A81</td>\n",
       "      <td>2288</td>\n",
       "      <td>2469</td>\n",
       "      <td>Dutch Defense: Semi-Leningrad Variation</td>\n",
       "      <td>1.0</td>\n",
       "    </tr>\n",
       "    <tr>\n",
       "      <th>...</th>\n",
       "      <td>...</td>\n",
       "      <td>...</td>\n",
       "      <td>...</td>\n",
       "      <td>...</td>\n",
       "      <td>...</td>\n",
       "      <td>...</td>\n",
       "      <td>...</td>\n",
       "      <td>...</td>\n",
       "    </tr>\n",
       "    <tr>\n",
       "      <th>1995</th>\n",
       "      <td>{'_tag_roster': {'Event': 'Rated Blitz game', ...</td>\n",
       "      <td>[e2e4, d7d6, d2d4, g8f6, b1c3, g7g6, g1f3, f8g...</td>\n",
       "      <td>qmP74cCM</td>\n",
       "      <td>B08</td>\n",
       "      <td>2412</td>\n",
       "      <td>2424</td>\n",
       "      <td>Pirc Defense: Classical Variation</td>\n",
       "      <td>0.0</td>\n",
       "    </tr>\n",
       "    <tr>\n",
       "      <th>1996</th>\n",
       "      <td>{'_tag_roster': {'Event': 'Rated Blitz tournam...</td>\n",
       "      <td>[e2e4, e7e6, b2b3, d7d5, c1b2, d5e4, b1c3, f7f...</td>\n",
       "      <td>tDWQPO0F</td>\n",
       "      <td>C00</td>\n",
       "      <td>2429</td>\n",
       "      <td>2251</td>\n",
       "      <td>French Defense: Horwitz Attack, Papa-Ticulat G...</td>\n",
       "      <td>1.0</td>\n",
       "    </tr>\n",
       "    <tr>\n",
       "      <th>1997</th>\n",
       "      <td>{'_tag_roster': {'Event': 'Rated Blitz game', ...</td>\n",
       "      <td>[e2e4, c7c5, g1f3, d7d6, d2d4, c5d4, d1d4, b8c...</td>\n",
       "      <td>wbiRGx4h</td>\n",
       "      <td>B53</td>\n",
       "      <td>2401</td>\n",
       "      <td>2464</td>\n",
       "      <td>Sicilian Defense: Chekhover Variation</td>\n",
       "      <td>1.0</td>\n",
       "    </tr>\n",
       "    <tr>\n",
       "      <th>1998</th>\n",
       "      <td>{'_tag_roster': {'Event': 'Rated Blitz game', ...</td>\n",
       "      <td>[e2e4, e7e5, g1f3, b8c6, f1b5, g8f6, e1g1, f6e...</td>\n",
       "      <td>KR6JypMY</td>\n",
       "      <td>C67</td>\n",
       "      <td>2383</td>\n",
       "      <td>2462</td>\n",
       "      <td>Ruy Lopez: Berlin Defense, l'Hermet Variation</td>\n",
       "      <td>0.0</td>\n",
       "    </tr>\n",
       "    <tr>\n",
       "      <th>1999</th>\n",
       "      <td>{'_tag_roster': {'Event': 'Rated Blitz game', ...</td>\n",
       "      <td>[e2e4, c7c5, g1f3, d7d6, d2d4, c5d4, f3d4, g8f...</td>\n",
       "      <td>wro58jZS</td>\n",
       "      <td>B90</td>\n",
       "      <td>2430</td>\n",
       "      <td>2365</td>\n",
       "      <td>Sicilian Defense: Najdorf, Lipnitsky Attack</td>\n",
       "      <td>1.0</td>\n",
       "    </tr>\n",
       "  </tbody>\n",
       "</table>\n",
       "<p>2000 rows × 8 columns</p>\n",
       "</div>"
      ],
      "text/plain": [
       "                                                headers  \\\n",
       "0     {'_tag_roster': {'Event': 'Rated Blitz game', ...   \n",
       "1     {'_tag_roster': {'Event': 'Rated Rapid game', ...   \n",
       "2     {'_tag_roster': {'Event': 'Rated Blitz game', ...   \n",
       "3     {'_tag_roster': {'Event': 'Rated Blitz game', ...   \n",
       "4     {'_tag_roster': {'Event': 'Rated Blitz tournam...   \n",
       "...                                                 ...   \n",
       "1995  {'_tag_roster': {'Event': 'Rated Blitz game', ...   \n",
       "1996  {'_tag_roster': {'Event': 'Rated Blitz tournam...   \n",
       "1997  {'_tag_roster': {'Event': 'Rated Blitz game', ...   \n",
       "1998  {'_tag_roster': {'Event': 'Rated Blitz game', ...   \n",
       "1999  {'_tag_roster': {'Event': 'Rated Blitz game', ...   \n",
       "\n",
       "                                                  moves lichess_id  ECO  \\\n",
       "0     [e2e4, e7e6, d2d4, d7d5, b1c3, f8b4, e4e5, g8e...   kuUOsOML  C18   \n",
       "1     [e2e4, c7c5, g1f3, d7d6, b1c3, g8f6, g2g3, g7g...   YcFqJqyM  B50   \n",
       "2     [e2e4, g7g6, d2d4, f8g7, b1c3, c7c6, c1e3, d7d...   AY9kSWFt  B06   \n",
       "3     [d2d4, d7d5, c2c4, c7c6, b1c3, g8f6, g1f3, e7e...   ZZiTCh8x  D52   \n",
       "4     [d2d4, f7f5, g2g3, g8f6, f1g2, g7g6, g1f3, f8g...   DHvjCHM2  A81   \n",
       "...                                                 ...        ...  ...   \n",
       "1995  [e2e4, d7d6, d2d4, g8f6, b1c3, g7g6, g1f3, f8g...   qmP74cCM  B08   \n",
       "1996  [e2e4, e7e6, b2b3, d7d5, c1b2, d5e4, b1c3, f7f...   tDWQPO0F  C00   \n",
       "1997  [e2e4, c7c5, g1f3, d7d6, d2d4, c5d4, d1d4, b8c...   wbiRGx4h  B53   \n",
       "1998  [e2e4, e7e5, g1f3, b8c6, f1b5, g8f6, e1g1, f6e...   KR6JypMY  C67   \n",
       "1999  [e2e4, c7c5, g1f3, d7d6, d2d4, c5d4, f3d4, g8f...   wro58jZS  B90   \n",
       "\n",
       "      white_elo  black_elo                                       opening_name  \\\n",
       "0          2413       2254  French Defense: Winawer Variation, Poisoned Pa...   \n",
       "1          2323       2415                                   Sicilian Defense   \n",
       "2          2497       2426                      Modern Defense: Standard Line   \n",
       "3          2387       2416                            Queen's Gambit Declined   \n",
       "4          2288       2469            Dutch Defense: Semi-Leningrad Variation   \n",
       "...         ...        ...                                                ...   \n",
       "1995       2412       2424                  Pirc Defense: Classical Variation   \n",
       "1996       2429       2251  French Defense: Horwitz Attack, Papa-Ticulat G...   \n",
       "1997       2401       2464              Sicilian Defense: Chekhover Variation   \n",
       "1998       2383       2462      Ruy Lopez: Berlin Defense, l'Hermet Variation   \n",
       "1999       2430       2365        Sicilian Defense: Najdorf, Lipnitsky Attack   \n",
       "\n",
       "      white_score  \n",
       "0             0.5  \n",
       "1             1.0  \n",
       "2             0.5  \n",
       "3             0.0  \n",
       "4             1.0  \n",
       "...           ...  \n",
       "1995          0.0  \n",
       "1996          1.0  \n",
       "1997          1.0  \n",
       "1998          0.0  \n",
       "1999          1.0  \n",
       "\n",
       "[2000 rows x 8 columns]"
      ]
     },
     "execution_count": 8,
     "metadata": {},
     "output_type": "execute_result"
    }
   ],
   "source": [
    "games['lichess_id'] = games['headers'].apply(lambda x: x.get(\"_others\", {}).get(\"LichessURL\", \"\").split(\"/\")[-1])\n",
    "games['ECO'] = games['headers'].apply(lambda x: x.get(\"_others\", {}).get(\"ECO\"))\n",
    "games['white_elo'] = games['headers'].apply(lambda x: x.get(\"_others\", {}).get(\"WhiteElo\", \"\").split(\"-\")[0]).astype(int)\n",
    "games['black_elo'] = games['headers'].apply(lambda x: x.get(\"_others\", {}).get(\"BlackElo\", \"\").split(\"-\")[0]).astype(int)\n",
    "games['opening_name'] = games['headers'].apply(lambda x: x.get(\"_others\", {}).get(\"Opening\", \"\"))\n",
    "\n",
    "games['white_score'] = games['headers'].apply(lambda x: x.get(\"_tag_roster\", {}).get(\"Result\", \"\").split(\"-\")[0].replace(\"1/2\", \".5\")).astype(float)\n",
    "games\n"
   ]
  },
  {
   "cell_type": "markdown",
   "id": "c93596b6-9cfd-42b9-b097-31b4a1fd2ae8",
   "metadata": {},
   "source": [
    "Data looks mostly good but I noticed \"Grünfeld Defense: Exchange Variation\" showing up funky. We can use ftfy to fix this."
   ]
  },
  {
   "cell_type": "code",
   "execution_count": 9,
   "id": "53bc5aa5-921e-4c37-a637-bc4b026f9290",
   "metadata": {},
   "outputs": [
    {
     "data": {
      "text/plain": [
       "'Grünfeld Defense: Exchange Variation'"
      ]
     },
     "execution_count": 9,
     "metadata": {},
     "output_type": "execute_result"
    }
   ],
   "source": [
    "#If you get an error on this import be sure to run pip install ftfy==6.1.1. This was added to requirements.txt recently\n",
    "import ftfy\n",
    "ftfy.fix_encoding(\"GrÃ¼nfeld Defense: Exchange Variation\")"
   ]
  },
  {
   "cell_type": "code",
   "execution_count": 26,
   "id": "3f5687b0-131a-4f0b-8289-09400b213f06",
   "metadata": {},
   "outputs": [
    {
     "name": "stdout",
     "output_type": "stream",
     "text": [
      "^C\n",
      "Requirement already satisfied: ftfy==6.1.1 in c:\\users\\aober\\anaconda3\\lib\\site-packages (6.1.1)\n",
      "Requirement already satisfied: wcwidth>=0.2.5 in c:\\users\\aober\\anaconda3\\lib\\site-packages (from ftfy==6.1.1) (0.2.13)\n"
     ]
    }
   ],
   "source": [
    "#Can run shell commands directly in Jupyter using !. Run below if had an import error above\n",
    "!pip install ftfy==6.1.1"
   ]
  },
  {
   "cell_type": "code",
   "execution_count": 10,
   "id": "55328ded-2c48-4d5c-9ed6-2ce1edbbfe8d",
   "metadata": {},
   "outputs": [
    {
     "data": {
      "text/plain": [
       "0       French Defense: Winawer Variation, Poisoned Pa...\n",
       "1                                        Sicilian Defense\n",
       "2                           Modern Defense: Standard Line\n",
       "3                                 Queen's Gambit Declined\n",
       "4                 Dutch Defense: Semi-Leningrad Variation\n",
       "                              ...                        \n",
       "1995                    Pirc Defense: Classical Variation\n",
       "1996    French Defense: Horwitz Attack, Papa-Ticulat G...\n",
       "1997                Sicilian Defense: Chekhover Variation\n",
       "1998        Ruy Lopez: Berlin Defense, l'Hermet Variation\n",
       "1999          Sicilian Defense: Najdorf, Lipnitsky Attack\n",
       "Name: opening_name, Length: 2000, dtype: object"
      ]
     },
     "execution_count": 10,
     "metadata": {},
     "output_type": "execute_result"
    }
   ],
   "source": [
    "games['opening_name']=games['opening_name'].apply(ftfy.fix_encoding)\n",
    "games['opening_name']"
   ]
  },
  {
   "cell_type": "markdown",
   "id": "249e9af9-4e8d-4b63-84db-d0095d125883",
   "metadata": {},
   "source": [
    "Opening name looks good now!"
   ]
  },
  {
   "cell_type": "code",
   "execution_count": 11,
   "id": "dc7767dc-0d20-46ac-9e54-9d4c4c470ead",
   "metadata": {},
   "outputs": [
    {
     "data": {
      "text/plain": [
       "1.0    942\n",
       "0.0    882\n",
       "0.5    176\n",
       "Name: white_score, dtype: int64"
      ]
     },
     "execution_count": 11,
     "metadata": {},
     "output_type": "execute_result"
    }
   ],
   "source": [
    "#Ensure score parsed correctly\n",
    "games['white_score'].value_counts()"
   ]
  },
  {
   "cell_type": "code",
   "execution_count": 12,
   "id": "31e87954-a711-4cf6-abdd-b0fef1dc6ed2",
   "metadata": {},
   "outputs": [],
   "source": [
    "games.to_csv(\"../../testData/loaded_games.csv\",index=False)"
   ]
  }
 ],
 "metadata": {
  "kernelspec": {
   "display_name": "Python 3 (ipykernel)",
   "language": "python",
   "name": "python3"
  },
  "language_info": {
   "codemirror_mode": {
    "name": "ipython",
    "version": 3
   },
   "file_extension": ".py",
   "mimetype": "text/x-python",
   "name": "python",
   "nbconvert_exporter": "python",
   "pygments_lexer": "ipython3",
   "version": "3.9.12"
  }
 },
 "nbformat": 4,
 "nbformat_minor": 5
}
