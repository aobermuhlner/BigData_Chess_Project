{
 "cells": [
  {
   "cell_type": "code",
   "execution_count": 195,
   "id": "b6a4a235-8b76-42d7-b393-738bec7cadcc",
   "metadata": {},
   "outputs": [],
   "source": [
    "import chess.pgn\n",
    "import pandas as pd\n",
    "pd.options.display.max_columns=999\n",
    "import datetime\n",
    "import tqdm\n",
    "import zipfile"
   ]
  },
  {
   "cell_type": "markdown",
   "id": "755895ae-275b-48ef-a94c-f3944ceaf741",
   "metadata": {},
   "source": [
    "# Process PGN into Python Friendlier Form"
   ]
  },
  {
   "cell_type": "code",
   "execution_count": 223,
   "id": "3ab9b96e-15c1-43e9-92cd-c931a4a40dc2",
   "metadata": {},
   "outputs": [],
   "source": [
    "file_name = \"apendra_games\"\n",
    "player_name = \"Apendra\""
   ]
  },
  {
   "cell_type": "code",
   "execution_count": 224,
   "id": "1a7169fe-1ea9-4570-b683-b7b124cf89a4",
   "metadata": {
    "tags": []
   },
   "outputs": [
    {
     "name": "stderr",
     "output_type": "stream",
     "text": [
      "100%|██████████| 1800/1800 [00:05<00:00, 347.09it/s]\n"
     ]
    }
   ],
   "source": [
    "NUM_GAMES=1800  #from https://database.nikonoel.fr/ Not necessary but helpful to get tqdm to give estimate\n",
    "rows=[]\n",
    "with open(f'../../testData/lichess_db_standard_rated_2013-04/{file_name}.pgn') as pgn:\n",
    "    for game in tqdm.tqdm(range(NUM_GAMES)):\n",
    "        row={}\n",
    "        game = chess.pgn.read_game(pgn)\n",
    "        row['headers']=game.headers.__dict__\n",
    "        row['moves']=[x.uci() for x in game.mainline_moves()]\n",
    "        rows.append(row)\n",
    "games=pd.DataFrame(rows)"
   ]
  },
  {
   "cell_type": "code",
   "execution_count": 107,
   "id": "16a0914f-f586-4964-884f-fa6c152036d5",
   "metadata": {},
   "outputs": [],
   "source": [
    "#komplett unnötig\n",
    "def split_chess_moves(moves_list):\n",
    "    pattern = r'\\s*(\\d{1,3})\\.?\\s*((?:(?:O-O(?:-O)?)|(?:[KQNBR][1-8a-h]?x?[a-h]x?[1-8])|(?:[a-h]x?[a-h]?[1-8]\\=?[QRNB]?))\\+?)(?:\\s*\\d+\\.?\\d+?m?s)?\\.?\\s*((?:(?:O-O(?:-O)?)|(?:[KQNBR][1-8a-h]?x?[a-h]x?[1-8])|(?:[a-h]x?[a-h]?[1-8]\\=?[QRNB]?))\\+?)?(?:\\s*\\d+\\.?\\d+?m?s)?'\n",
    "    \n",
    "    processed_moves = []\n",
    "    for move in moves_list:\n",
    "        # Find all matches in the move string\n",
    "        matches = re.findall(pattern, move)\n",
    "        # Extract moves, ignoring move numbers and timings\n",
    "        for match in matches:\n",
    "            processed_moves.extend([m for m in match[1:] if m])\n",
    "    \n",
    "    return processed_moves\n",
    "\n",
    "# Apply the function to each list in the 'moves' column\n",
    "games['moves'] = games['moves'].apply(split_chess_moves)"
   ]
  },
  {
   "cell_type": "markdown",
   "id": "12c81eed-c574-41c7-91ea-7e71d4263bec",
   "metadata": {},
   "source": [
    "Loading a big PGN file is a little slow. There are more advanced coding architectures meant to handle that since sometimes the data creation rate is faster than you can process on one machine. Essentially you would do stream processing with scalable worker nodes. Another optimation would be multi-threading since there is a lot of I/O (input output) but multi-processing may work well too. Since 20 minutes isn't the end of the world we will just wait for now.  "
   ]
  },
  {
   "cell_type": "code",
   "execution_count": 225,
   "id": "ea8aa47f-dc36-431c-9cee-81783579f35e",
   "metadata": {},
   "outputs": [],
   "source": [
    "games['moves'] = games['moves'].apply(lambda x: x[:30])"
   ]
  },
  {
   "cell_type": "code",
   "execution_count": 226,
   "id": "79705421-80f1-454a-952d-1744639c5976",
   "metadata": {},
   "outputs": [],
   "source": [
    "#Save as CSV for easy, faster access\n",
    "games.to_csv(f\"../../testData/{file_name}.csv\", index=False)\n"
   ]
  },
  {
   "cell_type": "markdown",
   "id": "6db4c3d5-60fa-4ce5-b9a5-3892a7ba0b8f",
   "metadata": {},
   "source": [
    "# Procesing\n",
    "As mentioned in the intro we want to run through these games to add extra analytics such as: \n",
    "- position complexity (count blunders by player, average complexity)\n",
    "- openings used\n",
    "- win rates by Elo rating and openings"
   ]
  },
  {
   "cell_type": "code",
   "execution_count": 227,
   "id": "39eb942f-863b-472f-9ad6-53b8378090d4",
   "metadata": {},
   "outputs": [
    {
     "ename": "TypeError",
     "evalue": "eval() arg 1 must be a string, bytes or code object",
     "output_type": "error",
     "traceback": [
      "\u001b[1;31m---------------------------------------------------------------------------\u001b[0m",
      "\u001b[1;31mTypeError\u001b[0m                                 Traceback (most recent call last)",
      "Input \u001b[1;32mIn [227]\u001b[0m, in \u001b[0;36m<cell line: 4>\u001b[1;34m()\u001b[0m\n\u001b[0;32m      1\u001b[0m \u001b[38;5;66;03m#Convert moves from string into list of move strings \u001b[39;00m\n\u001b[0;32m      2\u001b[0m \n\u001b[0;32m      3\u001b[0m \u001b[38;5;66;03m#Try not to run eval unless you really need to and are sure the text comes from a trusted source\u001b[39;00m\n\u001b[1;32m----> 4\u001b[0m games[\u001b[38;5;124m'\u001b[39m\u001b[38;5;124mmoves\u001b[39m\u001b[38;5;124m'\u001b[39m]\u001b[38;5;241m=\u001b[39m\u001b[43mgames\u001b[49m\u001b[43m[\u001b[49m\u001b[38;5;124;43m'\u001b[39;49m\u001b[38;5;124;43mmoves\u001b[39;49m\u001b[38;5;124;43m'\u001b[39;49m\u001b[43m]\u001b[49m\u001b[38;5;241;43m.\u001b[39;49m\u001b[43mapply\u001b[49m\u001b[43m(\u001b[49m\u001b[38;5;28;43;01mlambda\u001b[39;49;00m\u001b[43m \u001b[49m\u001b[43mx\u001b[49m\u001b[43m:\u001b[49m\u001b[43m \u001b[49m\u001b[38;5;28;43meval\u001b[39;49m\u001b[43m(\u001b[49m\u001b[43mx\u001b[49m\u001b[43m)\u001b[49m\u001b[43m)\u001b[49m\n\u001b[0;32m      5\u001b[0m games[\u001b[38;5;124m'\u001b[39m\u001b[38;5;124mheaders\u001b[39m\u001b[38;5;124m'\u001b[39m]\u001b[38;5;241m=\u001b[39mgames[\u001b[38;5;124m'\u001b[39m\u001b[38;5;124mheaders\u001b[39m\u001b[38;5;124m'\u001b[39m]\u001b[38;5;241m.\u001b[39mapply(\u001b[38;5;28;01mlambda\u001b[39;00m x: \u001b[38;5;28meval\u001b[39m(x))\n",
      "File \u001b[1;32m~\\anaconda3\\lib\\site-packages\\pandas\\core\\series.py:4771\u001b[0m, in \u001b[0;36mSeries.apply\u001b[1;34m(self, func, convert_dtype, args, **kwargs)\u001b[0m\n\u001b[0;32m   4661\u001b[0m \u001b[38;5;28;01mdef\u001b[39;00m \u001b[38;5;21mapply\u001b[39m(\n\u001b[0;32m   4662\u001b[0m     \u001b[38;5;28mself\u001b[39m,\n\u001b[0;32m   4663\u001b[0m     func: AggFuncType,\n\u001b[1;32m   (...)\u001b[0m\n\u001b[0;32m   4666\u001b[0m     \u001b[38;5;241m*\u001b[39m\u001b[38;5;241m*\u001b[39mkwargs,\n\u001b[0;32m   4667\u001b[0m ) \u001b[38;5;241m-\u001b[39m\u001b[38;5;241m>\u001b[39m DataFrame \u001b[38;5;241m|\u001b[39m Series:\n\u001b[0;32m   4668\u001b[0m \u001b[38;5;250m    \u001b[39m\u001b[38;5;124;03m\"\"\"\u001b[39;00m\n\u001b[0;32m   4669\u001b[0m \u001b[38;5;124;03m    Invoke function on values of Series.\u001b[39;00m\n\u001b[0;32m   4670\u001b[0m \n\u001b[1;32m   (...)\u001b[0m\n\u001b[0;32m   4769\u001b[0m \u001b[38;5;124;03m    dtype: float64\u001b[39;00m\n\u001b[0;32m   4770\u001b[0m \u001b[38;5;124;03m    \"\"\"\u001b[39;00m\n\u001b[1;32m-> 4771\u001b[0m     \u001b[38;5;28;01mreturn\u001b[39;00m \u001b[43mSeriesApply\u001b[49m\u001b[43m(\u001b[49m\u001b[38;5;28;43mself\u001b[39;49m\u001b[43m,\u001b[49m\u001b[43m \u001b[49m\u001b[43mfunc\u001b[49m\u001b[43m,\u001b[49m\u001b[43m \u001b[49m\u001b[43mconvert_dtype\u001b[49m\u001b[43m,\u001b[49m\u001b[43m \u001b[49m\u001b[43margs\u001b[49m\u001b[43m,\u001b[49m\u001b[43m \u001b[49m\u001b[43mkwargs\u001b[49m\u001b[43m)\u001b[49m\u001b[38;5;241;43m.\u001b[39;49m\u001b[43mapply\u001b[49m\u001b[43m(\u001b[49m\u001b[43m)\u001b[49m\n",
      "File \u001b[1;32m~\\anaconda3\\lib\\site-packages\\pandas\\core\\apply.py:1123\u001b[0m, in \u001b[0;36mSeriesApply.apply\u001b[1;34m(self)\u001b[0m\n\u001b[0;32m   1120\u001b[0m     \u001b[38;5;28;01mreturn\u001b[39;00m \u001b[38;5;28mself\u001b[39m\u001b[38;5;241m.\u001b[39mapply_str()\n\u001b[0;32m   1122\u001b[0m \u001b[38;5;66;03m# self.f is Callable\u001b[39;00m\n\u001b[1;32m-> 1123\u001b[0m \u001b[38;5;28;01mreturn\u001b[39;00m \u001b[38;5;28;43mself\u001b[39;49m\u001b[38;5;241;43m.\u001b[39;49m\u001b[43mapply_standard\u001b[49m\u001b[43m(\u001b[49m\u001b[43m)\u001b[49m\n",
      "File \u001b[1;32m~\\anaconda3\\lib\\site-packages\\pandas\\core\\apply.py:1174\u001b[0m, in \u001b[0;36mSeriesApply.apply_standard\u001b[1;34m(self)\u001b[0m\n\u001b[0;32m   1172\u001b[0m     \u001b[38;5;28;01melse\u001b[39;00m:\n\u001b[0;32m   1173\u001b[0m         values \u001b[38;5;241m=\u001b[39m obj\u001b[38;5;241m.\u001b[39mastype(\u001b[38;5;28mobject\u001b[39m)\u001b[38;5;241m.\u001b[39m_values\n\u001b[1;32m-> 1174\u001b[0m         mapped \u001b[38;5;241m=\u001b[39m \u001b[43mlib\u001b[49m\u001b[38;5;241;43m.\u001b[39;49m\u001b[43mmap_infer\u001b[49m\u001b[43m(\u001b[49m\n\u001b[0;32m   1175\u001b[0m \u001b[43m            \u001b[49m\u001b[43mvalues\u001b[49m\u001b[43m,\u001b[49m\n\u001b[0;32m   1176\u001b[0m \u001b[43m            \u001b[49m\u001b[43mf\u001b[49m\u001b[43m,\u001b[49m\n\u001b[0;32m   1177\u001b[0m \u001b[43m            \u001b[49m\u001b[43mconvert\u001b[49m\u001b[38;5;241;43m=\u001b[39;49m\u001b[38;5;28;43mself\u001b[39;49m\u001b[38;5;241;43m.\u001b[39;49m\u001b[43mconvert_dtype\u001b[49m\u001b[43m,\u001b[49m\n\u001b[0;32m   1178\u001b[0m \u001b[43m        \u001b[49m\u001b[43m)\u001b[49m\n\u001b[0;32m   1180\u001b[0m \u001b[38;5;28;01mif\u001b[39;00m \u001b[38;5;28mlen\u001b[39m(mapped) \u001b[38;5;129;01mand\u001b[39;00m \u001b[38;5;28misinstance\u001b[39m(mapped[\u001b[38;5;241m0\u001b[39m], ABCSeries):\n\u001b[0;32m   1181\u001b[0m     \u001b[38;5;66;03m# GH#43986 Need to do list(mapped) in order to get treated as nested\u001b[39;00m\n\u001b[0;32m   1182\u001b[0m     \u001b[38;5;66;03m#  See also GH#25959 regarding EA support\u001b[39;00m\n\u001b[0;32m   1183\u001b[0m     \u001b[38;5;28;01mreturn\u001b[39;00m obj\u001b[38;5;241m.\u001b[39m_constructor_expanddim(\u001b[38;5;28mlist\u001b[39m(mapped), index\u001b[38;5;241m=\u001b[39mobj\u001b[38;5;241m.\u001b[39mindex)\n",
      "File \u001b[1;32m~\\anaconda3\\lib\\site-packages\\pandas\\_libs\\lib.pyx:2924\u001b[0m, in \u001b[0;36mpandas._libs.lib.map_infer\u001b[1;34m()\u001b[0m\n",
      "Input \u001b[1;32mIn [227]\u001b[0m, in \u001b[0;36m<lambda>\u001b[1;34m(x)\u001b[0m\n\u001b[0;32m      1\u001b[0m \u001b[38;5;66;03m#Convert moves from string into list of move strings \u001b[39;00m\n\u001b[0;32m      2\u001b[0m \n\u001b[0;32m      3\u001b[0m \u001b[38;5;66;03m#Try not to run eval unless you really need to and are sure the text comes from a trusted source\u001b[39;00m\n\u001b[1;32m----> 4\u001b[0m games[\u001b[38;5;124m'\u001b[39m\u001b[38;5;124mmoves\u001b[39m\u001b[38;5;124m'\u001b[39m]\u001b[38;5;241m=\u001b[39mgames[\u001b[38;5;124m'\u001b[39m\u001b[38;5;124mmoves\u001b[39m\u001b[38;5;124m'\u001b[39m]\u001b[38;5;241m.\u001b[39mapply(\u001b[38;5;28;01mlambda\u001b[39;00m x: \u001b[38;5;28;43meval\u001b[39;49m\u001b[43m(\u001b[49m\u001b[43mx\u001b[49m\u001b[43m)\u001b[49m)\n\u001b[0;32m      5\u001b[0m games[\u001b[38;5;124m'\u001b[39m\u001b[38;5;124mheaders\u001b[39m\u001b[38;5;124m'\u001b[39m]\u001b[38;5;241m=\u001b[39mgames[\u001b[38;5;124m'\u001b[39m\u001b[38;5;124mheaders\u001b[39m\u001b[38;5;124m'\u001b[39m]\u001b[38;5;241m.\u001b[39mapply(\u001b[38;5;28;01mlambda\u001b[39;00m x: \u001b[38;5;28meval\u001b[39m(x))\n",
      "\u001b[1;31mTypeError\u001b[0m: eval() arg 1 must be a string, bytes or code object"
     ]
    }
   ],
   "source": [
    "#Convert moves from string into list of move strings \n",
    "\n",
    "#Try not to run eval unless you really need to and are sure the text comes from a trusted source\n",
    "games['moves']=games['moves'].apply(lambda x: eval(x))\n",
    "games['headers']=games['headers'].apply(lambda x: eval(x))#to dict"
   ]
  },
  {
   "cell_type": "code",
   "execution_count": 202,
   "id": "a1c2f0f5-37bd-4085-bf56-f4dd12abcfc0",
   "metadata": {},
   "outputs": [],
   "source": [
    "def safe_convert_to_int(value):\n",
    "    try:\n",
    "        return int(value)\n",
    "    except ValueError:\n",
    "        return None  # or you can use np.nan or a placeholder like -1"
   ]
  },
  {
   "cell_type": "code",
   "execution_count": 203,
   "id": "2cab3ef3-1121-4fff-bd92-c3e0721b3001",
   "metadata": {},
   "outputs": [],
   "source": [
    "# Assuming player_name contains the name of the player you're interested in\n",
    "player_name = 'Apendra'\n",
    "\n",
    "def find_player_color(header):\n",
    "    if header.get(\"_tag_roster\", {}).get(\"White\", \"\") == player_name:\n",
    "        return 'White'\n",
    "    elif header.get(\"_tag_roster\", {}).get(\"Black\", \"\") == player_name:\n",
    "        return 'Black'\n",
    "    return 'Unknown'  # In case the player is not found in either\n",
    "\n",
    "def player_score(header, player_color):\n",
    "    result = header.get('_tag_roster', {}).get('Result', '')\n",
    "    if result == \"1/2-1/2\":\n",
    "        return 0.5  # Draw\n",
    "    elif result == \"1-0\" and player_color == 'White':\n",
    "        return 1.0  # White win\n",
    "    elif result == \"0-1\" and player_color == 'Black':\n",
    "        return 1.0  # Black win\n",
    "    return 0.0  # Loss or unknown result\n",
    "\n"
   ]
  },
  {
   "cell_type": "markdown",
   "id": "48958633-aac3-451b-a62d-60c965f0a255",
   "metadata": {},
   "source": [
    "## Grab Interesting Variables\n",
    "We're going to parse out specific data points from headers and moves. Anything interesting we will store as a top-level column on the dataframe so when we ultimately store this data it's ready to go for analysis."
   ]
  },
  {
   "cell_type": "code",
   "execution_count": 205,
   "id": "c623f9ef-55ff-49f3-a483-f098b558ccb8",
   "metadata": {
    "tags": []
   },
   "outputs": [
    {
     "data": {
      "text/html": [
       "<div>\n",
       "<style scoped>\n",
       "    .dataframe tbody tr th:only-of-type {\n",
       "        vertical-align: middle;\n",
       "    }\n",
       "\n",
       "    .dataframe tbody tr th {\n",
       "        vertical-align: top;\n",
       "    }\n",
       "\n",
       "    .dataframe thead th {\n",
       "        text-align: right;\n",
       "    }\n",
       "</style>\n",
       "<table border=\"1\" class=\"dataframe\">\n",
       "  <thead>\n",
       "    <tr style=\"text-align: right;\">\n",
       "      <th></th>\n",
       "      <th>headers</th>\n",
       "      <th>moves</th>\n",
       "      <th>lichess_id</th>\n",
       "      <th>white_elo</th>\n",
       "      <th>black_elo</th>\n",
       "      <th>ECO</th>\n",
       "      <th>opening_name</th>\n",
       "      <th>event</th>\n",
       "      <th>player_color</th>\n",
       "      <th>score</th>\n",
       "    </tr>\n",
       "  </thead>\n",
       "  <tbody>\n",
       "    <tr>\n",
       "      <th>0</th>\n",
       "      <td>{'_tag_roster': {'Event': 'Rated Bullet game',...</td>\n",
       "      <td>[e2e4, e7e5, g1f3, b8c6, f1b5, a7a6, b5c6, d7c...</td>\n",
       "      <td>https://lichess.org/R5xvWQmB</td>\n",
       "      <td>1393.0</td>\n",
       "      <td>1490.0</td>\n",
       "      <td>C68</td>\n",
       "      <td>Ruy Lopez: Exchange Variation, Keres Variation</td>\n",
       "      <td>Rated Bullet game</td>\n",
       "      <td>Black</td>\n",
       "      <td>0.0</td>\n",
       "    </tr>\n",
       "    <tr>\n",
       "      <th>1</th>\n",
       "      <td>{'_tag_roster': {'Event': 'Rated Bullet game',...</td>\n",
       "      <td>[c2c4, e7e5, c4c5, f8c5, g2g3, g8f6, f1g2, d7d...</td>\n",
       "      <td>https://lichess.org/W4qIfyPj</td>\n",
       "      <td>1468.0</td>\n",
       "      <td>1485.0</td>\n",
       "      <td>A20</td>\n",
       "      <td>English Opening: King's English Variation</td>\n",
       "      <td>Rated Bullet game</td>\n",
       "      <td>Black</td>\n",
       "      <td>1.0</td>\n",
       "    </tr>\n",
       "    <tr>\n",
       "      <th>2</th>\n",
       "      <td>{'_tag_roster': {'Event': 'Rated Bullet game',...</td>\n",
       "      <td>[e2e4, d7d5, e4d5, d8d5, b1c3, d5d8, g1f3, g7g...</td>\n",
       "      <td>https://lichess.org/uAyyykrW</td>\n",
       "      <td>1490.0</td>\n",
       "      <td>1499.0</td>\n",
       "      <td>B01</td>\n",
       "      <td>Scandinavian Defense: Valencian Variation</td>\n",
       "      <td>Rated Bullet game</td>\n",
       "      <td>White</td>\n",
       "      <td>0.0</td>\n",
       "    </tr>\n",
       "    <tr>\n",
       "      <th>3</th>\n",
       "      <td>{'_tag_roster': {'Event': 'Rated Bullet game',...</td>\n",
       "      <td>[e2e4, e7e5, g1f3, b8c6, f1c4, f8c5, b2b4, c5b...</td>\n",
       "      <td>https://lichess.org/vBCaaIq2</td>\n",
       "      <td>1549.0</td>\n",
       "      <td>1484.0</td>\n",
       "      <td>C52</td>\n",
       "      <td>Italian Game: Evans Gambit, Pierce Defense</td>\n",
       "      <td>Rated Bullet game</td>\n",
       "      <td>Black</td>\n",
       "      <td>1.0</td>\n",
       "    </tr>\n",
       "    <tr>\n",
       "      <th>4</th>\n",
       "      <td>{'_tag_roster': {'Event': 'Rated Bullet game',...</td>\n",
       "      <td>[e2e4, c7c5, g1f3, e7e6, c2c3, d7d5, e4d5, e6d...</td>\n",
       "      <td>https://lichess.org/AAfUu8jz</td>\n",
       "      <td>1477.0</td>\n",
       "      <td>1514.0</td>\n",
       "      <td>B40</td>\n",
       "      <td>Sicilian Defense: Delayed Alapin Variation, wi...</td>\n",
       "      <td>Rated Bullet game</td>\n",
       "      <td>White</td>\n",
       "      <td>1.0</td>\n",
       "    </tr>\n",
       "  </tbody>\n",
       "</table>\n",
       "</div>"
      ],
      "text/plain": [
       "                                             headers  \\\n",
       "0  {'_tag_roster': {'Event': 'Rated Bullet game',...   \n",
       "1  {'_tag_roster': {'Event': 'Rated Bullet game',...   \n",
       "2  {'_tag_roster': {'Event': 'Rated Bullet game',...   \n",
       "3  {'_tag_roster': {'Event': 'Rated Bullet game',...   \n",
       "4  {'_tag_roster': {'Event': 'Rated Bullet game',...   \n",
       "\n",
       "                                               moves  \\\n",
       "0  [e2e4, e7e5, g1f3, b8c6, f1b5, a7a6, b5c6, d7c...   \n",
       "1  [c2c4, e7e5, c4c5, f8c5, g2g3, g8f6, f1g2, d7d...   \n",
       "2  [e2e4, d7d5, e4d5, d8d5, b1c3, d5d8, g1f3, g7g...   \n",
       "3  [e2e4, e7e5, g1f3, b8c6, f1c4, f8c5, b2b4, c5b...   \n",
       "4  [e2e4, c7c5, g1f3, e7e6, c2c3, d7d5, e4d5, e6d...   \n",
       "\n",
       "                     lichess_id  white_elo  black_elo  ECO  \\\n",
       "0  https://lichess.org/R5xvWQmB     1393.0     1490.0  C68   \n",
       "1  https://lichess.org/W4qIfyPj     1468.0     1485.0  A20   \n",
       "2  https://lichess.org/uAyyykrW     1490.0     1499.0  B01   \n",
       "3  https://lichess.org/vBCaaIq2     1549.0     1484.0  C52   \n",
       "4  https://lichess.org/AAfUu8jz     1477.0     1514.0  B40   \n",
       "\n",
       "                                        opening_name              event  \\\n",
       "0     Ruy Lopez: Exchange Variation, Keres Variation  Rated Bullet game   \n",
       "1          English Opening: King's English Variation  Rated Bullet game   \n",
       "2          Scandinavian Defense: Valencian Variation  Rated Bullet game   \n",
       "3         Italian Game: Evans Gambit, Pierce Defense  Rated Bullet game   \n",
       "4  Sicilian Defense: Delayed Alapin Variation, wi...  Rated Bullet game   \n",
       "\n",
       "  player_color  score  \n",
       "0        Black    0.0  \n",
       "1        Black    1.0  \n",
       "2        White    0.0  \n",
       "3        Black    1.0  \n",
       "4        White    1.0  "
      ]
     },
     "execution_count": 205,
     "metadata": {},
     "output_type": "execute_result"
    }
   ],
   "source": [
    "games['lichess_id'] = games['headers'].apply(lambda x: x.get(\"_tag_roster\", {}).get(\"Site\", \"\"))\n",
    "\n",
    "games['white_elo'] = games['headers'].apply(lambda x: safe_convert_to_int(x.get(\"_others\", {}).get(\"WhiteElo\", \"\").split(\"-\")[0]))\n",
    "games['black_elo'] = games['headers'].apply(lambda x: safe_convert_to_int(x.get(\"_others\", {}).get(\"BlackElo\", \"\").split(\"-\")[0]))\n",
    "games['ECO'] = games['headers'].apply(lambda x: x.get(\"_others\", {}).get(\"ECO\"))\n",
    "games['opening_name'] = games['headers'].apply(lambda x: x.get(\"_others\", {}).get(\"Opening\", \"\"))\n",
    "games['event'] = games['headers'].apply(lambda x: x.get(\"_tag_roster\", {}).get(\"Event\", \"\"))\n",
    "\n",
    "games['player_color'] = games['headers'].apply(find_player_color)\n",
    "games['score'] = games.apply(lambda x: player_score(x['headers'], x['player_color']), axis=1)\n",
    "\n",
    "games.head()\n"
   ]
  },
  {
   "cell_type": "markdown",
   "id": "2485c885-6db4-4660-a33d-3d353775e749",
   "metadata": {},
   "source": [
    "Keep only games which are rated, to avoid weird computer analyzis in the record."
   ]
  },
  {
   "cell_type": "code",
   "execution_count": 213,
   "id": "b2710e0e-0f92-4e94-98c4-3d20b381f41d",
   "metadata": {
    "tags": []
   },
   "outputs": [],
   "source": [
    "filtered_games = games[games['event'].str.contains('rated', case=False, na=False)]"
   ]
  },
  {
   "cell_type": "code",
   "execution_count": 221,
   "id": "55175f04-ba74-4a47-9745-56d75b00cff3",
   "metadata": {},
   "outputs": [
    {
     "data": {
      "text/plain": [
       "0       True\n",
       "1       True\n",
       "2       True\n",
       "3       True\n",
       "4       True\n",
       "        ... \n",
       "1795    True\n",
       "1796    True\n",
       "1797    True\n",
       "1798    True\n",
       "1799    True\n",
       "Name: ECO, Length: 1800, dtype: bool"
      ]
     },
     "execution_count": 221,
     "metadata": {},
     "output_type": "execute_result"
    }
   ],
   "source": [
    "games['ECO']=='?'"
   ]
  },
  {
   "cell_type": "code",
   "execution_count": 218,
   "id": "f6f82fb9-a315-4006-9260-afdac2778206",
   "metadata": {},
   "outputs": [
    {
     "ename": "error",
     "evalue": "nothing to repeat at position 0",
     "output_type": "error",
     "traceback": [
      "\u001b[1;31m---------------------------------------------------------------------------\u001b[0m",
      "\u001b[1;31merror\u001b[0m                                     Traceback (most recent call last)",
      "Input \u001b[1;32mIn [218]\u001b[0m, in \u001b[0;36m<cell line: 1>\u001b[1;34m()\u001b[0m\n\u001b[1;32m----> 1\u001b[0m games[\u001b[43mgames\u001b[49m\u001b[43m[\u001b[49m\u001b[38;5;124;43m'\u001b[39;49m\u001b[38;5;124;43mECO\u001b[39;49m\u001b[38;5;124;43m'\u001b[39;49m\u001b[43m]\u001b[49m\u001b[38;5;241;43m.\u001b[39;49m\u001b[43mstr\u001b[49m\u001b[38;5;241;43m.\u001b[39;49m\u001b[43mcontains\u001b[49m\u001b[43m(\u001b[49m\u001b[38;5;124;43m'\u001b[39;49m\u001b[38;5;124;43m?\u001b[39;49m\u001b[38;5;124;43m'\u001b[39;49m\u001b[43m,\u001b[49m\u001b[43m \u001b[49m\u001b[43mcase\u001b[49m\u001b[38;5;241;43m=\u001b[39;49m\u001b[38;5;28;43;01mFalse\u001b[39;49;00m\u001b[43m,\u001b[49m\u001b[43m \u001b[49m\u001b[43mna\u001b[49m\u001b[38;5;241;43m=\u001b[39;49m\u001b[38;5;28;43;01mFalse\u001b[39;49;00m\u001b[43m)\u001b[49m]\n",
      "File \u001b[1;32m~\\anaconda3\\lib\\site-packages\\pandas\\core\\strings\\accessor.py:129\u001b[0m, in \u001b[0;36mforbid_nonstring_types.<locals>._forbid_nonstring_types.<locals>.wrapper\u001b[1;34m(self, *args, **kwargs)\u001b[0m\n\u001b[0;32m    124\u001b[0m     msg \u001b[38;5;241m=\u001b[39m (\n\u001b[0;32m    125\u001b[0m         \u001b[38;5;124mf\u001b[39m\u001b[38;5;124m\"\u001b[39m\u001b[38;5;124mCannot use .str.\u001b[39m\u001b[38;5;132;01m{\u001b[39;00mfunc_name\u001b[38;5;132;01m}\u001b[39;00m\u001b[38;5;124m with values of \u001b[39m\u001b[38;5;124m\"\u001b[39m\n\u001b[0;32m    126\u001b[0m         \u001b[38;5;124mf\u001b[39m\u001b[38;5;124m\"\u001b[39m\u001b[38;5;124minferred dtype \u001b[39m\u001b[38;5;124m'\u001b[39m\u001b[38;5;132;01m{\u001b[39;00m\u001b[38;5;28mself\u001b[39m\u001b[38;5;241m.\u001b[39m_inferred_dtype\u001b[38;5;132;01m}\u001b[39;00m\u001b[38;5;124m'\u001b[39m\u001b[38;5;124m.\u001b[39m\u001b[38;5;124m\"\u001b[39m\n\u001b[0;32m    127\u001b[0m     )\n\u001b[0;32m    128\u001b[0m     \u001b[38;5;28;01mraise\u001b[39;00m \u001b[38;5;167;01mTypeError\u001b[39;00m(msg)\n\u001b[1;32m--> 129\u001b[0m \u001b[38;5;28;01mreturn\u001b[39;00m func(\u001b[38;5;28mself\u001b[39m, \u001b[38;5;241m*\u001b[39margs, \u001b[38;5;241m*\u001b[39m\u001b[38;5;241m*\u001b[39mkwargs)\n",
      "File \u001b[1;32m~\\anaconda3\\lib\\site-packages\\pandas\\core\\strings\\accessor.py:1252\u001b[0m, in \u001b[0;36mStringMethods.contains\u001b[1;34m(self, pat, case, flags, na, regex)\u001b[0m\n\u001b[0;32m   1127\u001b[0m \u001b[38;5;129m@forbid_nonstring_types\u001b[39m([\u001b[38;5;124m\"\u001b[39m\u001b[38;5;124mbytes\u001b[39m\u001b[38;5;124m\"\u001b[39m])\n\u001b[0;32m   1128\u001b[0m \u001b[38;5;28;01mdef\u001b[39;00m \u001b[38;5;21mcontains\u001b[39m(\u001b[38;5;28mself\u001b[39m, pat, case\u001b[38;5;241m=\u001b[39m\u001b[38;5;28;01mTrue\u001b[39;00m, flags\u001b[38;5;241m=\u001b[39m\u001b[38;5;241m0\u001b[39m, na\u001b[38;5;241m=\u001b[39m\u001b[38;5;28;01mNone\u001b[39;00m, regex\u001b[38;5;241m=\u001b[39m\u001b[38;5;28;01mTrue\u001b[39;00m):\n\u001b[0;32m   1129\u001b[0m \u001b[38;5;250m    \u001b[39m\u001b[38;5;124mr\u001b[39m\u001b[38;5;124;03m\"\"\"\u001b[39;00m\n\u001b[0;32m   1130\u001b[0m \u001b[38;5;124;03m    Test if pattern or regex is contained within a string of a Series or Index.\u001b[39;00m\n\u001b[0;32m   1131\u001b[0m \n\u001b[1;32m   (...)\u001b[0m\n\u001b[0;32m   1250\u001b[0m \u001b[38;5;124;03m    dtype: bool\u001b[39;00m\n\u001b[0;32m   1251\u001b[0m \u001b[38;5;124;03m    \"\"\"\u001b[39;00m\n\u001b[1;32m-> 1252\u001b[0m     \u001b[38;5;28;01mif\u001b[39;00m regex \u001b[38;5;129;01mand\u001b[39;00m \u001b[43mre\u001b[49m\u001b[38;5;241;43m.\u001b[39;49m\u001b[43mcompile\u001b[49m\u001b[43m(\u001b[49m\u001b[43mpat\u001b[49m\u001b[43m)\u001b[49m\u001b[38;5;241m.\u001b[39mgroups:\n\u001b[0;32m   1253\u001b[0m         warnings\u001b[38;5;241m.\u001b[39mwarn(\n\u001b[0;32m   1254\u001b[0m             \u001b[38;5;124m\"\u001b[39m\u001b[38;5;124mThis pattern is interpreted as a regular expression, and has \u001b[39m\u001b[38;5;124m\"\u001b[39m\n\u001b[0;32m   1255\u001b[0m             \u001b[38;5;124m\"\u001b[39m\u001b[38;5;124mmatch groups. To actually get the groups, use str.extract.\u001b[39m\u001b[38;5;124m\"\u001b[39m,\n\u001b[0;32m   1256\u001b[0m             \u001b[38;5;167;01mUserWarning\u001b[39;00m,\n\u001b[0;32m   1257\u001b[0m             stacklevel\u001b[38;5;241m=\u001b[39mfind_stack_level(),\n\u001b[0;32m   1258\u001b[0m         )\n\u001b[0;32m   1260\u001b[0m     result \u001b[38;5;241m=\u001b[39m \u001b[38;5;28mself\u001b[39m\u001b[38;5;241m.\u001b[39m_data\u001b[38;5;241m.\u001b[39marray\u001b[38;5;241m.\u001b[39m_str_contains(pat, case, flags, na, regex)\n",
      "File \u001b[1;32m~\\anaconda3\\lib\\re.py:252\u001b[0m, in \u001b[0;36mcompile\u001b[1;34m(pattern, flags)\u001b[0m\n\u001b[0;32m    250\u001b[0m \u001b[38;5;28;01mdef\u001b[39;00m \u001b[38;5;21mcompile\u001b[39m(pattern, flags\u001b[38;5;241m=\u001b[39m\u001b[38;5;241m0\u001b[39m):\n\u001b[0;32m    251\u001b[0m     \u001b[38;5;124m\"\u001b[39m\u001b[38;5;124mCompile a regular expression pattern, returning a Pattern object.\u001b[39m\u001b[38;5;124m\"\u001b[39m\n\u001b[1;32m--> 252\u001b[0m     \u001b[38;5;28;01mreturn\u001b[39;00m \u001b[43m_compile\u001b[49m\u001b[43m(\u001b[49m\u001b[43mpattern\u001b[49m\u001b[43m,\u001b[49m\u001b[43m \u001b[49m\u001b[43mflags\u001b[49m\u001b[43m)\u001b[49m\n",
      "File \u001b[1;32m~\\anaconda3\\lib\\re.py:304\u001b[0m, in \u001b[0;36m_compile\u001b[1;34m(pattern, flags)\u001b[0m\n\u001b[0;32m    302\u001b[0m \u001b[38;5;28;01mif\u001b[39;00m \u001b[38;5;129;01mnot\u001b[39;00m sre_compile\u001b[38;5;241m.\u001b[39misstring(pattern):\n\u001b[0;32m    303\u001b[0m     \u001b[38;5;28;01mraise\u001b[39;00m \u001b[38;5;167;01mTypeError\u001b[39;00m(\u001b[38;5;124m\"\u001b[39m\u001b[38;5;124mfirst argument must be string or compiled pattern\u001b[39m\u001b[38;5;124m\"\u001b[39m)\n\u001b[1;32m--> 304\u001b[0m p \u001b[38;5;241m=\u001b[39m \u001b[43msre_compile\u001b[49m\u001b[38;5;241;43m.\u001b[39;49m\u001b[43mcompile\u001b[49m\u001b[43m(\u001b[49m\u001b[43mpattern\u001b[49m\u001b[43m,\u001b[49m\u001b[43m \u001b[49m\u001b[43mflags\u001b[49m\u001b[43m)\u001b[49m\n\u001b[0;32m    305\u001b[0m \u001b[38;5;28;01mif\u001b[39;00m \u001b[38;5;129;01mnot\u001b[39;00m (flags \u001b[38;5;241m&\u001b[39m DEBUG):\n\u001b[0;32m    306\u001b[0m     \u001b[38;5;28;01mif\u001b[39;00m \u001b[38;5;28mlen\u001b[39m(_cache) \u001b[38;5;241m>\u001b[39m\u001b[38;5;241m=\u001b[39m _MAXCACHE:\n\u001b[0;32m    307\u001b[0m         \u001b[38;5;66;03m# Drop the oldest item\u001b[39;00m\n",
      "File \u001b[1;32m~\\anaconda3\\lib\\sre_compile.py:764\u001b[0m, in \u001b[0;36mcompile\u001b[1;34m(p, flags)\u001b[0m\n\u001b[0;32m    762\u001b[0m \u001b[38;5;28;01mif\u001b[39;00m isstring(p):\n\u001b[0;32m    763\u001b[0m     pattern \u001b[38;5;241m=\u001b[39m p\n\u001b[1;32m--> 764\u001b[0m     p \u001b[38;5;241m=\u001b[39m \u001b[43msre_parse\u001b[49m\u001b[38;5;241;43m.\u001b[39;49m\u001b[43mparse\u001b[49m\u001b[43m(\u001b[49m\u001b[43mp\u001b[49m\u001b[43m,\u001b[49m\u001b[43m \u001b[49m\u001b[43mflags\u001b[49m\u001b[43m)\u001b[49m\n\u001b[0;32m    765\u001b[0m \u001b[38;5;28;01melse\u001b[39;00m:\n\u001b[0;32m    766\u001b[0m     pattern \u001b[38;5;241m=\u001b[39m \u001b[38;5;28;01mNone\u001b[39;00m\n",
      "File \u001b[1;32m~\\anaconda3\\lib\\sre_parse.py:950\u001b[0m, in \u001b[0;36mparse\u001b[1;34m(str, flags, state)\u001b[0m\n\u001b[0;32m    947\u001b[0m state\u001b[38;5;241m.\u001b[39mstr \u001b[38;5;241m=\u001b[39m \u001b[38;5;28mstr\u001b[39m\n\u001b[0;32m    949\u001b[0m \u001b[38;5;28;01mtry\u001b[39;00m:\n\u001b[1;32m--> 950\u001b[0m     p \u001b[38;5;241m=\u001b[39m \u001b[43m_parse_sub\u001b[49m\u001b[43m(\u001b[49m\u001b[43msource\u001b[49m\u001b[43m,\u001b[49m\u001b[43m \u001b[49m\u001b[43mstate\u001b[49m\u001b[43m,\u001b[49m\u001b[43m \u001b[49m\u001b[43mflags\u001b[49m\u001b[43m \u001b[49m\u001b[38;5;241;43m&\u001b[39;49m\u001b[43m \u001b[49m\u001b[43mSRE_FLAG_VERBOSE\u001b[49m\u001b[43m,\u001b[49m\u001b[43m \u001b[49m\u001b[38;5;241;43m0\u001b[39;49m\u001b[43m)\u001b[49m\n\u001b[0;32m    951\u001b[0m \u001b[38;5;28;01mexcept\u001b[39;00m Verbose:\n\u001b[0;32m    952\u001b[0m     \u001b[38;5;66;03m# the VERBOSE flag was switched on inside the pattern.  to be\u001b[39;00m\n\u001b[0;32m    953\u001b[0m     \u001b[38;5;66;03m# on the safe side, we'll parse the whole thing again...\u001b[39;00m\n\u001b[0;32m    954\u001b[0m     state \u001b[38;5;241m=\u001b[39m State()\n",
      "File \u001b[1;32m~\\anaconda3\\lib\\sre_parse.py:443\u001b[0m, in \u001b[0;36m_parse_sub\u001b[1;34m(source, state, verbose, nested)\u001b[0m\n\u001b[0;32m    441\u001b[0m start \u001b[38;5;241m=\u001b[39m source\u001b[38;5;241m.\u001b[39mtell()\n\u001b[0;32m    442\u001b[0m \u001b[38;5;28;01mwhile\u001b[39;00m \u001b[38;5;28;01mTrue\u001b[39;00m:\n\u001b[1;32m--> 443\u001b[0m     itemsappend(\u001b[43m_parse\u001b[49m\u001b[43m(\u001b[49m\u001b[43msource\u001b[49m\u001b[43m,\u001b[49m\u001b[43m \u001b[49m\u001b[43mstate\u001b[49m\u001b[43m,\u001b[49m\u001b[43m \u001b[49m\u001b[43mverbose\u001b[49m\u001b[43m,\u001b[49m\u001b[43m \u001b[49m\u001b[43mnested\u001b[49m\u001b[43m \u001b[49m\u001b[38;5;241;43m+\u001b[39;49m\u001b[43m \u001b[49m\u001b[38;5;241;43m1\u001b[39;49m\u001b[43m,\u001b[49m\n\u001b[0;32m    444\u001b[0m \u001b[43m                       \u001b[49m\u001b[38;5;129;43;01mnot\u001b[39;49;00m\u001b[43m \u001b[49m\u001b[43mnested\u001b[49m\u001b[43m \u001b[49m\u001b[38;5;129;43;01mand\u001b[39;49;00m\u001b[43m \u001b[49m\u001b[38;5;129;43;01mnot\u001b[39;49;00m\u001b[43m \u001b[49m\u001b[43mitems\u001b[49m\u001b[43m)\u001b[49m)\n\u001b[0;32m    445\u001b[0m     \u001b[38;5;28;01mif\u001b[39;00m \u001b[38;5;129;01mnot\u001b[39;00m sourcematch(\u001b[38;5;124m\"\u001b[39m\u001b[38;5;124m|\u001b[39m\u001b[38;5;124m\"\u001b[39m):\n\u001b[0;32m    446\u001b[0m         \u001b[38;5;28;01mbreak\u001b[39;00m\n",
      "File \u001b[1;32m~\\anaconda3\\lib\\sre_parse.py:668\u001b[0m, in \u001b[0;36m_parse\u001b[1;34m(source, state, verbose, nested, first)\u001b[0m\n\u001b[0;32m    666\u001b[0m     item \u001b[38;5;241m=\u001b[39m \u001b[38;5;28;01mNone\u001b[39;00m\n\u001b[0;32m    667\u001b[0m \u001b[38;5;28;01mif\u001b[39;00m \u001b[38;5;129;01mnot\u001b[39;00m item \u001b[38;5;129;01mor\u001b[39;00m item[\u001b[38;5;241m0\u001b[39m][\u001b[38;5;241m0\u001b[39m] \u001b[38;5;129;01mis\u001b[39;00m AT:\n\u001b[1;32m--> 668\u001b[0m     \u001b[38;5;28;01mraise\u001b[39;00m source\u001b[38;5;241m.\u001b[39merror(\u001b[38;5;124m\"\u001b[39m\u001b[38;5;124mnothing to repeat\u001b[39m\u001b[38;5;124m\"\u001b[39m,\n\u001b[0;32m    669\u001b[0m                        source\u001b[38;5;241m.\u001b[39mtell() \u001b[38;5;241m-\u001b[39m here \u001b[38;5;241m+\u001b[39m \u001b[38;5;28mlen\u001b[39m(this))\n\u001b[0;32m    670\u001b[0m \u001b[38;5;28;01mif\u001b[39;00m item[\u001b[38;5;241m0\u001b[39m][\u001b[38;5;241m0\u001b[39m] \u001b[38;5;129;01min\u001b[39;00m _REPEATCODES:\n\u001b[0;32m    671\u001b[0m     \u001b[38;5;28;01mraise\u001b[39;00m source\u001b[38;5;241m.\u001b[39merror(\u001b[38;5;124m\"\u001b[39m\u001b[38;5;124mmultiple repeat\u001b[39m\u001b[38;5;124m\"\u001b[39m,\n\u001b[0;32m    672\u001b[0m                        source\u001b[38;5;241m.\u001b[39mtell() \u001b[38;5;241m-\u001b[39m here \u001b[38;5;241m+\u001b[39m \u001b[38;5;28mlen\u001b[39m(this))\n",
      "\u001b[1;31merror\u001b[0m: nothing to repeat at position 0"
     ]
    }
   ],
   "source": [
    "games[games['ECO'].str.contains('?', case=False, na=False)]"
   ]
  },
  {
   "cell_type": "markdown",
   "id": "c93596b6-9cfd-42b9-b097-31b4a1fd2ae8",
   "metadata": {},
   "source": [
    "Data looks mostly good but I noticed \"Grünfeld Defense: Exchange Variation\" showing up funky. We can use ftfy to fix this."
   ]
  },
  {
   "cell_type": "code",
   "execution_count": 214,
   "id": "53bc5aa5-921e-4c37-a637-bc4b026f9290",
   "metadata": {},
   "outputs": [
    {
     "data": {
      "text/plain": [
       "'Grünfeld Defense: Exchange Variation'"
      ]
     },
     "execution_count": 214,
     "metadata": {},
     "output_type": "execute_result"
    }
   ],
   "source": [
    "#If you get an error on this import be sure to run pip install ftfy==6.1.1. This was added to requirements.txt recently\n",
    "import ftfy\n",
    "ftfy.fix_encoding(\"GrÃ¼nfeld Defense: Exchange Variation\")"
   ]
  },
  {
   "cell_type": "code",
   "execution_count": 26,
   "id": "3f5687b0-131a-4f0b-8289-09400b213f06",
   "metadata": {},
   "outputs": [
    {
     "name": "stdout",
     "output_type": "stream",
     "text": [
      "^C\n",
      "Requirement already satisfied: ftfy==6.1.1 in c:\\users\\aober\\anaconda3\\lib\\site-packages (6.1.1)\n",
      "Requirement already satisfied: wcwidth>=0.2.5 in c:\\users\\aober\\anaconda3\\lib\\site-packages (from ftfy==6.1.1) (0.2.13)\n"
     ]
    }
   ],
   "source": [
    "#Can run shell commands directly in Jupyter using !. Run below if had an import error above\n",
    "!pip install ftfy==6.1.1"
   ]
  },
  {
   "cell_type": "code",
   "execution_count": 215,
   "id": "55328ded-2c48-4d5c-9ed6-2ce1edbbfe8d",
   "metadata": {},
   "outputs": [
    {
     "data": {
      "text/plain": [
       "0          Ruy Lopez: Exchange Variation, Keres Variation\n",
       "1               English Opening: King's English Variation\n",
       "2               Scandinavian Defense: Valencian Variation\n",
       "3              Italian Game: Evans Gambit, Pierce Defense\n",
       "4       Sicilian Defense: Delayed Alapin Variation, wi...\n",
       "                              ...                        \n",
       "1795              King's Gambit Accepted: MacLeod Defense\n",
       "1796                              Queen's Gambit Accepted\n",
       "1797                  Sicilian Defense: Modern Variations\n",
       "1798                     French Defense: Knight Variation\n",
       "1799                            Ruy Lopez: Berlin Defense\n",
       "Name: opening_name, Length: 1800, dtype: object"
      ]
     },
     "execution_count": 215,
     "metadata": {},
     "output_type": "execute_result"
    }
   ],
   "source": [
    "games['opening_name']=games['opening_name'].apply(ftfy.fix_encoding)\n",
    "games['opening_name']"
   ]
  },
  {
   "cell_type": "markdown",
   "id": "249e9af9-4e8d-4b63-84db-d0095d125883",
   "metadata": {},
   "source": [
    "Opening name looks good now!"
   ]
  },
  {
   "cell_type": "code",
   "execution_count": 216,
   "id": "dc7767dc-0d20-46ac-9e54-9d4c4c470ead",
   "metadata": {},
   "outputs": [
    {
     "data": {
      "text/plain": [
       "1.0    894\n",
       "0.0    852\n",
       "0.5     54\n",
       "Name: score, dtype: int64"
      ]
     },
     "execution_count": 216,
     "metadata": {},
     "output_type": "execute_result"
    }
   ],
   "source": [
    "#Ensure score parsed correctly\n",
    "games['score'].value_counts()"
   ]
  },
  {
   "cell_type": "code",
   "execution_count": 217,
   "id": "31e87954-a711-4cf6-abdd-b0fef1dc6ed2",
   "metadata": {},
   "outputs": [],
   "source": [
    "games.to_csv(f\"../../testData/{file_name}.csv\", index=False)\n"
   ]
  }
 ],
 "metadata": {
  "kernelspec": {
   "display_name": "Python 3 (ipykernel)",
   "language": "python",
   "name": "python3"
  },
  "language_info": {
   "codemirror_mode": {
    "name": "ipython",
    "version": 3
   },
   "file_extension": ".py",
   "mimetype": "text/x-python",
   "name": "python",
   "nbconvert_exporter": "python",
   "pygments_lexer": "ipython3",
   "version": "3.9.12"
  }
 },
 "nbformat": 4,
 "nbformat_minor": 5
}
