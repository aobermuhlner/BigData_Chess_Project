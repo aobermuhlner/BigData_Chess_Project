{
 "cells": [
  {
   "cell_type": "code",
   "execution_count": 4,
   "id": "3375d5fe-e341-4921-b110-5eeb0b38f9a7",
   "metadata": {},
   "outputs": [
    {
     "ename": "KeyboardInterrupt",
     "evalue": "",
     "output_type": "error",
     "traceback": [
      "\u001b[1;31m---------------------------------------------------------------------------\u001b[0m",
      "\u001b[1;31mKeyboardInterrupt\u001b[0m                         Traceback (most recent call last)",
      "Input \u001b[1;32mIn [4]\u001b[0m, in \u001b[0;36m<cell line: 39>\u001b[1;34m()\u001b[0m\n\u001b[0;32m     37\u001b[0m \u001b[38;5;66;03m# Customize the number of games per file based on your memory capacity and needs\u001b[39;00m\n\u001b[0;32m     38\u001b[0m num_games_per_file \u001b[38;5;241m=\u001b[39m \u001b[38;5;241m40000\u001b[39m  \u001b[38;5;66;03m# Adjust this number based on your observation\u001b[39;00m\n\u001b[1;32m---> 39\u001b[0m \u001b[43msplit_pgn_file\u001b[49m\u001b[43m(\u001b[49m\u001b[43msource_file_path\u001b[49m\u001b[43m,\u001b[49m\u001b[43m \u001b[49m\u001b[43mtarget_folder\u001b[49m\u001b[43m,\u001b[49m\u001b[43m \u001b[49m\u001b[43mnum_games_per_file\u001b[49m\u001b[43m)\u001b[49m\n",
      "Input \u001b[1;32mIn [4]\u001b[0m, in \u001b[0;36msplit_pgn_file\u001b[1;34m(source_file, target_folder, num_games_per_file)\u001b[0m\n\u001b[0;32m     23\u001b[0m \u001b[38;5;28;01mif\u001b[39;00m game \u001b[38;5;129;01mis\u001b[39;00m \u001b[38;5;129;01mnot\u001b[39;00m \u001b[38;5;28;01mNone\u001b[39;00m:\n\u001b[0;32m     24\u001b[0m     game_count \u001b[38;5;241m+\u001b[39m\u001b[38;5;241m=\u001b[39m \u001b[38;5;241m1\u001b[39m\n\u001b[1;32m---> 25\u001b[0m     \u001b[38;5;28;43mprint\u001b[39;49m\u001b[43m(\u001b[49m\u001b[43mgame\u001b[49m\u001b[43m,\u001b[49m\u001b[43m \u001b[49m\u001b[43mfile\u001b[49m\u001b[38;5;241;43m=\u001b[39;49m\u001b[43mcurrent_file\u001b[49m\u001b[43m,\u001b[49m\u001b[43m \u001b[49m\u001b[43mend\u001b[49m\u001b[38;5;241;43m=\u001b[39;49m\u001b[38;5;124;43m\"\u001b[39;49m\u001b[38;5;130;43;01m\\n\u001b[39;49;00m\u001b[38;5;130;43;01m\\n\u001b[39;49;00m\u001b[38;5;124;43m\"\u001b[39;49m\u001b[43m)\u001b[49m\n\u001b[0;32m     27\u001b[0m     \u001b[38;5;28;01mif\u001b[39;00m game_count \u001b[38;5;241m>\u001b[39m\u001b[38;5;241m=\u001b[39m num_games_per_file:\n\u001b[0;32m     28\u001b[0m         current_file\u001b[38;5;241m.\u001b[39mclose()\n",
      "File \u001b[1;32m~\\anaconda3\\lib\\site-packages\\chess\\pgn.py:638\u001b[0m, in \u001b[0;36mGameNode.__str__\u001b[1;34m(self)\u001b[0m\n\u001b[0;32m    637\u001b[0m \u001b[38;5;28;01mdef\u001b[39;00m \u001b[38;5;21m__str__\u001b[39m(\u001b[38;5;28mself\u001b[39m) \u001b[38;5;241m-\u001b[39m\u001b[38;5;241m>\u001b[39m \u001b[38;5;28mstr\u001b[39m:\n\u001b[1;32m--> 638\u001b[0m     \u001b[38;5;28;01mreturn\u001b[39;00m \u001b[38;5;28;43mself\u001b[39;49m\u001b[38;5;241;43m.\u001b[39;49m\u001b[43maccept\u001b[49m\u001b[43m(\u001b[49m\u001b[43mStringExporter\u001b[49m\u001b[43m(\u001b[49m\u001b[43mcolumns\u001b[49m\u001b[38;5;241;43m=\u001b[39;49m\u001b[38;5;28;43;01mNone\u001b[39;49;00m\u001b[43m)\u001b[49m\u001b[43m)\u001b[49m\n",
      "File \u001b[1;32m~\\anaconda3\\lib\\site-packages\\chess\\pgn.py:883\u001b[0m, in \u001b[0;36mGame.accept\u001b[1;34m(self, visitor)\u001b[0m\n\u001b[0;32m    880\u001b[0m             visitor\u001b[38;5;241m.\u001b[39mvisit_comment(\u001b[38;5;28mself\u001b[39m\u001b[38;5;241m.\u001b[39mcomment)\n\u001b[0;32m    882\u001b[0m         \u001b[38;5;28;01mif\u001b[39;00m \u001b[38;5;28mself\u001b[39m\u001b[38;5;241m.\u001b[39mvariations:\n\u001b[1;32m--> 883\u001b[0m             \u001b[38;5;28;43mself\u001b[39;49m\u001b[38;5;241;43m.\u001b[39;49m\u001b[43mvariations\u001b[49m\u001b[43m[\u001b[49m\u001b[38;5;241;43m0\u001b[39;49m\u001b[43m]\u001b[49m\u001b[38;5;241;43m.\u001b[39;49m\u001b[43m_accept\u001b[49m\u001b[43m(\u001b[49m\u001b[43mboard\u001b[49m\u001b[43m,\u001b[49m\u001b[43m \u001b[49m\u001b[43mvisitor\u001b[49m\u001b[43m)\u001b[49m\n\u001b[0;32m    885\u001b[0m         visitor\u001b[38;5;241m.\u001b[39mvisit_result(\u001b[38;5;28mself\u001b[39m\u001b[38;5;241m.\u001b[39mheaders\u001b[38;5;241m.\u001b[39mget(\u001b[38;5;124m\"\u001b[39m\u001b[38;5;124mResult\u001b[39m\u001b[38;5;124m\"\u001b[39m, \u001b[38;5;124m\"\u001b[39m\u001b[38;5;124m*\u001b[39m\u001b[38;5;124m\"\u001b[39m))\n\u001b[0;32m    887\u001b[0m visitor\u001b[38;5;241m.\u001b[39mend_game()\n",
      "File \u001b[1;32m~\\anaconda3\\lib\\site-packages\\chess\\pgn.py:756\u001b[0m, in \u001b[0;36mChildNode._accept\u001b[1;34m(self, parent_board, visitor, sidelines)\u001b[0m\n\u001b[0;32m    753\u001b[0m     visitor\u001b[38;5;241m.\u001b[39mend_variation()\n\u001b[0;32m    755\u001b[0m \u001b[38;5;28;01mif\u001b[39;00m top\u001b[38;5;241m.\u001b[39mstate \u001b[38;5;241m==\u001b[39m \u001b[38;5;124m\"\u001b[39m\u001b[38;5;124mpre\u001b[39m\u001b[38;5;124m\"\u001b[39m:\n\u001b[1;32m--> 756\u001b[0m     \u001b[43mtop\u001b[49m\u001b[38;5;241;43m.\u001b[39;49m\u001b[43mnode\u001b[49m\u001b[38;5;241;43m.\u001b[39;49m\u001b[43m_accept_node\u001b[49m\u001b[43m(\u001b[49m\u001b[43mparent_board\u001b[49m\u001b[43m,\u001b[49m\u001b[43m \u001b[49m\u001b[43mvisitor\u001b[49m\u001b[43m)\u001b[49m\n\u001b[0;32m    757\u001b[0m     top\u001b[38;5;241m.\u001b[39mstate \u001b[38;5;241m=\u001b[39m \u001b[38;5;124m\"\u001b[39m\u001b[38;5;124mvariations\u001b[39m\u001b[38;5;124m\"\u001b[39m\n\u001b[0;32m    758\u001b[0m \u001b[38;5;28;01melif\u001b[39;00m top\u001b[38;5;241m.\u001b[39mstate \u001b[38;5;241m==\u001b[39m \u001b[38;5;124m\"\u001b[39m\u001b[38;5;124mvariations\u001b[39m\u001b[38;5;124m\"\u001b[39m:\n",
      "File \u001b[1;32m~\\anaconda3\\lib\\site-packages\\chess\\pgn.py:733\u001b[0m, in \u001b[0;36mChildNode._accept_node\u001b[1;34m(self, parent_board, visitor)\u001b[0m\n\u001b[0;32m    730\u001b[0m \u001b[38;5;28;01mif\u001b[39;00m \u001b[38;5;28mself\u001b[39m\u001b[38;5;241m.\u001b[39mstarting_comment:\n\u001b[0;32m    731\u001b[0m     visitor\u001b[38;5;241m.\u001b[39mvisit_comment(\u001b[38;5;28mself\u001b[39m\u001b[38;5;241m.\u001b[39mstarting_comment)\n\u001b[1;32m--> 733\u001b[0m \u001b[43mvisitor\u001b[49m\u001b[38;5;241;43m.\u001b[39;49m\u001b[43mvisit_move\u001b[49m\u001b[43m(\u001b[49m\u001b[43mparent_board\u001b[49m\u001b[43m,\u001b[49m\u001b[43m \u001b[49m\u001b[38;5;28;43mself\u001b[39;49m\u001b[38;5;241;43m.\u001b[39;49m\u001b[43mmove\u001b[49m\u001b[43m)\u001b[49m\n\u001b[0;32m    735\u001b[0m parent_board\u001b[38;5;241m.\u001b[39mpush(\u001b[38;5;28mself\u001b[39m\u001b[38;5;241m.\u001b[39mmove)\n\u001b[0;32m    736\u001b[0m visitor\u001b[38;5;241m.\u001b[39mvisit_board(parent_board)\n",
      "File \u001b[1;32m~\\anaconda3\\lib\\site-packages\\chess\\pgn.py:1403\u001b[0m, in \u001b[0;36mStringExporterMixin.visit_move\u001b[1;34m(self, board, move)\u001b[0m\n\u001b[0;32m   1400\u001b[0m     \u001b[38;5;28mself\u001b[39m\u001b[38;5;241m.\u001b[39mwrite_token(\u001b[38;5;28mstr\u001b[39m(board\u001b[38;5;241m.\u001b[39mfullmove_number) \u001b[38;5;241m+\u001b[39m \u001b[38;5;124m\"\u001b[39m\u001b[38;5;124m... \u001b[39m\u001b[38;5;124m\"\u001b[39m)\n\u001b[0;32m   1402\u001b[0m \u001b[38;5;66;03m# Write the SAN.\u001b[39;00m\n\u001b[1;32m-> 1403\u001b[0m \u001b[38;5;28mself\u001b[39m\u001b[38;5;241m.\u001b[39mwrite_token(\u001b[43mboard\u001b[49m\u001b[38;5;241;43m.\u001b[39;49m\u001b[43msan\u001b[49m\u001b[43m(\u001b[49m\u001b[43mmove\u001b[49m\u001b[43m)\u001b[49m \u001b[38;5;241m+\u001b[39m \u001b[38;5;124m\"\u001b[39m\u001b[38;5;124m \u001b[39m\u001b[38;5;124m\"\u001b[39m)\n\u001b[0;32m   1405\u001b[0m \u001b[38;5;28mself\u001b[39m\u001b[38;5;241m.\u001b[39mforce_movenumber \u001b[38;5;241m=\u001b[39m \u001b[38;5;28;01mFalse\u001b[39;00m\n",
      "File \u001b[1;32m~\\anaconda3\\lib\\site-packages\\chess\\__init__.py:2866\u001b[0m, in \u001b[0;36mBoard.san\u001b[1;34m(self, move)\u001b[0m\n\u001b[0;32m   2861\u001b[0m \u001b[38;5;28;01mdef\u001b[39;00m \u001b[38;5;21msan\u001b[39m(\u001b[38;5;28mself\u001b[39m, move: Move) \u001b[38;5;241m-\u001b[39m\u001b[38;5;241m>\u001b[39m \u001b[38;5;28mstr\u001b[39m:\n\u001b[0;32m   2862\u001b[0m \u001b[38;5;250m    \u001b[39m\u001b[38;5;124;03m\"\"\"\u001b[39;00m\n\u001b[0;32m   2863\u001b[0m \u001b[38;5;124;03m    Gets the standard algebraic notation of the given move in the context\u001b[39;00m\n\u001b[0;32m   2864\u001b[0m \u001b[38;5;124;03m    of the current position.\u001b[39;00m\n\u001b[0;32m   2865\u001b[0m \u001b[38;5;124;03m    \"\"\"\u001b[39;00m\n\u001b[1;32m-> 2866\u001b[0m     \u001b[38;5;28;01mreturn\u001b[39;00m \u001b[38;5;28;43mself\u001b[39;49m\u001b[38;5;241;43m.\u001b[39;49m\u001b[43m_algebraic\u001b[49m\u001b[43m(\u001b[49m\u001b[43mmove\u001b[49m\u001b[43m)\u001b[49m\n",
      "File \u001b[1;32m~\\anaconda3\\lib\\site-packages\\chess\\__init__.py:2879\u001b[0m, in \u001b[0;36mBoard._algebraic\u001b[1;34m(self, move, long)\u001b[0m\n\u001b[0;32m   2878\u001b[0m \u001b[38;5;28;01mdef\u001b[39;00m \u001b[38;5;21m_algebraic\u001b[39m(\u001b[38;5;28mself\u001b[39m, move: Move, \u001b[38;5;241m*\u001b[39m, long: \u001b[38;5;28mbool\u001b[39m \u001b[38;5;241m=\u001b[39m \u001b[38;5;28;01mFalse\u001b[39;00m) \u001b[38;5;241m-\u001b[39m\u001b[38;5;241m>\u001b[39m \u001b[38;5;28mstr\u001b[39m:\n\u001b[1;32m-> 2879\u001b[0m     san \u001b[38;5;241m=\u001b[39m \u001b[38;5;28;43mself\u001b[39;49m\u001b[38;5;241;43m.\u001b[39;49m\u001b[43m_algebraic_and_push\u001b[49m\u001b[43m(\u001b[49m\u001b[43mmove\u001b[49m\u001b[43m,\u001b[49m\u001b[43m \u001b[49m\u001b[43mlong\u001b[49m\u001b[38;5;241;43m=\u001b[39;49m\u001b[43mlong\u001b[49m\u001b[43m)\u001b[49m\n\u001b[0;32m   2880\u001b[0m     \u001b[38;5;28mself\u001b[39m\u001b[38;5;241m.\u001b[39mpop()\n\u001b[0;32m   2881\u001b[0m     \u001b[38;5;28;01mreturn\u001b[39;00m san\n",
      "File \u001b[1;32m~\\anaconda3\\lib\\site-packages\\chess\\__init__.py:2884\u001b[0m, in \u001b[0;36mBoard._algebraic_and_push\u001b[1;34m(self, move, long)\u001b[0m\n\u001b[0;32m   2883\u001b[0m \u001b[38;5;28;01mdef\u001b[39;00m \u001b[38;5;21m_algebraic_and_push\u001b[39m(\u001b[38;5;28mself\u001b[39m, move: Move, \u001b[38;5;241m*\u001b[39m, long: \u001b[38;5;28mbool\u001b[39m \u001b[38;5;241m=\u001b[39m \u001b[38;5;28;01mFalse\u001b[39;00m) \u001b[38;5;241m-\u001b[39m\u001b[38;5;241m>\u001b[39m \u001b[38;5;28mstr\u001b[39m:\n\u001b[1;32m-> 2884\u001b[0m     san \u001b[38;5;241m=\u001b[39m \u001b[38;5;28;43mself\u001b[39;49m\u001b[38;5;241;43m.\u001b[39;49m\u001b[43m_algebraic_without_suffix\u001b[49m\u001b[43m(\u001b[49m\u001b[43mmove\u001b[49m\u001b[43m,\u001b[49m\u001b[43m \u001b[49m\u001b[43mlong\u001b[49m\u001b[38;5;241;43m=\u001b[39;49m\u001b[43mlong\u001b[49m\u001b[43m)\u001b[49m\n\u001b[0;32m   2886\u001b[0m     \u001b[38;5;66;03m# Look ahead for check or checkmate.\u001b[39;00m\n\u001b[0;32m   2887\u001b[0m     \u001b[38;5;28mself\u001b[39m\u001b[38;5;241m.\u001b[39mpush(move)\n",
      "File \u001b[1;32m~\\anaconda3\\lib\\site-packages\\chess\\__init__.py:2926\u001b[0m, in \u001b[0;36mBoard._algebraic_without_suffix\u001b[1;34m(self, move, long)\u001b[0m\n\u001b[0;32m   2924\u001b[0m     san \u001b[38;5;241m=\u001b[39m \u001b[38;5;124m\"\u001b[39m\u001b[38;5;124m\"\u001b[39m\n\u001b[0;32m   2925\u001b[0m \u001b[38;5;28;01melse\u001b[39;00m:\n\u001b[1;32m-> 2926\u001b[0m     san \u001b[38;5;241m=\u001b[39m \u001b[43mpiece_symbol\u001b[49m\u001b[43m(\u001b[49m\u001b[43mpiece_type\u001b[49m\u001b[43m)\u001b[49m\u001b[38;5;241m.\u001b[39mupper()\n\u001b[0;32m   2928\u001b[0m \u001b[38;5;28;01mif\u001b[39;00m long:\n\u001b[0;32m   2929\u001b[0m     san \u001b[38;5;241m+\u001b[39m\u001b[38;5;241m=\u001b[39m SQUARE_NAMES[move\u001b[38;5;241m.\u001b[39mfrom_square]\n",
      "File \u001b[1;32m~\\anaconda3\\lib\\site-packages\\chess\\__init__.py:61\u001b[0m, in \u001b[0;36mpiece_symbol\u001b[1;34m(piece_type)\u001b[0m\n\u001b[0;32m     60\u001b[0m \u001b[38;5;28;01mdef\u001b[39;00m \u001b[38;5;21mpiece_symbol\u001b[39m(piece_type: PieceType) \u001b[38;5;241m-\u001b[39m\u001b[38;5;241m>\u001b[39m \u001b[38;5;28mstr\u001b[39m:\n\u001b[1;32m---> 61\u001b[0m     \u001b[38;5;28;01mreturn\u001b[39;00m typing\u001b[38;5;241m.\u001b[39mcast(\u001b[38;5;28;43mstr\u001b[39;49m, PIECE_SYMBOLS[piece_type])\n",
      "\u001b[1;31mKeyboardInterrupt\u001b[0m: "
     ]
    }
   ],
   "source": [
    "import chess.pgn\n",
    "import tqdm\n",
    "import os\n",
    "\n",
    "file_name = \"100_million_games\"\n",
    "source_file_path = f'../../testData/splitted_games/{file_name}.pgn'\n",
    "target_folder = '../../testData/split_games/'\n",
    "os.makedirs(target_folder, exist_ok=True)\n",
    "\n",
    "def split_pgn_file(source_file, target_folder, num_games_per_file):\n",
    "    game_count = 0\n",
    "    file_count = 1\n",
    "    current_file_path = os.path.join(target_folder, f\"{file_name}_part_{file_count}.pgn\")\n",
    "\n",
    "    with open(source_file, 'r') as pgn:\n",
    "        current_file = open(current_file_path, 'w')\n",
    "        while True:\n",
    "            headers = chess.pgn.read_headers(pgn)\n",
    "            if headers is None:\n",
    "                break  # End of file\n",
    "\n",
    "            game = chess.pgn.read_game(pgn)  # Go back and read the entire game\n",
    "            if game is not None:\n",
    "                game_count += 1\n",
    "                print(game, file=current_file, end=\"\\n\\n\")\n",
    "\n",
    "                if game_count >= num_games_per_file:\n",
    "                    current_file.close()\n",
    "                    file_count += 1\n",
    "                    game_count = 0\n",
    "                    current_file_path = os.path.join(target_folder, f\"{file_name}_part_{file_count}.pgn\")\n",
    "                    current_file = open(current_file_path, 'w')\n",
    "\n",
    "        if not current_file.closed:\n",
    "            current_file.close()\n",
    "\n",
    "# Customize the number of games per file based on your memory capacity and needs\n",
    "num_games_per_file = 40000  # Adjust this number based on your observation\n",
    "split_pgn_file(source_file_path, target_folder, num_games_per_file)\n"
   ]
  },
  {
   "cell_type": "code",
   "execution_count": null,
   "id": "a8deec3e-c2ee-4164-a16e-3cccdf80782e",
   "metadata": {},
   "outputs": [],
   "source": []
  },
  {
   "cell_type": "code",
   "execution_count": null,
   "id": "5c381189-625f-4658-9817-3fadb0cfc9e2",
   "metadata": {
    "tags": []
   },
   "outputs": [
    {
     "name": "stderr",
     "output_type": "stream",
     "text": [
      "  4%|▍         | 4167410/95000000 [4:10:57<88:23:12, 285.46it/s] "
     ]
    }
   ],
   "source": [
    "import chess.pgn\n",
    "import pandas as pd\n",
    "import tqdm\n",
    "\n",
    "file_path = '../../testData/splitted_games/100_million_games.pgn'\n",
    "output_file = '../../testData/splitted_games/processed_moves2.csv'\n",
    "chunk_size = 100000  # Define how many games to process at a time\n",
    "NUM_GAMES = 95000000\n",
    "\n",
    "# Initialize a progress bar\n",
    "pbar = tqdm.tqdm(total=NUM_GAMES)\n",
    "\n",
    "# Open the output CSV file in append mode\n",
    "with open(output_file, 'a', newline='') as csvfile:\n",
    "    # Initialize a pandas DataFrame to hold chunks of processed games\n",
    "    chunk_data = []\n",
    "    \n",
    "    with open(file_path, 'r') as pgn:\n",
    "        while True:\n",
    "            game = chess.pgn.read_game(pgn)\n",
    "            if game is None:  # End of file\n",
    "                break\n",
    "            \n",
    "            # Extract moves and truncate to the first 30 moves\n",
    "            moves = [move.uci() for move in game.mainline_moves()][:30]\n",
    "            chunk_data.append({'moves': str(moves)})\n",
    "            \n",
    "            # Check if the chunk size is reached\n",
    "            if len(chunk_data) >= chunk_size:\n",
    "                # Convert the chunk data to a DataFrame and append it to the CSV\n",
    "                df = pd.DataFrame(chunk_data)\n",
    "                df.to_csv(csvfile, mode='a', header=(csvfile.tell() == 0), index=False)\n",
    "                chunk_data = []  # Reset the chunk data\n",
    "            \n",
    "            pbar.update(1)  # Update the progress bar\n",
    "\n",
    "    # Process any remaining games\n",
    "    if chunk_data:\n",
    "        df = pd.DataFrame(chunk_data)\n",
    "        df.to_csv(csvfile, mode='a', header=(csvfile.tell() == 0), index=False)\n",
    "\n",
    "pbar.close()\n"
   ]
  },
  {
   "cell_type": "code",
   "execution_count": null,
   "id": "49912baf-4b7c-4f44-884c-81f9f996c32c",
   "metadata": {},
   "outputs": [],
   "source": []
  },
  {
   "cell_type": "code",
   "execution_count": null,
   "id": "bf1c697c-e32c-405c-b07b-ab6849fa9bc5",
   "metadata": {},
   "outputs": [],
   "source": []
  },
  {
   "cell_type": "code",
   "execution_count": null,
   "id": "1b6ee44a-1d27-4fa6-9766-53f78461912a",
   "metadata": {},
   "outputs": [],
   "source": []
  }
 ],
 "metadata": {
  "kernelspec": {
   "display_name": "Python 3 (ipykernel)",
   "language": "python",
   "name": "python3"
  },
  "language_info": {
   "codemirror_mode": {
    "name": "ipython",
    "version": 3
   },
   "file_extension": ".py",
   "mimetype": "text/x-python",
   "name": "python",
   "nbconvert_exporter": "python",
   "pygments_lexer": "ipython3",
   "version": "3.9.12"
  }
 },
 "nbformat": 4,
 "nbformat_minor": 5
}
