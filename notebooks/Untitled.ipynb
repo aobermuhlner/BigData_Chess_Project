{
 "cells": [
  {
   "cell_type": "code",
   "execution_count": null,
   "id": "3375d5fe-e341-4921-b110-5eeb0b38f9a7",
   "metadata": {},
   "outputs": [],
   "source": [
    "import chess.pgn\n",
    "import tqdm\n",
    "import os\n",
    "\n",
    "file_name = \"100_million_games\"\n",
    "source_file_path = f'../../testData/splitted_games/{file_name}.pgn'\n",
    "target_folder = '../../testData/split_games/'\n",
    "os.makedirs(target_folder, exist_ok=True)\n",
    "\n",
    "def split_pgn_file(source_file, target_folder, num_games_per_file):\n",
    "    game_count = 0\n",
    "    file_count = 1\n",
    "    current_file_path = os.path.join(target_folder, f\"{file_name}_part_{file_count}.pgn\")\n",
    "\n",
    "    with open(source_file, 'r') as pgn:\n",
    "        current_file = open(current_file_path, 'w')\n",
    "        while True:\n",
    "            headers = chess.pgn.read_headers(pgn)\n",
    "            if headers is None:\n",
    "                break  # End of file\n",
    "\n",
    "            game = chess.pgn.read_game(pgn)  # Go back and read the entire game\n",
    "            if game is not None:\n",
    "                game_count += 1\n",
    "                print(game, file=current_file, end=\"\\n\\n\")\n",
    "\n",
    "                if game_count >= num_games_per_file:\n",
    "                    current_file.close()\n",
    "                    file_count += 1\n",
    "                    game_count = 0\n",
    "                    current_file_path = os.path.join(target_folder, f\"{file_name}_part_{file_count}.pgn\")\n",
    "                    current_file = open(current_file_path, 'w')\n",
    "\n",
    "        if not current_file.closed:\n",
    "            current_file.close()\n",
    "\n",
    "# Customize the number of games per file based on your memory capacity and needs\n",
    "num_games_per_file = 10000  # Adjust this number based on your observation\n",
    "split_pgn_file(source_file_path, target_folder, num_games_per_file)\n"
   ]
  },
  {
   "cell_type": "code",
   "execution_count": 3,
   "id": "5c381189-625f-4658-9817-3fadb0cfc9e2",
   "metadata": {
    "tags": []
   },
   "outputs": [
    {
     "name": "stderr",
     "output_type": "stream",
     "text": [
      "1772186it [1:54:09, 173.03it/s]                     "
     ]
    },
    {
     "ename": "KeyboardInterrupt",
     "evalue": "",
     "output_type": "error",
     "traceback": [
      "\u001b[1;31m---------------------------------------------------------------------------\u001b[0m",
      "\u001b[1;31mKeyboardInterrupt\u001b[0m                         Traceback (most recent call last)",
      "Input \u001b[1;32mIn [3]\u001b[0m, in \u001b[0;36m<cell line: 13>\u001b[1;34m()\u001b[0m\n\u001b[0;32m     17\u001b[0m \u001b[38;5;28;01mwith\u001b[39;00m \u001b[38;5;28mopen\u001b[39m(file_path, \u001b[38;5;124m'\u001b[39m\u001b[38;5;124mr\u001b[39m\u001b[38;5;124m'\u001b[39m) \u001b[38;5;28;01mas\u001b[39;00m pgn:\n\u001b[0;32m     18\u001b[0m     \u001b[38;5;28;01mwhile\u001b[39;00m \u001b[38;5;28;01mTrue\u001b[39;00m:\n\u001b[1;32m---> 19\u001b[0m         game \u001b[38;5;241m=\u001b[39m \u001b[43mchess\u001b[49m\u001b[38;5;241;43m.\u001b[39;49m\u001b[43mpgn\u001b[49m\u001b[38;5;241;43m.\u001b[39;49m\u001b[43mread_game\u001b[49m\u001b[43m(\u001b[49m\u001b[43mpgn\u001b[49m\u001b[43m)\u001b[49m\n\u001b[0;32m     20\u001b[0m         \u001b[38;5;28;01mif\u001b[39;00m game \u001b[38;5;129;01mis\u001b[39;00m \u001b[38;5;28;01mNone\u001b[39;00m:  \u001b[38;5;66;03m# End of file\u001b[39;00m\n\u001b[0;32m     21\u001b[0m             \u001b[38;5;28;01mbreak\u001b[39;00m\n",
      "File \u001b[1;32m~\\anaconda3\\lib\\site-packages\\chess\\pgn.py:1731\u001b[0m, in \u001b[0;36mread_game\u001b[1;34m(handle, Visitor)\u001b[0m\n\u001b[0;32m   1729\u001b[0m \u001b[38;5;28;01mif\u001b[39;00m visitor\u001b[38;5;241m.\u001b[39mbegin_parse_san(board_stack[\u001b[38;5;241m-\u001b[39m\u001b[38;5;241m1\u001b[39m], token) \u001b[38;5;129;01mis\u001b[39;00m \u001b[38;5;129;01mnot\u001b[39;00m SKIP:\n\u001b[0;32m   1730\u001b[0m     \u001b[38;5;28;01mtry\u001b[39;00m:\n\u001b[1;32m-> 1731\u001b[0m         move \u001b[38;5;241m=\u001b[39m \u001b[43mvisitor\u001b[49m\u001b[38;5;241;43m.\u001b[39;49m\u001b[43mparse_san\u001b[49m\u001b[43m(\u001b[49m\u001b[43mboard_stack\u001b[49m\u001b[43m[\u001b[49m\u001b[38;5;241;43m-\u001b[39;49m\u001b[38;5;241;43m1\u001b[39;49m\u001b[43m]\u001b[49m\u001b[43m,\u001b[49m\u001b[43m \u001b[49m\u001b[43mtoken\u001b[49m\u001b[43m)\u001b[49m\n\u001b[0;32m   1732\u001b[0m     \u001b[38;5;28;01mexcept\u001b[39;00m \u001b[38;5;167;01mValueError\u001b[39;00m \u001b[38;5;28;01mas\u001b[39;00m error:\n\u001b[0;32m   1733\u001b[0m         visitor\u001b[38;5;241m.\u001b[39mhandle_error(error)\n",
      "File \u001b[1;32m~\\anaconda3\\lib\\site-packages\\chess\\pgn.py:1104\u001b[0m, in \u001b[0;36mBaseVisitor.parse_san\u001b[1;34m(self, board, san)\u001b[0m\n\u001b[0;32m   1090\u001b[0m \u001b[38;5;28;01mdef\u001b[39;00m \u001b[38;5;21mparse_san\u001b[39m(\u001b[38;5;28mself\u001b[39m, board: chess\u001b[38;5;241m.\u001b[39mBoard, san: \u001b[38;5;28mstr\u001b[39m) \u001b[38;5;241m-\u001b[39m\u001b[38;5;241m>\u001b[39m chess\u001b[38;5;241m.\u001b[39mMove:\n\u001b[0;32m   1091\u001b[0m \u001b[38;5;250m    \u001b[39m\u001b[38;5;124;03m\"\"\"\u001b[39;00m\n\u001b[0;32m   1092\u001b[0m \u001b[38;5;124;03m    When the visitor is used by a parser, this is called to parse a move\u001b[39;00m\n\u001b[0;32m   1093\u001b[0m \u001b[38;5;124;03m    in standard algebraic notation.\u001b[39;00m\n\u001b[1;32m   (...)\u001b[0m\n\u001b[0;32m   1102\u001b[0m \u001b[38;5;124;03m        they can be handled for everyone.\u001b[39;00m\n\u001b[0;32m   1103\u001b[0m \u001b[38;5;124;03m    \"\"\"\u001b[39;00m\n\u001b[1;32m-> 1104\u001b[0m     \u001b[38;5;28;01mreturn\u001b[39;00m \u001b[43mboard\u001b[49m\u001b[38;5;241;43m.\u001b[39;49m\u001b[43mparse_san\u001b[49m\u001b[43m(\u001b[49m\u001b[43msan\u001b[49m\u001b[43m)\u001b[49m\n",
      "File \u001b[1;32m~\\anaconda3\\lib\\site-packages\\chess\\__init__.py:3077\u001b[0m, in \u001b[0;36mBoard.parse_san\u001b[1;34m(self, san)\u001b[0m\n\u001b[0;32m   3075\u001b[0m \u001b[38;5;66;03m# Match legal moves.\u001b[39;00m\n\u001b[0;32m   3076\u001b[0m matched_move \u001b[38;5;241m=\u001b[39m \u001b[38;5;28;01mNone\u001b[39;00m\n\u001b[1;32m-> 3077\u001b[0m \u001b[38;5;28;01mfor\u001b[39;00m move \u001b[38;5;129;01min\u001b[39;00m \u001b[38;5;28mself\u001b[39m\u001b[38;5;241m.\u001b[39mgenerate_legal_moves(from_mask, to_mask):\n\u001b[0;32m   3078\u001b[0m     \u001b[38;5;28;01mif\u001b[39;00m move\u001b[38;5;241m.\u001b[39mpromotion \u001b[38;5;241m!=\u001b[39m promotion:\n\u001b[0;32m   3079\u001b[0m         \u001b[38;5;28;01mcontinue\u001b[39;00m\n",
      "File \u001b[1;32m~\\anaconda3\\lib\\site-packages\\chess\\__init__.py:3596\u001b[0m, in \u001b[0;36mBoard.generate_legal_moves\u001b[1;34m(self, from_mask, to_mask)\u001b[0m\n\u001b[0;32m   3594\u001b[0m             \u001b[38;5;28;01myield\u001b[39;00m move\n\u001b[0;32m   3595\u001b[0m \u001b[38;5;28;01melse\u001b[39;00m:\n\u001b[1;32m-> 3596\u001b[0m     \u001b[38;5;28;01mfor\u001b[39;00m move \u001b[38;5;129;01min\u001b[39;00m \u001b[38;5;28mself\u001b[39m\u001b[38;5;241m.\u001b[39mgenerate_pseudo_legal_moves(from_mask, to_mask):\n\u001b[0;32m   3597\u001b[0m         \u001b[38;5;28;01mif\u001b[39;00m \u001b[38;5;28mself\u001b[39m\u001b[38;5;241m.\u001b[39m_is_safe(king, blockers, move):\n\u001b[0;32m   3598\u001b[0m             \u001b[38;5;28;01myield\u001b[39;00m move\n",
      "File \u001b[1;32m~\\anaconda3\\lib\\site-packages\\chess\\__init__.py:1714\u001b[0m, in \u001b[0;36mBoard.generate_pseudo_legal_moves\u001b[1;34m(self, from_mask, to_mask)\u001b[0m\n\u001b[0;32m   1712\u001b[0m     moves \u001b[38;5;241m=\u001b[39m \u001b[38;5;28mself\u001b[39m\u001b[38;5;241m.\u001b[39mattacks_mask(from_square) \u001b[38;5;241m&\u001b[39m \u001b[38;5;241m~\u001b[39mour_pieces \u001b[38;5;241m&\u001b[39m to_mask\n\u001b[0;32m   1713\u001b[0m     \u001b[38;5;28;01mfor\u001b[39;00m to_square \u001b[38;5;129;01min\u001b[39;00m scan_reversed(moves):\n\u001b[1;32m-> 1714\u001b[0m         \u001b[38;5;28;01myield\u001b[39;00m \u001b[43mMove\u001b[49m\u001b[43m(\u001b[49m\u001b[43mfrom_square\u001b[49m\u001b[43m,\u001b[49m\u001b[43m \u001b[49m\u001b[43mto_square\u001b[49m\u001b[43m)\u001b[49m\n\u001b[0;32m   1716\u001b[0m \u001b[38;5;66;03m# Generate castling moves.\u001b[39;00m\n\u001b[0;32m   1717\u001b[0m \u001b[38;5;28;01mif\u001b[39;00m from_mask \u001b[38;5;241m&\u001b[39m \u001b[38;5;28mself\u001b[39m\u001b[38;5;241m.\u001b[39mkings:\n",
      "File \u001b[1;32m<string>:3\u001b[0m, in \u001b[0;36m__init__\u001b[1;34m(self, from_square, to_square, promotion, drop)\u001b[0m\n",
      "\u001b[1;31mKeyboardInterrupt\u001b[0m: "
     ]
    },
    {
     "name": "stderr",
     "output_type": "stream",
     "text": [
      "1772195it [1:54:21, 173.03it/s]"
     ]
    }
   ],
   "source": [
    "import chess.pgn\n",
    "import pandas as pd\n",
    "import tqdm\n",
    "\n",
    "file_path = '../../testData/splitted_games/100_million_games.pgn'\n",
    "output_file = '../../testData/splitted_games/processed_moves.csv'\n",
    "chunk_size = 100000  # Define how many games to process at a time\n",
    "\n",
    "# Initialize a progress bar\n",
    "pbar = tqdm.tqdm(total=NUM_GAMES)\n",
    "\n",
    "# Open the output CSV file in append mode\n",
    "with open(output_file, 'a', newline='') as csvfile:\n",
    "    # Initialize a pandas DataFrame to hold chunks of processed games\n",
    "    chunk_data = []\n",
    "    \n",
    "    with open(file_path, 'r') as pgn:\n",
    "        while True:\n",
    "            game = chess.pgn.read_game(pgn)\n",
    "            if game is None:  # End of file\n",
    "                break\n",
    "            \n",
    "            # Extract moves and truncate to the first 30 moves\n",
    "            moves = [move.uci() for move in game.mainline_moves()][:30]\n",
    "            chunk_data.append({'moves': str(moves)})\n",
    "            \n",
    "            # Check if the chunk size is reached\n",
    "            if len(chunk_data) >= chunk_size:\n",
    "                # Convert the chunk data to a DataFrame and append it to the CSV\n",
    "                df = pd.DataFrame(chunk_data)\n",
    "                df.to_csv(csvfile, mode='a', header=(csvfile.tell() == 0), index=False)\n",
    "                chunk_data = []  # Reset the chunk data\n",
    "            \n",
    "            pbar.update(1)  # Update the progress bar\n",
    "\n",
    "    # Process any remaining games\n",
    "    if chunk_data:\n",
    "        df = pd.DataFrame(chunk_data)\n",
    "        df.to_csv(csvfile, mode='a', header=(csvfile.tell() == 0), index=False)\n",
    "\n",
    "pbar.close()\n"
   ]
  },
  {
   "cell_type": "code",
   "execution_count": null,
   "id": "49912baf-4b7c-4f44-884c-81f9f996c32c",
   "metadata": {},
   "outputs": [],
   "source": []
  },
  {
   "cell_type": "code",
   "execution_count": null,
   "id": "bf1c697c-e32c-405c-b07b-ab6849fa9bc5",
   "metadata": {},
   "outputs": [],
   "source": []
  },
  {
   "cell_type": "code",
   "execution_count": null,
   "id": "1b6ee44a-1d27-4fa6-9766-53f78461912a",
   "metadata": {},
   "outputs": [],
   "source": []
  }
 ],
 "metadata": {
  "kernelspec": {
   "display_name": "Python 3 (ipykernel)",
   "language": "python",
   "name": "python3"
  },
  "language_info": {
   "codemirror_mode": {
    "name": "ipython",
    "version": 3
   },
   "file_extension": ".py",
   "mimetype": "text/x-python",
   "name": "python",
   "nbconvert_exporter": "python",
   "pygments_lexer": "ipython3",
   "version": "3.9.12"
  }
 },
 "nbformat": 4,
 "nbformat_minor": 5
}
