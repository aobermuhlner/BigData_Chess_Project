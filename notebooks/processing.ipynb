{
 "cells": [
  {
   "cell_type": "code",
   "execution_count": 146,
   "id": "b6a4a235-8b76-42d7-b393-738bec7cadcc",
   "metadata": {},
   "outputs": [],
   "source": [
    "import chess.pgn\n",
    "import pandas as pd\n",
    "pd.options.display.max_columns=999\n",
    "import datetime\n",
    "import tqdm\n",
    "import zipfile"
   ]
  },
  {
   "cell_type": "markdown",
   "id": "755895ae-275b-48ef-a94c-f3944ceaf741",
   "metadata": {},
   "source": [
    "# Process PGN into Python Friendlier Form"
   ]
  },
  {
   "cell_type": "code",
   "execution_count": 147,
   "id": "3ab9b96e-15c1-43e9-92cd-c931a4a40dc2",
   "metadata": {},
   "outputs": [],
   "source": [
    "file_name = \"apendra_games\"\n",
    "player_name = \"Apendra\""
   ]
  },
  {
   "cell_type": "code",
   "execution_count": 148,
   "id": "1a7169fe-1ea9-4570-b683-b7b124cf89a4",
   "metadata": {
    "tags": []
   },
   "outputs": [
    {
     "name": "stderr",
     "output_type": "stream",
     "text": [
      "100%|██████████| 1800/1800 [00:05<00:00, 343.58it/s]\n"
     ]
    }
   ],
   "source": [
    "NUM_GAMES=1800  #from https://database.nikonoel.fr/ Not necessary but helpful to get tqdm to give estimate\n",
    "rows=[]\n",
    "with open(f'../../testData/lichess_db_standard_rated_2013-04/{file_name}.pgn') as pgn:\n",
    "    for game in tqdm.tqdm(range(NUM_GAMES)):\n",
    "        row={}\n",
    "        game = chess.pgn.read_game(pgn)\n",
    "        row['headers']=game.headers.__dict__\n",
    "        row['moves']=[x.uci() for x in game.mainline_moves()]\n",
    "        rows.append(row)\n",
    "games=pd.DataFrame(rows)"
   ]
  },
  {
   "cell_type": "code",
   "execution_count": 107,
   "id": "16a0914f-f586-4964-884f-fa6c152036d5",
   "metadata": {},
   "outputs": [],
   "source": [
    "#komplett unnötig\n",
    "def split_chess_moves(moves_list):\n",
    "    pattern = r'\\s*(\\d{1,3})\\.?\\s*((?:(?:O-O(?:-O)?)|(?:[KQNBR][1-8a-h]?x?[a-h]x?[1-8])|(?:[a-h]x?[a-h]?[1-8]\\=?[QRNB]?))\\+?)(?:\\s*\\d+\\.?\\d+?m?s)?\\.?\\s*((?:(?:O-O(?:-O)?)|(?:[KQNBR][1-8a-h]?x?[a-h]x?[1-8])|(?:[a-h]x?[a-h]?[1-8]\\=?[QRNB]?))\\+?)?(?:\\s*\\d+\\.?\\d+?m?s)?'\n",
    "    \n",
    "    processed_moves = []\n",
    "    for move in moves_list:\n",
    "        # Find all matches in the move string\n",
    "        matches = re.findall(pattern, move)\n",
    "        # Extract moves, ignoring move numbers and timings\n",
    "        for match in matches:\n",
    "            processed_moves.extend([m for m in match[1:] if m])\n",
    "    \n",
    "    return processed_moves\n",
    "\n",
    "# Apply the function to each list in the 'moves' column\n",
    "games['moves'] = games['moves'].apply(split_chess_moves)"
   ]
  },
  {
   "cell_type": "markdown",
   "id": "12c81eed-c574-41c7-91ea-7e71d4263bec",
   "metadata": {},
   "source": [
    "Loading a big PGN file is a little slow. There are more advanced coding architectures meant to handle that since sometimes the data creation rate is faster than you can process on one machine. Essentially you would do stream processing with scalable worker nodes. Another optimation would be multi-threading since there is a lot of I/O (input output) but multi-processing may work well too. Since 20 minutes isn't the end of the world we will just wait for now.  "
   ]
  },
  {
   "cell_type": "code",
   "execution_count": 149,
   "id": "ea8aa47f-dc36-431c-9cee-81783579f35e",
   "metadata": {},
   "outputs": [],
   "source": [
    "games['moves'] = games['moves'].apply(lambda x: x[:30])"
   ]
  },
  {
   "cell_type": "code",
   "execution_count": 150,
   "id": "79705421-80f1-454a-952d-1744639c5976",
   "metadata": {},
   "outputs": [],
   "source": [
    "#Save as CSV for easy, faster access\n",
    "games.to_csv(f\"../../testData/{file_name}.csv\", index=False)\n"
   ]
  },
  {
   "cell_type": "markdown",
   "id": "6db4c3d5-60fa-4ce5-b9a5-3892a7ba0b8f",
   "metadata": {},
   "source": [
    "# Game Analysis\n",
    "As mentioned in the intro we want to run through these games to add extra analytics such as: \n",
    "- position complexity (count blunders by player, average complexity)\n",
    "- openings used\n",
    "- win rates by Elo rating and openings"
   ]
  },
  {
   "cell_type": "code",
   "execution_count": 184,
   "id": "26835a38-06b8-47c4-8b36-42106f63b1e4",
   "metadata": {},
   "outputs": [
    {
     "data": {
      "text/html": [
       "<div>\n",
       "<style scoped>\n",
       "    .dataframe tbody tr th:only-of-type {\n",
       "        vertical-align: middle;\n",
       "    }\n",
       "\n",
       "    .dataframe tbody tr th {\n",
       "        vertical-align: top;\n",
       "    }\n",
       "\n",
       "    .dataframe thead th {\n",
       "        text-align: right;\n",
       "    }\n",
       "</style>\n",
       "<table border=\"1\" class=\"dataframe\">\n",
       "  <thead>\n",
       "    <tr style=\"text-align: right;\">\n",
       "      <th></th>\n",
       "      <th>headers</th>\n",
       "      <th>moves</th>\n",
       "    </tr>\n",
       "  </thead>\n",
       "  <tbody>\n",
       "    <tr>\n",
       "      <th>0</th>\n",
       "      <td>{'_tag_roster': {'Event': 'Rated Bullet game',...</td>\n",
       "      <td>['e2e4', 'e7e5', 'g1f3', 'b8c6', 'f1b5', 'a7a6...</td>\n",
       "    </tr>\n",
       "    <tr>\n",
       "      <th>1</th>\n",
       "      <td>{'_tag_roster': {'Event': 'Rated Bullet game',...</td>\n",
       "      <td>['c2c4', 'e7e5', 'c4c5', 'f8c5', 'g2g3', 'g8f6...</td>\n",
       "    </tr>\n",
       "    <tr>\n",
       "      <th>2</th>\n",
       "      <td>{'_tag_roster': {'Event': 'Rated Bullet game',...</td>\n",
       "      <td>['e2e4', 'd7d5', 'e4d5', 'd8d5', 'b1c3', 'd5d8...</td>\n",
       "    </tr>\n",
       "    <tr>\n",
       "      <th>3</th>\n",
       "      <td>{'_tag_roster': {'Event': 'Rated Bullet game',...</td>\n",
       "      <td>['e2e4', 'e7e5', 'g1f3', 'b8c6', 'f1c4', 'f8c5...</td>\n",
       "    </tr>\n",
       "    <tr>\n",
       "      <th>4</th>\n",
       "      <td>{'_tag_roster': {'Event': 'Rated Bullet game',...</td>\n",
       "      <td>['e2e4', 'c7c5', 'g1f3', 'e7e6', 'c2c3', 'd7d5...</td>\n",
       "    </tr>\n",
       "    <tr>\n",
       "      <th>...</th>\n",
       "      <td>...</td>\n",
       "      <td>...</td>\n",
       "    </tr>\n",
       "    <tr>\n",
       "      <th>1795</th>\n",
       "      <td>{'_tag_roster': {'Event': 'Rated Bullet game',...</td>\n",
       "      <td>['e2e4', 'e7e5', 'f2f4', 'b8c6', 'g1f3', 'e5f4...</td>\n",
       "    </tr>\n",
       "    <tr>\n",
       "      <th>1796</th>\n",
       "      <td>{'_tag_roster': {'Event': 'Rated Bullet game',...</td>\n",
       "      <td>['d2d4', 'd7d5', 'c2c4', 'd5c4', 'b1c3', 'g8f6...</td>\n",
       "    </tr>\n",
       "    <tr>\n",
       "      <th>1797</th>\n",
       "      <td>{'_tag_roster': {'Event': 'Rated Bullet game',...</td>\n",
       "      <td>['e2e4', 'c7c5', 'g1f3', 'd7d6', 'b1c3', 'b8c6...</td>\n",
       "    </tr>\n",
       "    <tr>\n",
       "      <th>1798</th>\n",
       "      <td>{'_tag_roster': {'Event': 'Rated Bullet game',...</td>\n",
       "      <td>['e2e4', 'e7e6', 'g1f3', 'a7a6', 'd2d4', 'h7h6...</td>\n",
       "    </tr>\n",
       "    <tr>\n",
       "      <th>1799</th>\n",
       "      <td>{'_tag_roster': {'Event': 'Rated Bullet game',...</td>\n",
       "      <td>['e2e4', 'e7e5', 'g1f3', 'b8c6', 'f1b5', 'g8f6...</td>\n",
       "    </tr>\n",
       "  </tbody>\n",
       "</table>\n",
       "<p>1800 rows × 2 columns</p>\n",
       "</div>"
      ],
      "text/plain": [
       "                                                headers  \\\n",
       "0     {'_tag_roster': {'Event': 'Rated Bullet game',...   \n",
       "1     {'_tag_roster': {'Event': 'Rated Bullet game',...   \n",
       "2     {'_tag_roster': {'Event': 'Rated Bullet game',...   \n",
       "3     {'_tag_roster': {'Event': 'Rated Bullet game',...   \n",
       "4     {'_tag_roster': {'Event': 'Rated Bullet game',...   \n",
       "...                                                 ...   \n",
       "1795  {'_tag_roster': {'Event': 'Rated Bullet game',...   \n",
       "1796  {'_tag_roster': {'Event': 'Rated Bullet game',...   \n",
       "1797  {'_tag_roster': {'Event': 'Rated Bullet game',...   \n",
       "1798  {'_tag_roster': {'Event': 'Rated Bullet game',...   \n",
       "1799  {'_tag_roster': {'Event': 'Rated Bullet game',...   \n",
       "\n",
       "                                                  moves  \n",
       "0     ['e2e4', 'e7e5', 'g1f3', 'b8c6', 'f1b5', 'a7a6...  \n",
       "1     ['c2c4', 'e7e5', 'c4c5', 'f8c5', 'g2g3', 'g8f6...  \n",
       "2     ['e2e4', 'd7d5', 'e4d5', 'd8d5', 'b1c3', 'd5d8...  \n",
       "3     ['e2e4', 'e7e5', 'g1f3', 'b8c6', 'f1c4', 'f8c5...  \n",
       "4     ['e2e4', 'c7c5', 'g1f3', 'e7e6', 'c2c3', 'd7d5...  \n",
       "...                                                 ...  \n",
       "1795  ['e2e4', 'e7e5', 'f2f4', 'b8c6', 'g1f3', 'e5f4...  \n",
       "1796  ['d2d4', 'd7d5', 'c2c4', 'd5c4', 'b1c3', 'g8f6...  \n",
       "1797  ['e2e4', 'c7c5', 'g1f3', 'd7d6', 'b1c3', 'b8c6...  \n",
       "1798  ['e2e4', 'e7e6', 'g1f3', 'a7a6', 'd2d4', 'h7h6...  \n",
       "1799  ['e2e4', 'e7e5', 'g1f3', 'b8c6', 'f1b5', 'g8f6...  \n",
       "\n",
       "[1800 rows x 2 columns]"
      ]
     },
     "execution_count": 184,
     "metadata": {},
     "output_type": "execute_result"
    }
   ],
   "source": [
    "games=pd.read_csv(f\"../../testData/{file_name}.csv\")\n",
    "games"
   ]
  },
  {
   "cell_type": "code",
   "execution_count": 185,
   "id": "39eb942f-863b-472f-9ad6-53b8378090d4",
   "metadata": {},
   "outputs": [],
   "source": [
    "#Convert moves from string into list of move strings \n",
    "\n",
    "#Try not to run eval unless you really need to and are sure the text comes from a trusted source\n",
    "games['moves']=games['moves'].apply(lambda x: eval(x))\n",
    "games['headers']=games['headers'].apply(lambda x: eval(x))#to dict"
   ]
  },
  {
   "cell_type": "markdown",
   "id": "48958633-aac3-451b-a62d-60c965f0a255",
   "metadata": {},
   "source": [
    "## Grab Interesting Variables\n",
    "We're going to parse out specific data points from headers and moves. Anything interesting we will store as a top-level column on the dataframe so when we ultimately store this data it's ready to go for analysis.\n",
    "\n",
    "If you just want everything from headers you can use pd.json_normalize "
   ]
  },
  {
   "cell_type": "code",
   "execution_count": 186,
   "id": "a1c2f0f5-37bd-4085-bf56-f4dd12abcfc0",
   "metadata": {},
   "outputs": [],
   "source": [
    "def safe_convert_to_int(value):\n",
    "    try:\n",
    "        return int(value)\n",
    "    except ValueError:\n",
    "        return None  # or you can use np.nan or a placeholder like -1"
   ]
  },
  {
   "cell_type": "code",
   "execution_count": 187,
   "id": "2cab3ef3-1121-4fff-bd92-c3e0721b3001",
   "metadata": {},
   "outputs": [],
   "source": [
    "# Assuming player_name contains the name of the player you're interested in\n",
    "player_name = 'Apendra'\n",
    "\n",
    "def find_player_color(header):\n",
    "    if header.get(\"_tag_roster\", {}).get(\"White\", \"\") == player_name:\n",
    "        return 'White'\n",
    "    elif header.get(\"_tag_roster\", {}).get(\"Black\", \"\") == player_name:\n",
    "        return 'Black'\n",
    "    return 'Unknown'  # In case the player is not found in either\n",
    "\n",
    "def player_score(header, player_color):\n",
    "    result = header.get('_tag_roster', {}).get('Result', '')\n",
    "    if result == \"1/2-1/2\":\n",
    "        return 0.5  # Draw\n",
    "    elif result == \"1-0\" and player_color == 'White':\n",
    "        return 1.0  # White win\n",
    "    elif result == \"0-1\" and player_color == 'Black':\n",
    "        return 1.0  # Black win\n",
    "    return 0.0  # Loss or unknown result\n",
    "\n"
   ]
  },
  {
   "cell_type": "code",
   "execution_count": 144,
   "id": "e1433598-4617-461f-823d-22cbd112754d",
   "metadata": {},
   "outputs": [
    {
     "data": {
      "text/plain": [
       "{'_tag_roster': {'Event': 'Rated Bullet game',\n",
       "  'Site': 'https://lichess.org/R5xvWQmB',\n",
       "  'Date': '2024.03.14',\n",
       "  'Round': '?',\n",
       "  'White': 'Amir_122012',\n",
       "  'Black': 'Apendra',\n",
       "  'Result': '1-0'},\n",
       " '_others': {'UTCDate': '2024.03.14',\n",
       "  'UTCTime': '10:05:06',\n",
       "  'WhiteElo': '1393',\n",
       "  'BlackElo': '1490',\n",
       "  'WhiteRatingDiff': '+7',\n",
       "  'BlackRatingDiff': '-7',\n",
       "  'Variant': 'Standard',\n",
       "  'TimeControl': '60+0',\n",
       "  'ECO': 'C68',\n",
       "  'Opening': 'Ruy Lopez: Exchange Variation, Keres Variation',\n",
       "  'Termination': 'Time forfeit'}}"
      ]
     },
     "execution_count": 144,
     "metadata": {},
     "output_type": "execute_result"
    }
   ],
   "source": [
    "games['headers'][0]"
   ]
  },
  {
   "cell_type": "code",
   "execution_count": 193,
   "id": "c623f9ef-55ff-49f3-a483-f098b558ccb8",
   "metadata": {
    "tags": []
   },
   "outputs": [
    {
     "data": {
      "text/html": [
       "<div>\n",
       "<style scoped>\n",
       "    .dataframe tbody tr th:only-of-type {\n",
       "        vertical-align: middle;\n",
       "    }\n",
       "\n",
       "    .dataframe tbody tr th {\n",
       "        vertical-align: top;\n",
       "    }\n",
       "\n",
       "    .dataframe thead th {\n",
       "        text-align: right;\n",
       "    }\n",
       "</style>\n",
       "<table border=\"1\" class=\"dataframe\">\n",
       "  <thead>\n",
       "    <tr style=\"text-align: right;\">\n",
       "      <th></th>\n",
       "      <th>headers</th>\n",
       "      <th>moves</th>\n",
       "      <th>lichess_id</th>\n",
       "      <th>white_elo</th>\n",
       "      <th>black_elo</th>\n",
       "      <th>ECO</th>\n",
       "      <th>opening_name</th>\n",
       "      <th>event</th>\n",
       "      <th>player_color</th>\n",
       "      <th>score</th>\n",
       "    </tr>\n",
       "  </thead>\n",
       "  <tbody>\n",
       "    <tr>\n",
       "      <th>0</th>\n",
       "      <td>{'_tag_roster': {'Event': 'Rated Bullet game',...</td>\n",
       "      <td>[e2e4, e7e5, g1f3, b8c6, f1b5, a7a6, b5c6, d7c...</td>\n",
       "      <td>https://lichess.org/R5xvWQmB</td>\n",
       "      <td>1393.0</td>\n",
       "      <td>1490.0</td>\n",
       "      <td>C68</td>\n",
       "      <td>Ruy Lopez: Exchange Variation, Keres Variation</td>\n",
       "      <td>Rated Bullet game</td>\n",
       "      <td>Black</td>\n",
       "      <td>0.0</td>\n",
       "    </tr>\n",
       "    <tr>\n",
       "      <th>1</th>\n",
       "      <td>{'_tag_roster': {'Event': 'Rated Bullet game',...</td>\n",
       "      <td>[c2c4, e7e5, c4c5, f8c5, g2g3, g8f6, f1g2, d7d...</td>\n",
       "      <td>https://lichess.org/W4qIfyPj</td>\n",
       "      <td>1468.0</td>\n",
       "      <td>1485.0</td>\n",
       "      <td>A20</td>\n",
       "      <td>English Opening: King's English Variation</td>\n",
       "      <td>Rated Bullet game</td>\n",
       "      <td>Black</td>\n",
       "      <td>1.0</td>\n",
       "    </tr>\n",
       "    <tr>\n",
       "      <th>2</th>\n",
       "      <td>{'_tag_roster': {'Event': 'Rated Bullet game',...</td>\n",
       "      <td>[e2e4, d7d5, e4d5, d8d5, b1c3, d5d8, g1f3, g7g...</td>\n",
       "      <td>https://lichess.org/uAyyykrW</td>\n",
       "      <td>1490.0</td>\n",
       "      <td>1499.0</td>\n",
       "      <td>B01</td>\n",
       "      <td>Scandinavian Defense: Valencian Variation</td>\n",
       "      <td>Rated Bullet game</td>\n",
       "      <td>White</td>\n",
       "      <td>0.0</td>\n",
       "    </tr>\n",
       "    <tr>\n",
       "      <th>3</th>\n",
       "      <td>{'_tag_roster': {'Event': 'Rated Bullet game',...</td>\n",
       "      <td>[e2e4, e7e5, g1f3, b8c6, f1c4, f8c5, b2b4, c5b...</td>\n",
       "      <td>https://lichess.org/vBCaaIq2</td>\n",
       "      <td>1549.0</td>\n",
       "      <td>1484.0</td>\n",
       "      <td>C52</td>\n",
       "      <td>Italian Game: Evans Gambit, Pierce Defense</td>\n",
       "      <td>Rated Bullet game</td>\n",
       "      <td>Black</td>\n",
       "      <td>1.0</td>\n",
       "    </tr>\n",
       "    <tr>\n",
       "      <th>4</th>\n",
       "      <td>{'_tag_roster': {'Event': 'Rated Bullet game',...</td>\n",
       "      <td>[e2e4, c7c5, g1f3, e7e6, c2c3, d7d5, e4d5, e6d...</td>\n",
       "      <td>https://lichess.org/AAfUu8jz</td>\n",
       "      <td>1477.0</td>\n",
       "      <td>1514.0</td>\n",
       "      <td>B40</td>\n",
       "      <td>Sicilian Defense: Delayed Alapin Variation, wi...</td>\n",
       "      <td>Rated Bullet game</td>\n",
       "      <td>White</td>\n",
       "      <td>1.0</td>\n",
       "    </tr>\n",
       "  </tbody>\n",
       "</table>\n",
       "</div>"
      ],
      "text/plain": [
       "                                             headers  \\\n",
       "0  {'_tag_roster': {'Event': 'Rated Bullet game',...   \n",
       "1  {'_tag_roster': {'Event': 'Rated Bullet game',...   \n",
       "2  {'_tag_roster': {'Event': 'Rated Bullet game',...   \n",
       "3  {'_tag_roster': {'Event': 'Rated Bullet game',...   \n",
       "4  {'_tag_roster': {'Event': 'Rated Bullet game',...   \n",
       "\n",
       "                                               moves  \\\n",
       "0  [e2e4, e7e5, g1f3, b8c6, f1b5, a7a6, b5c6, d7c...   \n",
       "1  [c2c4, e7e5, c4c5, f8c5, g2g3, g8f6, f1g2, d7d...   \n",
       "2  [e2e4, d7d5, e4d5, d8d5, b1c3, d5d8, g1f3, g7g...   \n",
       "3  [e2e4, e7e5, g1f3, b8c6, f1c4, f8c5, b2b4, c5b...   \n",
       "4  [e2e4, c7c5, g1f3, e7e6, c2c3, d7d5, e4d5, e6d...   \n",
       "\n",
       "                     lichess_id  white_elo  black_elo  ECO  \\\n",
       "0  https://lichess.org/R5xvWQmB     1393.0     1490.0  C68   \n",
       "1  https://lichess.org/W4qIfyPj     1468.0     1485.0  A20   \n",
       "2  https://lichess.org/uAyyykrW     1490.0     1499.0  B01   \n",
       "3  https://lichess.org/vBCaaIq2     1549.0     1484.0  C52   \n",
       "4  https://lichess.org/AAfUu8jz     1477.0     1514.0  B40   \n",
       "\n",
       "                                        opening_name              event  \\\n",
       "0     Ruy Lopez: Exchange Variation, Keres Variation  Rated Bullet game   \n",
       "1          English Opening: King's English Variation  Rated Bullet game   \n",
       "2          Scandinavian Defense: Valencian Variation  Rated Bullet game   \n",
       "3         Italian Game: Evans Gambit, Pierce Defense  Rated Bullet game   \n",
       "4  Sicilian Defense: Delayed Alapin Variation, wi...  Rated Bullet game   \n",
       "\n",
       "  player_color  score  \n",
       "0        Black    0.0  \n",
       "1        Black    1.0  \n",
       "2        White    0.0  \n",
       "3        Black    1.0  \n",
       "4        White    1.0  "
      ]
     },
     "execution_count": 193,
     "metadata": {},
     "output_type": "execute_result"
    }
   ],
   "source": [
    "games['lichess_id'] = games['headers'].apply(lambda x: x.get(\"_tag_roster\", {}).get(\"Site\", \"\"))\n",
    "\n",
    "games['white_elo'] = games['headers'].apply(lambda x: safe_convert_to_int(x.get(\"_others\", {}).get(\"WhiteElo\", \"\").split(\"-\")[0]))\n",
    "games['black_elo'] = games['headers'].apply(lambda x: safe_convert_to_int(x.get(\"_others\", {}).get(\"BlackElo\", \"\").split(\"-\")[0]))\n",
    "games['ECO'] = games['headers'].apply(lambda x: x.get(\"_others\", {}).get(\"ECO\"))\n",
    "games['opening_name'] = games['headers'].apply(lambda x: x.get(\"_others\", {}).get(\"Opening\", \"\"))\n",
    "games['event'] = games['headers'].apply(lambda x: x.get(\"_tag_roster\", {}).get(\"Event\", \"\"))\n",
    "\n",
    "games['player_color'] = games['headers'].apply(find_player_color)\n",
    "games['score'] = games.apply(lambda x: player_score(x['headers'], x['player_color']), axis=1)\n",
    "\n",
    "games.head()\n"
   ]
  },
  {
   "cell_type": "markdown",
   "id": "c93596b6-9cfd-42b9-b097-31b4a1fd2ae8",
   "metadata": {},
   "source": [
    "Data looks mostly good but I noticed \"Grünfeld Defense: Exchange Variation\" showing up funky. We can use ftfy to fix this."
   ]
  },
  {
   "cell_type": "code",
   "execution_count": 189,
   "id": "53bc5aa5-921e-4c37-a637-bc4b026f9290",
   "metadata": {},
   "outputs": [
    {
     "data": {
      "text/plain": [
       "'Grünfeld Defense: Exchange Variation'"
      ]
     },
     "execution_count": 189,
     "metadata": {},
     "output_type": "execute_result"
    }
   ],
   "source": [
    "#If you get an error on this import be sure to run pip install ftfy==6.1.1. This was added to requirements.txt recently\n",
    "import ftfy\n",
    "ftfy.fix_encoding(\"GrÃ¼nfeld Defense: Exchange Variation\")"
   ]
  },
  {
   "cell_type": "code",
   "execution_count": 26,
   "id": "3f5687b0-131a-4f0b-8289-09400b213f06",
   "metadata": {},
   "outputs": [
    {
     "name": "stdout",
     "output_type": "stream",
     "text": [
      "^C\n",
      "Requirement already satisfied: ftfy==6.1.1 in c:\\users\\aober\\anaconda3\\lib\\site-packages (6.1.1)\n",
      "Requirement already satisfied: wcwidth>=0.2.5 in c:\\users\\aober\\anaconda3\\lib\\site-packages (from ftfy==6.1.1) (0.2.13)\n"
     ]
    }
   ],
   "source": [
    "#Can run shell commands directly in Jupyter using !. Run below if had an import error above\n",
    "!pip install ftfy==6.1.1"
   ]
  },
  {
   "cell_type": "code",
   "execution_count": 190,
   "id": "55328ded-2c48-4d5c-9ed6-2ce1edbbfe8d",
   "metadata": {},
   "outputs": [
    {
     "data": {
      "text/plain": [
       "0          Ruy Lopez: Exchange Variation, Keres Variation\n",
       "1               English Opening: King's English Variation\n",
       "2               Scandinavian Defense: Valencian Variation\n",
       "3              Italian Game: Evans Gambit, Pierce Defense\n",
       "4       Sicilian Defense: Delayed Alapin Variation, wi...\n",
       "                              ...                        \n",
       "1795              King's Gambit Accepted: MacLeod Defense\n",
       "1796                              Queen's Gambit Accepted\n",
       "1797                  Sicilian Defense: Modern Variations\n",
       "1798                     French Defense: Knight Variation\n",
       "1799                            Ruy Lopez: Berlin Defense\n",
       "Name: opening_name, Length: 1800, dtype: object"
      ]
     },
     "execution_count": 190,
     "metadata": {},
     "output_type": "execute_result"
    }
   ],
   "source": [
    "games['opening_name']=games['opening_name'].apply(ftfy.fix_encoding)\n",
    "games['opening_name']"
   ]
  },
  {
   "cell_type": "markdown",
   "id": "249e9af9-4e8d-4b63-84db-d0095d125883",
   "metadata": {},
   "source": [
    "Opening name looks good now!"
   ]
  },
  {
   "cell_type": "code",
   "execution_count": 192,
   "id": "dc7767dc-0d20-46ac-9e54-9d4c4c470ead",
   "metadata": {},
   "outputs": [
    {
     "data": {
      "text/plain": [
       "1.0    894\n",
       "0.0    852\n",
       "0.5     54\n",
       "Name: score, dtype: int64"
      ]
     },
     "execution_count": 192,
     "metadata": {},
     "output_type": "execute_result"
    }
   ],
   "source": [
    "#Ensure score parsed correctly\n",
    "games['score'].value_counts()"
   ]
  },
  {
   "cell_type": "code",
   "execution_count": 194,
   "id": "31e87954-a711-4cf6-abdd-b0fef1dc6ed2",
   "metadata": {},
   "outputs": [],
   "source": [
    "games.to_csv(f\"../../testData/{file_name}.csv\", index=False)\n"
   ]
  }
 ],
 "metadata": {
  "kernelspec": {
   "display_name": "Python 3 (ipykernel)",
   "language": "python",
   "name": "python3"
  },
  "language_info": {
   "codemirror_mode": {
    "name": "ipython",
    "version": 3
   },
   "file_extension": ".py",
   "mimetype": "text/x-python",
   "name": "python",
   "nbconvert_exporter": "python",
   "pygments_lexer": "ipython3",
   "version": "3.9.12"
  }
 },
 "nbformat": 4,
 "nbformat_minor": 5
}
