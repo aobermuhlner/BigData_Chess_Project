{
 "cells": [
  {
   "cell_type": "code",
   "execution_count": 63,
   "id": "829d2849-be84-4993-88c9-9ab35174bcc0",
   "metadata": {},
   "outputs": [],
   "source": [
    "import requests\n",
    "\n",
    "def get_chess_games(username, year, month):\n",
    "    url = f\"https://api.chess.com/pub/player/{username}/games/archives\"\n",
    "    print(url)\n",
    "    headers = {\n",
    "        'User-Agent': 'Mozilla/5.0 (Windows NT 10.0; Win64; x64) AppleWebKit/537.36 (KHTML, like Gecko) Chrome/58.0.3029.110 Safari/537.3'\n",
    "    }\n",
    "    response = requests.get(url, headers=headers)\n",
    "    if response.status_code == 200:\n",
    "        games_data = response.json()\n",
    "        structured_data = []\n",
    "        for game in games_data['games']:\n",
    "            game_info = {\n",
    "                'url': game['url'],\n",
    "                'white_username': game['white']['username'],\n",
    "                'black_username': game['black']['username'],\n",
    "                'white_rating': game['white'].get('rating', 'N/A'),\n",
    "                'black_rating': game['black'].get('rating', 'N/A'),\n",
    "                'result': game['white']['result'] + ' - ' + game['black']['result'],\n",
    "                'pgn': game['pgn']\n",
    "            }\n",
    "            structured_data.append(game_info)\n",
    "        return structured_data\n",
    "    else:\n",
    "        print(\"Failed to retrieve games. Status Code:\", response.status_code)\n",
    "        return None\n",
    "    "
   ]
  },
  {
   "cell_type": "code",
   "execution_count": 64,
   "id": "0b8227e9-07b5-4251-a24e-fda79e991894",
   "metadata": {},
   "outputs": [
    {
     "name": "stdout",
     "output_type": "stream",
     "text": [
      "https://api.chess.com/pub/player/Apendra/games/archives\n"
     ]
    },
    {
     "ename": "KeyError",
     "evalue": "'games'",
     "output_type": "error",
     "traceback": [
      "\u001b[1;31m---------------------------------------------------------------------------\u001b[0m",
      "\u001b[1;31mKeyError\u001b[0m                                  Traceback (most recent call last)",
      "Input \u001b[1;32mIn [64]\u001b[0m, in \u001b[0;36m<cell line: 4>\u001b[1;34m()\u001b[0m\n\u001b[0;32m      2\u001b[0m year \u001b[38;5;241m=\u001b[39m \u001b[38;5;124m\"\u001b[39m\u001b[38;5;124m2022\u001b[39m\u001b[38;5;124m\"\u001b[39m\n\u001b[0;32m      3\u001b[0m month \u001b[38;5;241m=\u001b[39m \u001b[38;5;124m\"\u001b[39m\u001b[38;5;124m01\u001b[39m\u001b[38;5;124m\"\u001b[39m\n\u001b[1;32m----> 4\u001b[0m games \u001b[38;5;241m=\u001b[39m \u001b[43mget_chess_games\u001b[49m\u001b[43m(\u001b[49m\u001b[43musername\u001b[49m\u001b[43m,\u001b[49m\u001b[43m \u001b[49m\u001b[43myear\u001b[49m\u001b[43m,\u001b[49m\u001b[43m \u001b[49m\u001b[43mmonth\u001b[49m\u001b[43m)\u001b[49m\n\u001b[0;32m      5\u001b[0m \u001b[38;5;28;01mif\u001b[39;00m games:\n\u001b[0;32m      6\u001b[0m     \u001b[38;5;28;01mfor\u001b[39;00m game \u001b[38;5;129;01min\u001b[39;00m games:\n",
      "Input \u001b[1;32mIn [63]\u001b[0m, in \u001b[0;36mget_chess_games\u001b[1;34m(username, year, month)\u001b[0m\n\u001b[0;32m     11\u001b[0m games_data \u001b[38;5;241m=\u001b[39m response\u001b[38;5;241m.\u001b[39mjson()\n\u001b[0;32m     12\u001b[0m structured_data \u001b[38;5;241m=\u001b[39m []\n\u001b[1;32m---> 13\u001b[0m \u001b[38;5;28;01mfor\u001b[39;00m game \u001b[38;5;129;01min\u001b[39;00m \u001b[43mgames_data\u001b[49m\u001b[43m[\u001b[49m\u001b[38;5;124;43m'\u001b[39;49m\u001b[38;5;124;43mgames\u001b[39;49m\u001b[38;5;124;43m'\u001b[39;49m\u001b[43m]\u001b[49m:\n\u001b[0;32m     14\u001b[0m     game_info \u001b[38;5;241m=\u001b[39m {\n\u001b[0;32m     15\u001b[0m         \u001b[38;5;124m'\u001b[39m\u001b[38;5;124murl\u001b[39m\u001b[38;5;124m'\u001b[39m: game[\u001b[38;5;124m'\u001b[39m\u001b[38;5;124murl\u001b[39m\u001b[38;5;124m'\u001b[39m],\n\u001b[0;32m     16\u001b[0m         \u001b[38;5;124m'\u001b[39m\u001b[38;5;124mwhite_username\u001b[39m\u001b[38;5;124m'\u001b[39m: game[\u001b[38;5;124m'\u001b[39m\u001b[38;5;124mwhite\u001b[39m\u001b[38;5;124m'\u001b[39m][\u001b[38;5;124m'\u001b[39m\u001b[38;5;124musername\u001b[39m\u001b[38;5;124m'\u001b[39m],\n\u001b[1;32m   (...)\u001b[0m\n\u001b[0;32m     21\u001b[0m         \u001b[38;5;124m'\u001b[39m\u001b[38;5;124mpgn\u001b[39m\u001b[38;5;124m'\u001b[39m: game[\u001b[38;5;124m'\u001b[39m\u001b[38;5;124mpgn\u001b[39m\u001b[38;5;124m'\u001b[39m]\n\u001b[0;32m     22\u001b[0m     }\n\u001b[0;32m     23\u001b[0m     structured_data\u001b[38;5;241m.\u001b[39mappend(game_info)\n",
      "\u001b[1;31mKeyError\u001b[0m: 'games'"
     ]
    }
   ],
   "source": [
    "username = \"Apendra\"\n",
    "year = \"2022\"\n",
    "month = \"01\"\n",
    "games = get_chess_games(username, year, month)\n",
    "if games:\n",
    "    for game in games:\n",
    "        print(game)"
   ]
  },
  {
   "cell_type": "code",
   "execution_count": 66,
   "id": "5fe7250f-bd44-401b-a6c5-2a4a4afd1206",
   "metadata": {},
   "outputs": [],
   "source": [
    "from chessdotcom import get_player_profile, Client\n",
    "\n",
    "Client.request_config[\"headers\"][\"User-Agent\"] = (\n",
    "   \"My Python Application. \"\n",
    "   \"Contact me at email@example.com\"\n",
    ")\n",
    "response = get_player_profile(\"Apendra\")\n",
    "\n",
    "player_name = response.json['player']['name']\n",
    "#or\n",
    "player_name = response.player.name"
   ]
  }
 ],
 "metadata": {
  "kernelspec": {
   "display_name": "Python 3 (ipykernel)",
   "language": "python",
   "name": "python3"
  },
  "language_info": {
   "codemirror_mode": {
    "name": "ipython",
    "version": 3
   },
   "file_extension": ".py",
   "mimetype": "text/x-python",
   "name": "python",
   "nbconvert_exporter": "python",
   "pygments_lexer": "ipython3",
   "version": "3.9.12"
  }
 },
 "nbformat": 4,
 "nbformat_minor": 5
}
